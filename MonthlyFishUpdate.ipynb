{
 "cells": [
  {
   "cell_type": "code",
   "execution_count": 0,
   "metadata": {
    "application/vnd.databricks.v1+cell": {
     "cellMetadata": {
      "byteLimit": 2048000,
      "implicitDf": true,
      "rowLimit": 10000
     },
     "inputWidgets": {},
     "nuid": "96106d39-2528-40b5-b4ad-733e4bc91021",
     "showTitle": false,
     "tableResultSettingsMap": {},
     "title": ""
    }
   },
   "outputs": [
    {
     "output_type": "display_data",
     "data": {
      "text/html": [
       "<style scoped>\n",
       "  .table-result-container {\n",
       "    max-height: 300px;\n",
       "    overflow: auto;\n",
       "  }\n",
       "  table, th, td {\n",
       "    border: 1px solid black;\n",
       "    border-collapse: collapse;\n",
       "  }\n",
       "  th, td {\n",
       "    padding: 5px;\n",
       "  }\n",
       "  th {\n",
       "    text-align: left;\n",
       "  }\n",
       "</style><div class='table-result-container'><table class='table-result'><thead style='background-color: white'><tr><th>mo_name</th><th>sp_code</th><th>sp_name</th><th>st</th><th>boattype</th><th>month</th><th>area</th><th>trips</th><th>v_trips</th><th>boatsonf</th><th>tot_area</th><th>n_area</th><th>p_area</th><th>year</th><th>state</th><th>n</th><th>mbluetile</th><th>msandtile</th><th>mgoldtile</th><th>munclasstile</th><th>malb</th><th>mskj</th><th>myft</th><th>mbet</th><th>mwhm</th><th>mbum</th><th>msai</th><th>mwah</th><th>mblushk</th><th>mthrshk</th><th>mbethrsh</th><th>msfnmako</th><th>mlfnmako</th><th>mdskyshk</th><th>mhmmrshk</th><th>mltunny</th><th>mbon</th><th>mkmack</th><th>msmack</th><th>mblktun</th><th>msbarshk</th><th>mswd</th><th>mmakoshk</th><th>mwshk</th><th>mtgrshk</th><th>mstgrshk</th><th>mambrjk</th><th>mdol</th><th>mysbft</th><th>msbft</th><th>mlschbft</th><th>msmdbft</th><th>mlgmdbft</th><th>mlgbft</th><th>muncbft</th><th>mporbgl</th><th>sbluetile</th><th>ssandtile</th><th>sgoldtile</th><th>sunclasstile</th><th>salb</th><th>sskj</th><th>syft</th><th>sbet</th><th>swhm</th><th>sbum</th><th>ssai</th><th>swah</th><th>sblushk</th><th>sthrshk</th><th>sbethrsh</th><th>ssfnmako</th><th>slfnmako</th><th>sdskyshk</th><th>shmmrshk</th><th>sltunny</th><th>sbon</th><th>skmack</th><th>ssmack</th><th>sblktun</th><th>ssbarshk</th><th>sswd</th><th>smakoshk</th><th>swshk</th><th>stgrshk</th><th>sstgrshk</th><th>sambrjk</th><th>sdol</th><th>sysbft</th><th>ssbft</th><th>slschbft</th><th>ssmdbft</th><th>slgmdbft</th><th>slgbft</th><th>suncbft</th><th>sporbgl</th><th>intrcept</th><th>inframe</th><th>outframe</th><th>p_frame</th><th>vp_frame</th><th>exfactor</th><th>vxfactor</th><th>tottrips</th><th>vartrips</th><th>cbluetile</th><th>vbluetile</th><th>csandtile</th><th>vsandtile</th><th>cgoldtile</th><th>vgoldtile</th><th>cunclasstile</th><th>vunclasstile</th><th>calb</th><th>valb</th><th>cskj</th><th>vskj</th><th>cyft</th><th>vyft</th><th>cbet</th><th>vbet</th><th>cwhm</th><th>vwhm</th><th>cbum</th><th>vbum</th><th>csai</th><th>vsai</th><th>cwah</th><th>vwah</th><th>cblushk</th><th>vblushk</th><th>cthrshk</th><th>vthrshk</th><th>cbethrsh</th><th>vbethrsh</th><th>csfnmako</th><th>vsfnmako</th><th>clfnmako</th><th>vlfnmako</th><th>cdskyshk</th><th>vdskyshk</th><th>chmmrshk</th><th>vhmmrshk</th><th>cltunny</th><th>vltunny</th><th>cbon</th><th>vbon</th><th>ckmack</th><th>vkmack</th><th>csmack</th><th>vsmack</th><th>cblktun</th><th>vblktun</th><th>csbarshk</th><th>vsbarshk</th><th>cswd</th><th>vswd</th><th>cmakoshk</th><th>vmakoshk</th><th>cwshk</th><th>vwshk</th><th>ctgrshk</th><th>vtgrshk</th><th>cstgrshk</th><th>vstgrshk</th><th>cambrjk</th><th>vambrjk</th><th>cdol</th><th>vdol</th><th>cysbft</th><th>vysbft</th><th>csbft</th><th>vsbft</th><th>clschbft</th><th>vlschbft</th><th>csmdbft</th><th>vsmdbft</th><th>clgmdbft</th><th>vlgmdbft</th><th>clgbft</th><th>vlgbft</th><th>cuncbft</th><th>vuncbft</th><th>cporbgl</th><th>vporbgl</th><th>kept</th><th>var_kept</th><th>meankept</th><th>s2_kept</th><th>alive</th><th>var_alive</th><th>dead</th><th>var_dead</th><th>weighed</th><th>var_weighed</th></tr></thead><tbody><tr><td>June</td><td>30</td><td>greater amberjack</td><td>VA</td><td>1</td><td>6</td><td>2.0</td><td>125.361404</td><td>2010.074016</td><td>812</td><td>null</td><td>null</td><td>1.0</td><td>2023</td><td>VA</td><td>56</td><td>1.0</td><td>0</td><td>0</td><td>0.0</td><td>0.0</td><td>0.0357142857</td><td>0.9642857143</td><td>0.0</td><td>0.0</td><td>0.0</td><td>0</td><td>0.0</td><td>0</td><td>0.0</td><td>0</td><td>0</td><td>0</td><td>0</td><td>0</td><td>0.0714285714</td><td>0.0</td><td>0.0</td><td>0.0</td><td>0</td><td>0</td><td>0.0357142857</td><td>0</td><td>0</td><td>0</td><td>0</td><td>0.0</td><td>0.2142857143</td><td>0.0</td><td>0.0</td><td>0.0</td><td>0.0</td><td>0.0</td><td>0.0</td><td>0.0</td><td>0.0</td><td>12.581818182</td><td>0</td><td>0</td><td>0.0</td><td>0.0</td><td>0.0350649351</td><td>3.8532467532</td><td>0.0</td><td>0.0</td><td>0.0</td><td>0</td><td>0.0</td><td>0</td><td>0.0</td><td>0</td><td>0</td><td>0</td><td>0</td><td>0</td><td>0.1766233766</td><td>0.0</td><td>0.0</td><td>0.0</td><td>0</td><td>0</td><td>0.0350649351</td><td>0</td><td>0</td><td>0</td><td>0</td><td>0.0</td><td>0.6077922078</td><td>0.0</td><td>0.0</td><td>0.0</td><td>0.0</td><td>0.0</td><td>0.0</td><td>0.0</td><td>0.0</td><td>55</td><td>44</td><td>11</td><td>0.8</td><td>0.0029090909</td><td>1.25</td><td>0.0072337963</td><td>156.70175439</td><td>3239.8827761</td><td>156.70175439</td><td>8028.9624773</td><td>0</td><td>0</td><td>0</td><td>0</td><td>0.0</td><td>0.0</td><td>0.0</td><td>0.0</td><td>5.5964912281</td><td>17.479443253</td><td>151.10526316</td><td>4479.2754564</td><td>0.0</td><td>0.0</td><td>0.0</td><td>0.0</td><td>0.0</td><td>0.0</td><td>0</td><td>0</td><td>0.0</td><td>0.0</td><td>0</td><td>0</td><td>0.0</td><td>0.0</td><td>0</td><td>0</td><td>0</td><td>0</td><td>0</td><td>0</td><td>0</td><td>0</td><td>0</td><td>0</td><td>11.192982456</td><td>83.759043825</td><td>0.0</td><td>0.0</td><td>0.0</td><td>0.0</td><td>0.0</td><td>0.0</td><td>0</td><td>0</td><td>0</td><td>0</td><td>5.5964912281</td><td>17.479443253</td><td>0</td><td>0</td><td>0</td><td>0</td><td>0</td><td>0</td><td>0</td><td>0</td><td>0.0</td><td>0.0</td><td>33.578947368</td><td>380.11708249</td><td>0.0</td><td>0.0</td><td>0.0</td><td>0.0</td><td>0.0</td><td>0.0</td><td>0.0</td><td>0.0</td><td>0.0</td><td>0.0</td><td>0.0</td><td>0.0</td><td>0.0</td><td>0.0</td><td>0.0</td><td>0.0</td><td>0.0</td><td>0.0</td><td>0.0</td><td>0.0</td><td>0.0</td><td>0.0</td><td>0.0</td><td>0.0</td><td>0.0</td><td>0.0</td></tr><tr><td>June</td><td>330</td><td>Atlantic bonito</td><td>VA</td><td>1</td><td>6</td><td>2.0</td><td>125.361404</td><td>2010.074016</td><td>812</td><td>null</td><td>null</td><td>1.0</td><td>2023</td><td>VA</td><td>56</td><td>1.0</td><td>0</td><td>0</td><td>0.0</td><td>0.0</td><td>0.0357142857</td><td>0.9642857143</td><td>0.0</td><td>0.0</td><td>0.0</td><td>0</td><td>0.0</td><td>0</td><td>0.0</td><td>0</td><td>0</td><td>0</td><td>0</td><td>0</td><td>0.0714285714</td><td>0.0</td><td>0.0</td><td>0.0</td><td>0</td><td>0</td><td>0.0357142857</td><td>0</td><td>0</td><td>0</td><td>0</td><td>0.0</td><td>0.2142857143</td><td>0.0</td><td>0.0</td><td>0.0</td><td>0.0</td><td>0.0</td><td>0.0</td><td>0.0</td><td>0.0</td><td>12.581818182</td><td>0</td><td>0</td><td>0.0</td><td>0.0</td><td>0.0350649351</td><td>3.8532467532</td><td>0.0</td><td>0.0</td><td>0.0</td><td>0</td><td>0.0</td><td>0</td><td>0.0</td><td>0</td><td>0</td><td>0</td><td>0</td><td>0</td><td>0.1766233766</td><td>0.0</td><td>0.0</td><td>0.0</td><td>0</td><td>0</td><td>0.0350649351</td><td>0</td><td>0</td><td>0</td><td>0</td><td>0.0</td><td>0.6077922078</td><td>0.0</td><td>0.0</td><td>0.0</td><td>0.0</td><td>0.0</td><td>0.0</td><td>0.0</td><td>0.0</td><td>55</td><td>44</td><td>11</td><td>0.8</td><td>0.0029090909</td><td>1.25</td><td>0.0072337963</td><td>156.70175439</td><td>3239.8827761</td><td>156.70175439</td><td>8028.9624773</td><td>0</td><td>0</td><td>0</td><td>0</td><td>0.0</td><td>0.0</td><td>0.0</td><td>0.0</td><td>5.5964912281</td><td>17.479443253</td><td>151.10526316</td><td>4479.2754564</td><td>0.0</td><td>0.0</td><td>0.0</td><td>0.0</td><td>0.0</td><td>0.0</td><td>0</td><td>0</td><td>0.0</td><td>0.0</td><td>0</td><td>0</td><td>0.0</td><td>0.0</td><td>0</td><td>0</td><td>0</td><td>0</td><td>0</td><td>0</td><td>0</td><td>0</td><td>0</td><td>0</td><td>11.192982456</td><td>83.759043825</td><td>0.0</td><td>0.0</td><td>0.0</td><td>0.0</td><td>0.0</td><td>0.0</td><td>0</td><td>0</td><td>0</td><td>0</td><td>5.5964912281</td><td>17.479443253</td><td>0</td><td>0</td><td>0</td><td>0</td><td>0</td><td>0</td><td>0</td><td>0</td><td>0.0</td><td>0.0</td><td>33.578947368</td><td>380.11708249</td><td>0.0</td><td>0.0</td><td>0.0</td><td>0.0</td><td>0.0</td><td>0.0</td><td>0.0</td><td>0.0</td><td>0.0</td><td>0.0</td><td>0.0</td><td>0.0</td><td>0.0</td><td>0.0</td><td>0.0</td><td>0.0</td><td>0.0</td><td>0.0</td><td>0.0</td><td>0.0</td><td>0.0</td><td>0.0</td><td>0.0</td><td>0.0</td><td>0.0</td><td>0.0</td></tr><tr><td>June</td><td>1050</td><td>dolphin</td><td>VA</td><td>1</td><td>6</td><td>2.0</td><td>125.361404</td><td>2010.074016</td><td>812</td><td>null</td><td>null</td><td>1.0</td><td>2023</td><td>VA</td><td>56</td><td>1.0</td><td>0</td><td>0</td><td>0.0</td><td>0.0</td><td>0.0357142857</td><td>0.9642857143</td><td>0.0</td><td>0.0</td><td>0.0</td><td>0</td><td>0.0</td><td>0</td><td>0.0</td><td>0</td><td>0</td><td>0</td><td>0</td><td>0</td><td>0.0714285714</td><td>0.0</td><td>0.0</td><td>0.0</td><td>0</td><td>0</td><td>0.0357142857</td><td>0</td><td>0</td><td>0</td><td>0</td><td>0.0</td><td>0.2142857143</td><td>0.0</td><td>0.0</td><td>0.0</td><td>0.0</td><td>0.0</td><td>0.0</td><td>0.0</td><td>0.0</td><td>12.581818182</td><td>0</td><td>0</td><td>0.0</td><td>0.0</td><td>0.0350649351</td><td>3.8532467532</td><td>0.0</td><td>0.0</td><td>0.0</td><td>0</td><td>0.0</td><td>0</td><td>0.0</td><td>0</td><td>0</td><td>0</td><td>0</td><td>0</td><td>0.1766233766</td><td>0.0</td><td>0.0</td><td>0.0</td><td>0</td><td>0</td><td>0.0350649351</td><td>0</td><td>0</td><td>0</td><td>0</td><td>0.0</td><td>0.6077922078</td><td>0.0</td><td>0.0</td><td>0.0</td><td>0.0</td><td>0.0</td><td>0.0</td><td>0.0</td><td>0.0</td><td>55</td><td>44</td><td>11</td><td>0.8</td><td>0.0029090909</td><td>1.25</td><td>0.0072337963</td><td>156.70175439</td><td>3239.8827761</td><td>156.70175439</td><td>8028.9624773</td><td>0</td><td>0</td><td>0</td><td>0</td><td>0.0</td><td>0.0</td><td>0.0</td><td>0.0</td><td>5.5964912281</td><td>17.479443253</td><td>151.10526316</td><td>4479.2754564</td><td>0.0</td><td>0.0</td><td>0.0</td><td>0.0</td><td>0.0</td><td>0.0</td><td>0</td><td>0</td><td>0.0</td><td>0.0</td><td>0</td><td>0</td><td>0.0</td><td>0.0</td><td>0</td><td>0</td><td>0</td><td>0</td><td>0</td><td>0</td><td>0</td><td>0</td><td>0</td><td>0</td><td>11.192982456</td><td>83.759043825</td><td>0.0</td><td>0.0</td><td>0.0</td><td>0.0</td><td>0.0</td><td>0.0</td><td>0</td><td>0</td><td>0</td><td>0</td><td>5.5964912281</td><td>17.479443253</td><td>0</td><td>0</td><td>0</td><td>0</td><td>0</td><td>0</td><td>0</td><td>0</td><td>0.0</td><td>0.0</td><td>33.578947368</td><td>380.11708249</td><td>0.0</td><td>0.0</td><td>0.0</td><td>0.0</td><td>0.0</td><td>0.0</td><td>0.0</td><td>0.0</td><td>0.0</td><td>0.0</td><td>0.0</td><td>0.0</td><td>0.0</td><td>0.0</td><td>0.0</td><td>0.0</td><td>33.578947368</td><td>380.11708249</td><td>0.2142857143</td><td>0.6077922078</td><td>0.0</td><td>0.0</td><td>0.0</td><td>0.0</td><td>5.5964912281</td><td>17.479443253</td></tr><tr><td>June</td><td>1940</td><td>king mackerel</td><td>VA</td><td>1</td><td>6</td><td>2.0</td><td>125.361404</td><td>2010.074016</td><td>812</td><td>null</td><td>null</td><td>1.0</td><td>2023</td><td>VA</td><td>56</td><td>1.0</td><td>0</td><td>0</td><td>0.0</td><td>0.0</td><td>0.0357142857</td><td>0.9642857143</td><td>0.0</td><td>0.0</td><td>0.0</td><td>0</td><td>0.0</td><td>0</td><td>0.0</td><td>0</td><td>0</td><td>0</td><td>0</td><td>0</td><td>0.0714285714</td><td>0.0</td><td>0.0</td><td>0.0</td><td>0</td><td>0</td><td>0.0357142857</td><td>0</td><td>0</td><td>0</td><td>0</td><td>0.0</td><td>0.2142857143</td><td>0.0</td><td>0.0</td><td>0.0</td><td>0.0</td><td>0.0</td><td>0.0</td><td>0.0</td><td>0.0</td><td>12.581818182</td><td>0</td><td>0</td><td>0.0</td><td>0.0</td><td>0.0350649351</td><td>3.8532467532</td><td>0.0</td><td>0.0</td><td>0.0</td><td>0</td><td>0.0</td><td>0</td><td>0.0</td><td>0</td><td>0</td><td>0</td><td>0</td><td>0</td><td>0.1766233766</td><td>0.0</td><td>0.0</td><td>0.0</td><td>0</td><td>0</td><td>0.0350649351</td><td>0</td><td>0</td><td>0</td><td>0</td><td>0.0</td><td>0.6077922078</td><td>0.0</td><td>0.0</td><td>0.0</td><td>0.0</td><td>0.0</td><td>0.0</td><td>0.0</td><td>0.0</td><td>55</td><td>44</td><td>11</td><td>0.8</td><td>0.0029090909</td><td>1.25</td><td>0.0072337963</td><td>156.70175439</td><td>3239.8827761</td><td>156.70175439</td><td>8028.9624773</td><td>0</td><td>0</td><td>0</td><td>0</td><td>0.0</td><td>0.0</td><td>0.0</td><td>0.0</td><td>5.5964912281</td><td>17.479443253</td><td>151.10526316</td><td>4479.2754564</td><td>0.0</td><td>0.0</td><td>0.0</td><td>0.0</td><td>0.0</td><td>0.0</td><td>0</td><td>0</td><td>0.0</td><td>0.0</td><td>0</td><td>0</td><td>0.0</td><td>0.0</td><td>0</td><td>0</td><td>0</td><td>0</td><td>0</td><td>0</td><td>0</td><td>0</td><td>0</td><td>0</td><td>11.192982456</td><td>83.759043825</td><td>0.0</td><td>0.0</td><td>0.0</td><td>0.0</td><td>0.0</td><td>0.0</td><td>0</td><td>0</td><td>0</td><td>0</td><td>5.5964912281</td><td>17.479443253</td><td>0</td><td>0</td><td>0</td><td>0</td><td>0</td><td>0</td><td>0</td><td>0</td><td>0.0</td><td>0.0</td><td>33.578947368</td><td>380.11708249</td><td>0.0</td><td>0.0</td><td>0.0</td><td>0.0</td><td>0.0</td><td>0.0</td><td>0.0</td><td>0.0</td><td>0.0</td><td>0.0</td><td>0.0</td><td>0.0</td><td>0.0</td><td>0.0</td><td>0.0</td><td>0.0</td><td>0.0</td><td>0.0</td><td>0.0</td><td>0.0</td><td>0.0</td><td>0.0</td><td>0.0</td><td>0.0</td><td>0.0</td><td>0.0</td></tr><tr><td>June</td><td>2161</td><td>white marlin</td><td>VA</td><td>1</td><td>6</td><td>2.0</td><td>125.361404</td><td>2010.074016</td><td>812</td><td>null</td><td>null</td><td>1.0</td><td>2023</td><td>VA</td><td>56</td><td>1.0</td><td>0</td><td>0</td><td>0.0</td><td>0.0</td><td>0.0357142857</td><td>0.9642857143</td><td>0.0</td><td>0.0</td><td>0.0</td><td>0</td><td>0.0</td><td>0</td><td>0.0</td><td>0</td><td>0</td><td>0</td><td>0</td><td>0</td><td>0.0714285714</td><td>0.0</td><td>0.0</td><td>0.0</td><td>0</td><td>0</td><td>0.0357142857</td><td>0</td><td>0</td><td>0</td><td>0</td><td>0.0</td><td>0.2142857143</td><td>0.0</td><td>0.0</td><td>0.0</td><td>0.0</td><td>0.0</td><td>0.0</td><td>0.0</td><td>0.0</td><td>12.581818182</td><td>0</td><td>0</td><td>0.0</td><td>0.0</td><td>0.0350649351</td><td>3.8532467532</td><td>0.0</td><td>0.0</td><td>0.0</td><td>0</td><td>0.0</td><td>0</td><td>0.0</td><td>0</td><td>0</td><td>0</td><td>0</td><td>0</td><td>0.1766233766</td><td>0.0</td><td>0.0</td><td>0.0</td><td>0</td><td>0</td><td>0.0350649351</td><td>0</td><td>0</td><td>0</td><td>0</td><td>0.0</td><td>0.6077922078</td><td>0.0</td><td>0.0</td><td>0.0</td><td>0.0</td><td>0.0</td><td>0.0</td><td>0.0</td><td>0.0</td><td>55</td><td>44</td><td>11</td><td>0.8</td><td>0.0029090909</td><td>1.25</td><td>0.0072337963</td><td>156.70175439</td><td>3239.8827761</td><td>156.70175439</td><td>8028.9624773</td><td>0</td><td>0</td><td>0</td><td>0</td><td>0.0</td><td>0.0</td><td>0.0</td><td>0.0</td><td>5.5964912281</td><td>17.479443253</td><td>151.10526316</td><td>4479.2754564</td><td>0.0</td><td>0.0</td><td>0.0</td><td>0.0</td><td>0.0</td><td>0.0</td><td>0</td><td>0</td><td>0.0</td><td>0.0</td><td>0</td><td>0</td><td>0.0</td><td>0.0</td><td>0</td><td>0</td><td>0</td><td>0</td><td>0</td><td>0</td><td>0</td><td>0</td><td>0</td><td>0</td><td>11.192982456</td><td>83.759043825</td><td>0.0</td><td>0.0</td><td>0.0</td><td>0.0</td><td>0.0</td><td>0.0</td><td>0</td><td>0</td><td>0</td><td>0</td><td>5.5964912281</td><td>17.479443253</td><td>0</td><td>0</td><td>0</td><td>0</td><td>0</td><td>0</td><td>0</td><td>0</td><td>0.0</td><td>0.0</td><td>33.578947368</td><td>380.11708249</td><td>0.0</td><td>0.0</td><td>0.0</td><td>0.0</td><td>0.0</td><td>0.0</td><td>0.0</td><td>0.0</td><td>0.0</td><td>0.0</td><td>0.0</td><td>0.0</td><td>0.0</td><td>0.0</td><td>0.0</td><td>0.0</td><td>0.0</td><td>0.0</td><td>0.0</td><td>0.0</td><td>2.798245614</td><td>7.8301785165</td><td>0.0</td><td>0.0</td><td>0.0</td><td>0.0</td></tr><tr><td>June</td><td>2171</td><td>blue marlin</td><td>VA</td><td>1</td><td>6</td><td>2.0</td><td>125.361404</td><td>2010.074016</td><td>812</td><td>null</td><td>null</td><td>1.0</td><td>2023</td><td>VA</td><td>56</td><td>1.0</td><td>0</td><td>0</td><td>0.0</td><td>0.0</td><td>0.0357142857</td><td>0.9642857143</td><td>0.0</td><td>0.0</td><td>0.0</td><td>0</td><td>0.0</td><td>0</td><td>0.0</td><td>0</td><td>0</td><td>0</td><td>0</td><td>0</td><td>0.0714285714</td><td>0.0</td><td>0.0</td><td>0.0</td><td>0</td><td>0</td><td>0.0357142857</td><td>0</td><td>0</td><td>0</td><td>0</td><td>0.0</td><td>0.2142857143</td><td>0.0</td><td>0.0</td><td>0.0</td><td>0.0</td><td>0.0</td><td>0.0</td><td>0.0</td><td>0.0</td><td>12.581818182</td><td>0</td><td>0</td><td>0.0</td><td>0.0</td><td>0.0350649351</td><td>3.8532467532</td><td>0.0</td><td>0.0</td><td>0.0</td><td>0</td><td>0.0</td><td>0</td><td>0.0</td><td>0</td><td>0</td><td>0</td><td>0</td><td>0</td><td>0.1766233766</td><td>0.0</td><td>0.0</td><td>0.0</td><td>0</td><td>0</td><td>0.0350649351</td><td>0</td><td>0</td><td>0</td><td>0</td><td>0.0</td><td>0.6077922078</td><td>0.0</td><td>0.0</td><td>0.0</td><td>0.0</td><td>0.0</td><td>0.0</td><td>0.0</td><td>0.0</td><td>55</td><td>44</td><td>11</td><td>0.8</td><td>0.0029090909</td><td>1.25</td><td>0.0072337963</td><td>156.70175439</td><td>3239.8827761</td><td>156.70175439</td><td>8028.9624773</td><td>0</td><td>0</td><td>0</td><td>0</td><td>0.0</td><td>0.0</td><td>0.0</td><td>0.0</td><td>5.5964912281</td><td>17.479443253</td><td>151.10526316</td><td>4479.2754564</td><td>0.0</td><td>0.0</td><td>0.0</td><td>0.0</td><td>0.0</td><td>0.0</td><td>0</td><td>0</td><td>0.0</td><td>0.0</td><td>0</td><td>0</td><td>0.0</td><td>0.0</td><td>0</td><td>0</td><td>0</td><td>0</td><td>0</td><td>0</td><td>0</td><td>0</td><td>0</td><td>0</td><td>11.192982456</td><td>83.759043825</td><td>0.0</td><td>0.0</td><td>0.0</td><td>0.0</td><td>0.0</td><td>0.0</td><td>0</td><td>0</td><td>0</td><td>0</td><td>5.5964912281</td><td>17.479443253</td><td>0</td><td>0</td><td>0</td><td>0</td><td>0</td><td>0</td><td>0</td><td>0</td><td>0.0</td><td>0.0</td><td>33.578947368</td><td>380.11708249</td><td>0.0</td><td>0.0</td><td>0.0</td><td>0.0</td><td>0.0</td><td>0.0</td><td>0.0</td><td>0.0</td><td>0.0</td><td>0.0</td><td>0.0</td><td>0.0</td><td>0.0</td><td>0.0</td><td>0.0</td><td>0.0</td><td>0.0</td><td>0.0</td><td>0.0</td><td>0.0</td><td>0.0</td><td>0.0</td><td>0.0</td><td>0.0</td><td>0.0</td><td>0.0</td></tr><tr><td>June</td><td>3026</td><td>sailfish</td><td>VA</td><td>1</td><td>6</td><td>2.0</td><td>125.361404</td><td>2010.074016</td><td>812</td><td>null</td><td>null</td><td>1.0</td><td>2023</td><td>VA</td><td>56</td><td>1.0</td><td>0</td><td>0</td><td>0.0</td><td>0.0</td><td>0.0357142857</td><td>0.9642857143</td><td>0.0</td><td>0.0</td><td>0.0</td><td>0</td><td>0.0</td><td>0</td><td>0.0</td><td>0</td><td>0</td><td>0</td><td>0</td><td>0</td><td>0.0714285714</td><td>0.0</td><td>0.0</td><td>0.0</td><td>0</td><td>0</td><td>0.0357142857</td><td>0</td><td>0</td><td>0</td><td>0</td><td>0.0</td><td>0.2142857143</td><td>0.0</td><td>0.0</td><td>0.0</td><td>0.0</td><td>0.0</td><td>0.0</td><td>0.0</td><td>0.0</td><td>12.581818182</td><td>0</td><td>0</td><td>0.0</td><td>0.0</td><td>0.0350649351</td><td>3.8532467532</td><td>0.0</td><td>0.0</td><td>0.0</td><td>0</td><td>0.0</td><td>0</td><td>0.0</td><td>0</td><td>0</td><td>0</td><td>0</td><td>0</td><td>0.1766233766</td><td>0.0</td><td>0.0</td><td>0.0</td><td>0</td><td>0</td><td>0.0350649351</td><td>0</td><td>0</td><td>0</td><td>0</td><td>0.0</td><td>0.6077922078</td><td>0.0</td><td>0.0</td><td>0.0</td><td>0.0</td><td>0.0</td><td>0.0</td><td>0.0</td><td>0.0</td><td>55</td><td>44</td><td>11</td><td>0.8</td><td>0.0029090909</td><td>1.25</td><td>0.0072337963</td><td>156.70175439</td><td>3239.8827761</td><td>156.70175439</td><td>8028.9624773</td><td>0</td><td>0</td><td>0</td><td>0</td><td>0.0</td><td>0.0</td><td>0.0</td><td>0.0</td><td>5.5964912281</td><td>17.479443253</td><td>151.10526316</td><td>4479.2754564</td><td>0.0</td><td>0.0</td><td>0.0</td><td>0.0</td><td>0.0</td><td>0.0</td><td>0</td><td>0</td><td>0.0</td><td>0.0</td><td>0</td><td>0</td><td>0.0</td><td>0.0</td><td>0</td><td>0</td><td>0</td><td>0</td><td>0</td><td>0</td><td>0</td><td>0</td><td>0</td><td>0</td><td>11.192982456</td><td>83.759043825</td><td>0.0</td><td>0.0</td><td>0.0</td><td>0.0</td><td>0.0</td><td>0.0</td><td>0</td><td>0</td><td>0</td><td>0</td><td>5.5964912281</td><td>17.479443253</td><td>0</td><td>0</td><td>0</td><td>0</td><td>0</td><td>0</td><td>0</td><td>0</td><td>0.0</td><td>0.0</td><td>33.578947368</td><td>380.11708249</td><td>0.0</td><td>0.0</td><td>0.0</td><td>0.0</td><td>0.0</td><td>0.0</td><td>0.0</td><td>0.0</td><td>0.0</td><td>0.0</td><td>0.0</td><td>0.0</td><td>0.0</td><td>0.0</td><td>0.0</td><td>0.0</td><td>0.0</td><td>0.0</td><td>0.0</td><td>0.0</td><td>0.0</td><td>0.0</td><td>0.0</td><td>0.0</td><td>0.0</td><td>0.0</td></tr><tr><td>June</td><td>3491</td><td>sand tiger</td><td>VA</td><td>1</td><td>6</td><td>2.0</td><td>125.361404</td><td>2010.074016</td><td>812</td><td>null</td><td>null</td><td>1.0</td><td>2023</td><td>VA</td><td>56</td><td>1.0</td><td>0</td><td>0</td><td>0.0</td><td>0.0</td><td>0.0357142857</td><td>0.9642857143</td><td>0.0</td><td>0.0</td><td>0.0</td><td>0</td><td>0.0</td><td>0</td><td>0.0</td><td>0</td><td>0</td><td>0</td><td>0</td><td>0</td><td>0.0714285714</td><td>0.0</td><td>0.0</td><td>0.0</td><td>0</td><td>0</td><td>0.0357142857</td><td>0</td><td>0</td><td>0</td><td>0</td><td>0.0</td><td>0.2142857143</td><td>0.0</td><td>0.0</td><td>0.0</td><td>0.0</td><td>0.0</td><td>0.0</td><td>0.0</td><td>0.0</td><td>12.581818182</td><td>0</td><td>0</td><td>0.0</td><td>0.0</td><td>0.0350649351</td><td>3.8532467532</td><td>0.0</td><td>0.0</td><td>0.0</td><td>0</td><td>0.0</td><td>0</td><td>0.0</td><td>0</td><td>0</td><td>0</td><td>0</td><td>0</td><td>0.1766233766</td><td>0.0</td><td>0.0</td><td>0.0</td><td>0</td><td>0</td><td>0.0350649351</td><td>0</td><td>0</td><td>0</td><td>0</td><td>0.0</td><td>0.6077922078</td><td>0.0</td><td>0.0</td><td>0.0</td><td>0.0</td><td>0.0</td><td>0.0</td><td>0.0</td><td>0.0</td><td>55</td><td>44</td><td>11</td><td>0.8</td><td>0.0029090909</td><td>1.25</td><td>0.0072337963</td><td>156.70175439</td><td>3239.8827761</td><td>156.70175439</td><td>8028.9624773</td><td>0</td><td>0</td><td>0</td><td>0</td><td>0.0</td><td>0.0</td><td>0.0</td><td>0.0</td><td>5.5964912281</td><td>17.479443253</td><td>151.10526316</td><td>4479.2754564</td><td>0.0</td><td>0.0</td><td>0.0</td><td>0.0</td><td>0.0</td><td>0.0</td><td>0</td><td>0</td><td>0.0</td><td>0.0</td><td>0</td><td>0</td><td>0.0</td><td>0.0</td><td>0</td><td>0</td><td>0</td><td>0</td><td>0</td><td>0</td><td>0</td><td>0</td><td>0</td><td>0</td><td>11.192982456</td><td>83.759043825</td><td>0.0</td><td>0.0</td><td>0.0</td><td>0.0</td><td>0.0</td><td>0.0</td><td>0</td><td>0</td><td>0</td><td>0</td><td>5.5964912281</td><td>17.479443253</td><td>0</td><td>0</td><td>0</td><td>0</td><td>0</td><td>0</td><td>0</td><td>0</td><td>0.0</td><td>0.0</td><td>33.578947368</td><td>380.11708249</td><td>0.0</td><td>0.0</td><td>0.0</td><td>0.0</td><td>0.0</td><td>0.0</td><td>0.0</td><td>0.0</td><td>0.0</td><td>0.0</td><td>0.0</td><td>0.0</td><td>0.0</td><td>0.0</td><td>0.0</td><td>0.0</td><td>0.0</td><td>0.0</td><td>0.0</td><td>0.0</td><td>0.0</td><td>0.0</td><td>0.0</td><td>0.0</td><td>0.0</td><td>0.0</td></tr><tr><td>June</td><td>3531</td><td>thresher sharks</td><td>VA</td><td>1</td><td>6</td><td>2.0</td><td>125.361404</td><td>2010.074016</td><td>812</td><td>null</td><td>null</td><td>1.0</td><td>2023</td><td>VA</td><td>56</td><td>1.0</td><td>0</td><td>0</td><td>0.0</td><td>0.0</td><td>0.0357142857</td><td>0.9642857143</td><td>0.0</td><td>0.0</td><td>0.0</td><td>0</td><td>0.0</td><td>0</td><td>0.0</td><td>0</td><td>0</td><td>0</td><td>0</td><td>0</td><td>0.0714285714</td><td>0.0</td><td>0.0</td><td>0.0</td><td>0</td><td>0</td><td>0.0357142857</td><td>0</td><td>0</td><td>0</td><td>0</td><td>0.0</td><td>0.2142857143</td><td>0.0</td><td>0.0</td><td>0.0</td><td>0.0</td><td>0.0</td><td>0.0</td><td>0.0</td><td>0.0</td><td>12.581818182</td><td>0</td><td>0</td><td>0.0</td><td>0.0</td><td>0.0350649351</td><td>3.8532467532</td><td>0.0</td><td>0.0</td><td>0.0</td><td>0</td><td>0.0</td><td>0</td><td>0.0</td><td>0</td><td>0</td><td>0</td><td>0</td><td>0</td><td>0.1766233766</td><td>0.0</td><td>0.0</td><td>0.0</td><td>0</td><td>0</td><td>0.0350649351</td><td>0</td><td>0</td><td>0</td><td>0</td><td>0.0</td><td>0.6077922078</td><td>0.0</td><td>0.0</td><td>0.0</td><td>0.0</td><td>0.0</td><td>0.0</td><td>0.0</td><td>0.0</td><td>55</td><td>44</td><td>11</td><td>0.8</td><td>0.0029090909</td><td>1.25</td><td>0.0072337963</td><td>156.70175439</td><td>3239.8827761</td><td>156.70175439</td><td>8028.9624773</td><td>0</td><td>0</td><td>0</td><td>0</td><td>0.0</td><td>0.0</td><td>0.0</td><td>0.0</td><td>5.5964912281</td><td>17.479443253</td><td>151.10526316</td><td>4479.2754564</td><td>0.0</td><td>0.0</td><td>0.0</td><td>0.0</td><td>0.0</td><td>0.0</td><td>0</td><td>0</td><td>0.0</td><td>0.0</td><td>0</td><td>0</td><td>0.0</td><td>0.0</td><td>0</td><td>0</td><td>0</td><td>0</td><td>0</td><td>0</td><td>0</td><td>0</td><td>0</td><td>0</td><td>11.192982456</td><td>83.759043825</td><td>0.0</td><td>0.0</td><td>0.0</td><td>0.0</td><td>0.0</td><td>0.0</td><td>0</td><td>0</td><td>0</td><td>0</td><td>5.5964912281</td><td>17.479443253</td><td>0</td><td>0</td><td>0</td><td>0</td><td>0</td><td>0</td><td>0</td><td>0</td><td>0.0</td><td>0.0</td><td>33.578947368</td><td>380.11708249</td><td>0.0</td><td>0.0</td><td>0.0</td><td>0.0</td><td>0.0</td><td>0.0</td><td>0.0</td><td>0.0</td><td>0.0</td><td>0.0</td><td>0.0</td><td>0.0</td><td>0.0</td><td>0.0</td><td>0.0</td><td>0.0</td><td>0.0</td><td>0.0</td><td>0.0</td><td>0.0</td><td>0.0</td><td>0.0</td><td>0.0</td><td>0.0</td><td>0.0</td><td>0.0</td></tr><tr><td>June</td><td>3541</td><td>bigeye thresher</td><td>VA</td><td>1</td><td>6</td><td>2.0</td><td>125.361404</td><td>2010.074016</td><td>812</td><td>null</td><td>null</td><td>1.0</td><td>2023</td><td>VA</td><td>56</td><td>1.0</td><td>0</td><td>0</td><td>0.0</td><td>0.0</td><td>0.0357142857</td><td>0.9642857143</td><td>0.0</td><td>0.0</td><td>0.0</td><td>0</td><td>0.0</td><td>0</td><td>0.0</td><td>0</td><td>0</td><td>0</td><td>0</td><td>0</td><td>0.0714285714</td><td>0.0</td><td>0.0</td><td>0.0</td><td>0</td><td>0</td><td>0.0357142857</td><td>0</td><td>0</td><td>0</td><td>0</td><td>0.0</td><td>0.2142857143</td><td>0.0</td><td>0.0</td><td>0.0</td><td>0.0</td><td>0.0</td><td>0.0</td><td>0.0</td><td>0.0</td><td>12.581818182</td><td>0</td><td>0</td><td>0.0</td><td>0.0</td><td>0.0350649351</td><td>3.8532467532</td><td>0.0</td><td>0.0</td><td>0.0</td><td>0</td><td>0.0</td><td>0</td><td>0.0</td><td>0</td><td>0</td><td>0</td><td>0</td><td>0</td><td>0.1766233766</td><td>0.0</td><td>0.0</td><td>0.0</td><td>0</td><td>0</td><td>0.0350649351</td><td>0</td><td>0</td><td>0</td><td>0</td><td>0.0</td><td>0.6077922078</td><td>0.0</td><td>0.0</td><td>0.0</td><td>0.0</td><td>0.0</td><td>0.0</td><td>0.0</td><td>0.0</td><td>55</td><td>44</td><td>11</td><td>0.8</td><td>0.0029090909</td><td>1.25</td><td>0.0072337963</td><td>156.70175439</td><td>3239.8827761</td><td>156.70175439</td><td>8028.9624773</td><td>0</td><td>0</td><td>0</td><td>0</td><td>0.0</td><td>0.0</td><td>0.0</td><td>0.0</td><td>5.5964912281</td><td>17.479443253</td><td>151.10526316</td><td>4479.2754564</td><td>0.0</td><td>0.0</td><td>0.0</td><td>0.0</td><td>0.0</td><td>0.0</td><td>0</td><td>0</td><td>0.0</td><td>0.0</td><td>0</td><td>0</td><td>0.0</td><td>0.0</td><td>0</td><td>0</td><td>0</td><td>0</td><td>0</td><td>0</td><td>0</td><td>0</td><td>0</td><td>0</td><td>11.192982456</td><td>83.759043825</td><td>0.0</td><td>0.0</td><td>0.0</td><td>0.0</td><td>0.0</td><td>0.0</td><td>0</td><td>0</td><td>0</td><td>0</td><td>5.5964912281</td><td>17.479443253</td><td>0</td><td>0</td><td>0</td><td>0</td><td>0</td><td>0</td><td>0</td><td>0</td><td>0.0</td><td>0.0</td><td>33.578947368</td><td>380.11708249</td><td>0.0</td><td>0.0</td><td>0.0</td><td>0.0</td><td>0.0</td><td>0.0</td><td>0.0</td><td>0.0</td><td>0.0</td><td>0.0</td><td>0.0</td><td>0.0</td><td>0.0</td><td>0.0</td><td>0.0</td><td>0.0</td><td>0.0</td><td>0.0</td><td>0.0</td><td>0.0</td><td>0.0</td><td>0.0</td><td>0.0</td><td>0.0</td><td>0.0</td><td>0.0</td></tr></tbody></table></div>"
      ]
     },
     "metadata": {
      "application/vnd.databricks.v1+output": {
       "addedWidgets": {},
       "aggData": [],
       "aggError": "",
       "aggOverflow": false,
       "aggSchema": [],
       "aggSeriesLimitReached": false,
       "aggType": "",
       "arguments": {},
       "columnCustomDisplayInfos": {},
       "data": [
        [
         "June",
         30,
         "greater amberjack",
         "VA",
         1,
         6,
         2.0,
         125.361404,
         2010.074016,
         812,
         null,
         null,
         1.0,
         2023,
         "VA",
         56,
         1.0,
         0,
         0,
         0.0,
         0.0,
         0.0357142857,
         0.9642857143,
         0.0,
         0.0,
         0.0,
         0,
         0.0,
         0,
         0.0,
         0,
         0,
         0,
         0,
         0,
         0.0714285714,
         0.0,
         0.0,
         0.0,
         0,
         0,
         0.0357142857,
         0,
         0,
         0,
         0,
         0.0,
         0.2142857143,
         0.0,
         0.0,
         0.0,
         0.0,
         0.0,
         0.0,
         0.0,
         0.0,
         12.581818182,
         0,
         0,
         0.0,
         0.0,
         0.0350649351,
         3.8532467532,
         0.0,
         0.0,
         0.0,
         0,
         0.0,
         0,
         0.0,
         0,
         0,
         0,
         0,
         0,
         0.1766233766,
         0.0,
         0.0,
         0.0,
         0,
         0,
         0.0350649351,
         0,
         0,
         0,
         0,
         0.0,
         0.6077922078,
         0.0,
         0.0,
         0.0,
         0.0,
         0.0,
         0.0,
         0.0,
         0.0,
         55,
         44,
         11,
         0.8,
         0.0029090909,
         1.25,
         0.0072337963,
         156.70175439,
         3239.8827761,
         156.70175439,
         8028.9624773,
         0,
         0,
         0,
         0,
         0.0,
         0.0,
         0.0,
         0.0,
         5.5964912281,
         17.479443253,
         151.10526316,
         4479.2754564,
         0.0,
         0.0,
         0.0,
         0.0,
         0.0,
         0.0,
         0,
         0,
         0.0,
         0.0,
         0,
         0,
         0.0,
         0.0,
         0,
         0,
         0,
         0,
         0,
         0,
         0,
         0,
         0,
         0,
         11.192982456,
         83.759043825,
         0.0,
         0.0,
         0.0,
         0.0,
         0.0,
         0.0,
         0,
         0,
         0,
         0,
         5.5964912281,
         17.479443253,
         0,
         0,
         0,
         0,
         0,
         0,
         0,
         0,
         0.0,
         0.0,
         33.578947368,
         380.11708249,
         0.0,
         0.0,
         0.0,
         0.0,
         0.0,
         0.0,
         0.0,
         0.0,
         0.0,
         0.0,
         0.0,
         0.0,
         0.0,
         0.0,
         0.0,
         0.0,
         0.0,
         0.0,
         0.0,
         0.0,
         0.0,
         0.0,
         0.0,
         0.0,
         0.0,
         0.0
        ],
        [
         "June",
         330,
         "Atlantic bonito",
         "VA",
         1,
         6,
         2.0,
         125.361404,
         2010.074016,
         812,
         null,
         null,
         1.0,
         2023,
         "VA",
         56,
         1.0,
         0,
         0,
         0.0,
         0.0,
         0.0357142857,
         0.9642857143,
         0.0,
         0.0,
         0.0,
         0,
         0.0,
         0,
         0.0,
         0,
         0,
         0,
         0,
         0,
         0.0714285714,
         0.0,
         0.0,
         0.0,
         0,
         0,
         0.0357142857,
         0,
         0,
         0,
         0,
         0.0,
         0.2142857143,
         0.0,
         0.0,
         0.0,
         0.0,
         0.0,
         0.0,
         0.0,
         0.0,
         12.581818182,
         0,
         0,
         0.0,
         0.0,
         0.0350649351,
         3.8532467532,
         0.0,
         0.0,
         0.0,
         0,
         0.0,
         0,
         0.0,
         0,
         0,
         0,
         0,
         0,
         0.1766233766,
         0.0,
         0.0,
         0.0,
         0,
         0,
         0.0350649351,
         0,
         0,
         0,
         0,
         0.0,
         0.6077922078,
         0.0,
         0.0,
         0.0,
         0.0,
         0.0,
         0.0,
         0.0,
         0.0,
         55,
         44,
         11,
         0.8,
         0.0029090909,
         1.25,
         0.0072337963,
         156.70175439,
         3239.8827761,
         156.70175439,
         8028.9624773,
         0,
         0,
         0,
         0,
         0.0,
         0.0,
         0.0,
         0.0,
         5.5964912281,
         17.479443253,
         151.10526316,
         4479.2754564,
         0.0,
         0.0,
         0.0,
         0.0,
         0.0,
         0.0,
         0,
         0,
         0.0,
         0.0,
         0,
         0,
         0.0,
         0.0,
         0,
         0,
         0,
         0,
         0,
         0,
         0,
         0,
         0,
         0,
         11.192982456,
         83.759043825,
         0.0,
         0.0,
         0.0,
         0.0,
         0.0,
         0.0,
         0,
         0,
         0,
         0,
         5.5964912281,
         17.479443253,
         0,
         0,
         0,
         0,
         0,
         0,
         0,
         0,
         0.0,
         0.0,
         33.578947368,
         380.11708249,
         0.0,
         0.0,
         0.0,
         0.0,
         0.0,
         0.0,
         0.0,
         0.0,
         0.0,
         0.0,
         0.0,
         0.0,
         0.0,
         0.0,
         0.0,
         0.0,
         0.0,
         0.0,
         0.0,
         0.0,
         0.0,
         0.0,
         0.0,
         0.0,
         0.0,
         0.0
        ],
        [
         "June",
         1050,
         "dolphin",
         "VA",
         1,
         6,
         2.0,
         125.361404,
         2010.074016,
         812,
         null,
         null,
         1.0,
         2023,
         "VA",
         56,
         1.0,
         0,
         0,
         0.0,
         0.0,
         0.0357142857,
         0.9642857143,
         0.0,
         0.0,
         0.0,
         0,
         0.0,
         0,
         0.0,
         0,
         0,
         0,
         0,
         0,
         0.0714285714,
         0.0,
         0.0,
         0.0,
         0,
         0,
         0.0357142857,
         0,
         0,
         0,
         0,
         0.0,
         0.2142857143,
         0.0,
         0.0,
         0.0,
         0.0,
         0.0,
         0.0,
         0.0,
         0.0,
         12.581818182,
         0,
         0,
         0.0,
         0.0,
         0.0350649351,
         3.8532467532,
         0.0,
         0.0,
         0.0,
         0,
         0.0,
         0,
         0.0,
         0,
         0,
         0,
         0,
         0,
         0.1766233766,
         0.0,
         0.0,
         0.0,
         0,
         0,
         0.0350649351,
         0,
         0,
         0,
         0,
         0.0,
         0.6077922078,
         0.0,
         0.0,
         0.0,
         0.0,
         0.0,
         0.0,
         0.0,
         0.0,
         55,
         44,
         11,
         0.8,
         0.0029090909,
         1.25,
         0.0072337963,
         156.70175439,
         3239.8827761,
         156.70175439,
         8028.9624773,
         0,
         0,
         0,
         0,
         0.0,
         0.0,
         0.0,
         0.0,
         5.5964912281,
         17.479443253,
         151.10526316,
         4479.2754564,
         0.0,
         0.0,
         0.0,
         0.0,
         0.0,
         0.0,
         0,
         0,
         0.0,
         0.0,
         0,
         0,
         0.0,
         0.0,
         0,
         0,
         0,
         0,
         0,
         0,
         0,
         0,
         0,
         0,
         11.192982456,
         83.759043825,
         0.0,
         0.0,
         0.0,
         0.0,
         0.0,
         0.0,
         0,
         0,
         0,
         0,
         5.5964912281,
         17.479443253,
         0,
         0,
         0,
         0,
         0,
         0,
         0,
         0,
         0.0,
         0.0,
         33.578947368,
         380.11708249,
         0.0,
         0.0,
         0.0,
         0.0,
         0.0,
         0.0,
         0.0,
         0.0,
         0.0,
         0.0,
         0.0,
         0.0,
         0.0,
         0.0,
         0.0,
         0.0,
         33.578947368,
         380.11708249,
         0.2142857143,
         0.6077922078,
         0.0,
         0.0,
         0.0,
         0.0,
         5.5964912281,
         17.479443253
        ],
        [
         "June",
         1940,
         "king mackerel",
         "VA",
         1,
         6,
         2.0,
         125.361404,
         2010.074016,
         812,
         null,
         null,
         1.0,
         2023,
         "VA",
         56,
         1.0,
         0,
         0,
         0.0,
         0.0,
         0.0357142857,
         0.9642857143,
         0.0,
         0.0,
         0.0,
         0,
         0.0,
         0,
         0.0,
         0,
         0,
         0,
         0,
         0,
         0.0714285714,
         0.0,
         0.0,
         0.0,
         0,
         0,
         0.0357142857,
         0,
         0,
         0,
         0,
         0.0,
         0.2142857143,
         0.0,
         0.0,
         0.0,
         0.0,
         0.0,
         0.0,
         0.0,
         0.0,
         12.581818182,
         0,
         0,
         0.0,
         0.0,
         0.0350649351,
         3.8532467532,
         0.0,
         0.0,
         0.0,
         0,
         0.0,
         0,
         0.0,
         0,
         0,
         0,
         0,
         0,
         0.1766233766,
         0.0,
         0.0,
         0.0,
         0,
         0,
         0.0350649351,
         0,
         0,
         0,
         0,
         0.0,
         0.6077922078,
         0.0,
         0.0,
         0.0,
         0.0,
         0.0,
         0.0,
         0.0,
         0.0,
         55,
         44,
         11,
         0.8,
         0.0029090909,
         1.25,
         0.0072337963,
         156.70175439,
         3239.8827761,
         156.70175439,
         8028.9624773,
         0,
         0,
         0,
         0,
         0.0,
         0.0,
         0.0,
         0.0,
         5.5964912281,
         17.479443253,
         151.10526316,
         4479.2754564,
         0.0,
         0.0,
         0.0,
         0.0,
         0.0,
         0.0,
         0,
         0,
         0.0,
         0.0,
         0,
         0,
         0.0,
         0.0,
         0,
         0,
         0,
         0,
         0,
         0,
         0,
         0,
         0,
         0,
         11.192982456,
         83.759043825,
         0.0,
         0.0,
         0.0,
         0.0,
         0.0,
         0.0,
         0,
         0,
         0,
         0,
         5.5964912281,
         17.479443253,
         0,
         0,
         0,
         0,
         0,
         0,
         0,
         0,
         0.0,
         0.0,
         33.578947368,
         380.11708249,
         0.0,
         0.0,
         0.0,
         0.0,
         0.0,
         0.0,
         0.0,
         0.0,
         0.0,
         0.0,
         0.0,
         0.0,
         0.0,
         0.0,
         0.0,
         0.0,
         0.0,
         0.0,
         0.0,
         0.0,
         0.0,
         0.0,
         0.0,
         0.0,
         0.0,
         0.0
        ],
        [
         "June",
         2161,
         "white marlin",
         "VA",
         1,
         6,
         2.0,
         125.361404,
         2010.074016,
         812,
         null,
         null,
         1.0,
         2023,
         "VA",
         56,
         1.0,
         0,
         0,
         0.0,
         0.0,
         0.0357142857,
         0.9642857143,
         0.0,
         0.0,
         0.0,
         0,
         0.0,
         0,
         0.0,
         0,
         0,
         0,
         0,
         0,
         0.0714285714,
         0.0,
         0.0,
         0.0,
         0,
         0,
         0.0357142857,
         0,
         0,
         0,
         0,
         0.0,
         0.2142857143,
         0.0,
         0.0,
         0.0,
         0.0,
         0.0,
         0.0,
         0.0,
         0.0,
         12.581818182,
         0,
         0,
         0.0,
         0.0,
         0.0350649351,
         3.8532467532,
         0.0,
         0.0,
         0.0,
         0,
         0.0,
         0,
         0.0,
         0,
         0,
         0,
         0,
         0,
         0.1766233766,
         0.0,
         0.0,
         0.0,
         0,
         0,
         0.0350649351,
         0,
         0,
         0,
         0,
         0.0,
         0.6077922078,
         0.0,
         0.0,
         0.0,
         0.0,
         0.0,
         0.0,
         0.0,
         0.0,
         55,
         44,
         11,
         0.8,
         0.0029090909,
         1.25,
         0.0072337963,
         156.70175439,
         3239.8827761,
         156.70175439,
         8028.9624773,
         0,
         0,
         0,
         0,
         0.0,
         0.0,
         0.0,
         0.0,
         5.5964912281,
         17.479443253,
         151.10526316,
         4479.2754564,
         0.0,
         0.0,
         0.0,
         0.0,
         0.0,
         0.0,
         0,
         0,
         0.0,
         0.0,
         0,
         0,
         0.0,
         0.0,
         0,
         0,
         0,
         0,
         0,
         0,
         0,
         0,
         0,
         0,
         11.192982456,
         83.759043825,
         0.0,
         0.0,
         0.0,
         0.0,
         0.0,
         0.0,
         0,
         0,
         0,
         0,
         5.5964912281,
         17.479443253,
         0,
         0,
         0,
         0,
         0,
         0,
         0,
         0,
         0.0,
         0.0,
         33.578947368,
         380.11708249,
         0.0,
         0.0,
         0.0,
         0.0,
         0.0,
         0.0,
         0.0,
         0.0,
         0.0,
         0.0,
         0.0,
         0.0,
         0.0,
         0.0,
         0.0,
         0.0,
         0.0,
         0.0,
         0.0,
         0.0,
         2.798245614,
         7.8301785165,
         0.0,
         0.0,
         0.0,
         0.0
        ],
        [
         "June",
         2171,
         "blue marlin",
         "VA",
         1,
         6,
         2.0,
         125.361404,
         2010.074016,
         812,
         null,
         null,
         1.0,
         2023,
         "VA",
         56,
         1.0,
         0,
         0,
         0.0,
         0.0,
         0.0357142857,
         0.9642857143,
         0.0,
         0.0,
         0.0,
         0,
         0.0,
         0,
         0.0,
         0,
         0,
         0,
         0,
         0,
         0.0714285714,
         0.0,
         0.0,
         0.0,
         0,
         0,
         0.0357142857,
         0,
         0,
         0,
         0,
         0.0,
         0.2142857143,
         0.0,
         0.0,
         0.0,
         0.0,
         0.0,
         0.0,
         0.0,
         0.0,
         12.581818182,
         0,
         0,
         0.0,
         0.0,
         0.0350649351,
         3.8532467532,
         0.0,
         0.0,
         0.0,
         0,
         0.0,
         0,
         0.0,
         0,
         0,
         0,
         0,
         0,
         0.1766233766,
         0.0,
         0.0,
         0.0,
         0,
         0,
         0.0350649351,
         0,
         0,
         0,
         0,
         0.0,
         0.6077922078,
         0.0,
         0.0,
         0.0,
         0.0,
         0.0,
         0.0,
         0.0,
         0.0,
         55,
         44,
         11,
         0.8,
         0.0029090909,
         1.25,
         0.0072337963,
         156.70175439,
         3239.8827761,
         156.70175439,
         8028.9624773,
         0,
         0,
         0,
         0,
         0.0,
         0.0,
         0.0,
         0.0,
         5.5964912281,
         17.479443253,
         151.10526316,
         4479.2754564,
         0.0,
         0.0,
         0.0,
         0.0,
         0.0,
         0.0,
         0,
         0,
         0.0,
         0.0,
         0,
         0,
         0.0,
         0.0,
         0,
         0,
         0,
         0,
         0,
         0,
         0,
         0,
         0,
         0,
         11.192982456,
         83.759043825,
         0.0,
         0.0,
         0.0,
         0.0,
         0.0,
         0.0,
         0,
         0,
         0,
         0,
         5.5964912281,
         17.479443253,
         0,
         0,
         0,
         0,
         0,
         0,
         0,
         0,
         0.0,
         0.0,
         33.578947368,
         380.11708249,
         0.0,
         0.0,
         0.0,
         0.0,
         0.0,
         0.0,
         0.0,
         0.0,
         0.0,
         0.0,
         0.0,
         0.0,
         0.0,
         0.0,
         0.0,
         0.0,
         0.0,
         0.0,
         0.0,
         0.0,
         0.0,
         0.0,
         0.0,
         0.0,
         0.0,
         0.0
        ],
        [
         "June",
         3026,
         "sailfish",
         "VA",
         1,
         6,
         2.0,
         125.361404,
         2010.074016,
         812,
         null,
         null,
         1.0,
         2023,
         "VA",
         56,
         1.0,
         0,
         0,
         0.0,
         0.0,
         0.0357142857,
         0.9642857143,
         0.0,
         0.0,
         0.0,
         0,
         0.0,
         0,
         0.0,
         0,
         0,
         0,
         0,
         0,
         0.0714285714,
         0.0,
         0.0,
         0.0,
         0,
         0,
         0.0357142857,
         0,
         0,
         0,
         0,
         0.0,
         0.2142857143,
         0.0,
         0.0,
         0.0,
         0.0,
         0.0,
         0.0,
         0.0,
         0.0,
         12.581818182,
         0,
         0,
         0.0,
         0.0,
         0.0350649351,
         3.8532467532,
         0.0,
         0.0,
         0.0,
         0,
         0.0,
         0,
         0.0,
         0,
         0,
         0,
         0,
         0,
         0.1766233766,
         0.0,
         0.0,
         0.0,
         0,
         0,
         0.0350649351,
         0,
         0,
         0,
         0,
         0.0,
         0.6077922078,
         0.0,
         0.0,
         0.0,
         0.0,
         0.0,
         0.0,
         0.0,
         0.0,
         55,
         44,
         11,
         0.8,
         0.0029090909,
         1.25,
         0.0072337963,
         156.70175439,
         3239.8827761,
         156.70175439,
         8028.9624773,
         0,
         0,
         0,
         0,
         0.0,
         0.0,
         0.0,
         0.0,
         5.5964912281,
         17.479443253,
         151.10526316,
         4479.2754564,
         0.0,
         0.0,
         0.0,
         0.0,
         0.0,
         0.0,
         0,
         0,
         0.0,
         0.0,
         0,
         0,
         0.0,
         0.0,
         0,
         0,
         0,
         0,
         0,
         0,
         0,
         0,
         0,
         0,
         11.192982456,
         83.759043825,
         0.0,
         0.0,
         0.0,
         0.0,
         0.0,
         0.0,
         0,
         0,
         0,
         0,
         5.5964912281,
         17.479443253,
         0,
         0,
         0,
         0,
         0,
         0,
         0,
         0,
         0.0,
         0.0,
         33.578947368,
         380.11708249,
         0.0,
         0.0,
         0.0,
         0.0,
         0.0,
         0.0,
         0.0,
         0.0,
         0.0,
         0.0,
         0.0,
         0.0,
         0.0,
         0.0,
         0.0,
         0.0,
         0.0,
         0.0,
         0.0,
         0.0,
         0.0,
         0.0,
         0.0,
         0.0,
         0.0,
         0.0
        ],
        [
         "June",
         3491,
         "sand tiger",
         "VA",
         1,
         6,
         2.0,
         125.361404,
         2010.074016,
         812,
         null,
         null,
         1.0,
         2023,
         "VA",
         56,
         1.0,
         0,
         0,
         0.0,
         0.0,
         0.0357142857,
         0.9642857143,
         0.0,
         0.0,
         0.0,
         0,
         0.0,
         0,
         0.0,
         0,
         0,
         0,
         0,
         0,
         0.0714285714,
         0.0,
         0.0,
         0.0,
         0,
         0,
         0.0357142857,
         0,
         0,
         0,
         0,
         0.0,
         0.2142857143,
         0.0,
         0.0,
         0.0,
         0.0,
         0.0,
         0.0,
         0.0,
         0.0,
         12.581818182,
         0,
         0,
         0.0,
         0.0,
         0.0350649351,
         3.8532467532,
         0.0,
         0.0,
         0.0,
         0,
         0.0,
         0,
         0.0,
         0,
         0,
         0,
         0,
         0,
         0.1766233766,
         0.0,
         0.0,
         0.0,
         0,
         0,
         0.0350649351,
         0,
         0,
         0,
         0,
         0.0,
         0.6077922078,
         0.0,
         0.0,
         0.0,
         0.0,
         0.0,
         0.0,
         0.0,
         0.0,
         55,
         44,
         11,
         0.8,
         0.0029090909,
         1.25,
         0.0072337963,
         156.70175439,
         3239.8827761,
         156.70175439,
         8028.9624773,
         0,
         0,
         0,
         0,
         0.0,
         0.0,
         0.0,
         0.0,
         5.5964912281,
         17.479443253,
         151.10526316,
         4479.2754564,
         0.0,
         0.0,
         0.0,
         0.0,
         0.0,
         0.0,
         0,
         0,
         0.0,
         0.0,
         0,
         0,
         0.0,
         0.0,
         0,
         0,
         0,
         0,
         0,
         0,
         0,
         0,
         0,
         0,
         11.192982456,
         83.759043825,
         0.0,
         0.0,
         0.0,
         0.0,
         0.0,
         0.0,
         0,
         0,
         0,
         0,
         5.5964912281,
         17.479443253,
         0,
         0,
         0,
         0,
         0,
         0,
         0,
         0,
         0.0,
         0.0,
         33.578947368,
         380.11708249,
         0.0,
         0.0,
         0.0,
         0.0,
         0.0,
         0.0,
         0.0,
         0.0,
         0.0,
         0.0,
         0.0,
         0.0,
         0.0,
         0.0,
         0.0,
         0.0,
         0.0,
         0.0,
         0.0,
         0.0,
         0.0,
         0.0,
         0.0,
         0.0,
         0.0,
         0.0
        ],
        [
         "June",
         3531,
         "thresher sharks",
         "VA",
         1,
         6,
         2.0,
         125.361404,
         2010.074016,
         812,
         null,
         null,
         1.0,
         2023,
         "VA",
         56,
         1.0,
         0,
         0,
         0.0,
         0.0,
         0.0357142857,
         0.9642857143,
         0.0,
         0.0,
         0.0,
         0,
         0.0,
         0,
         0.0,
         0,
         0,
         0,
         0,
         0,
         0.0714285714,
         0.0,
         0.0,
         0.0,
         0,
         0,
         0.0357142857,
         0,
         0,
         0,
         0,
         0.0,
         0.2142857143,
         0.0,
         0.0,
         0.0,
         0.0,
         0.0,
         0.0,
         0.0,
         0.0,
         12.581818182,
         0,
         0,
         0.0,
         0.0,
         0.0350649351,
         3.8532467532,
         0.0,
         0.0,
         0.0,
         0,
         0.0,
         0,
         0.0,
         0,
         0,
         0,
         0,
         0,
         0.1766233766,
         0.0,
         0.0,
         0.0,
         0,
         0,
         0.0350649351,
         0,
         0,
         0,
         0,
         0.0,
         0.6077922078,
         0.0,
         0.0,
         0.0,
         0.0,
         0.0,
         0.0,
         0.0,
         0.0,
         55,
         44,
         11,
         0.8,
         0.0029090909,
         1.25,
         0.0072337963,
         156.70175439,
         3239.8827761,
         156.70175439,
         8028.9624773,
         0,
         0,
         0,
         0,
         0.0,
         0.0,
         0.0,
         0.0,
         5.5964912281,
         17.479443253,
         151.10526316,
         4479.2754564,
         0.0,
         0.0,
         0.0,
         0.0,
         0.0,
         0.0,
         0,
         0,
         0.0,
         0.0,
         0,
         0,
         0.0,
         0.0,
         0,
         0,
         0,
         0,
         0,
         0,
         0,
         0,
         0,
         0,
         11.192982456,
         83.759043825,
         0.0,
         0.0,
         0.0,
         0.0,
         0.0,
         0.0,
         0,
         0,
         0,
         0,
         5.5964912281,
         17.479443253,
         0,
         0,
         0,
         0,
         0,
         0,
         0,
         0,
         0.0,
         0.0,
         33.578947368,
         380.11708249,
         0.0,
         0.0,
         0.0,
         0.0,
         0.0,
         0.0,
         0.0,
         0.0,
         0.0,
         0.0,
         0.0,
         0.0,
         0.0,
         0.0,
         0.0,
         0.0,
         0.0,
         0.0,
         0.0,
         0.0,
         0.0,
         0.0,
         0.0,
         0.0,
         0.0,
         0.0
        ],
        [
         "June",
         3541,
         "bigeye thresher",
         "VA",
         1,
         6,
         2.0,
         125.361404,
         2010.074016,
         812,
         null,
         null,
         1.0,
         2023,
         "VA",
         56,
         1.0,
         0,
         0,
         0.0,
         0.0,
         0.0357142857,
         0.9642857143,
         0.0,
         0.0,
         0.0,
         0,
         0.0,
         0,
         0.0,
         0,
         0,
         0,
         0,
         0,
         0.0714285714,
         0.0,
         0.0,
         0.0,
         0,
         0,
         0.0357142857,
         0,
         0,
         0,
         0,
         0.0,
         0.2142857143,
         0.0,
         0.0,
         0.0,
         0.0,
         0.0,
         0.0,
         0.0,
         0.0,
         12.581818182,
         0,
         0,
         0.0,
         0.0,
         0.0350649351,
         3.8532467532,
         0.0,
         0.0,
         0.0,
         0,
         0.0,
         0,
         0.0,
         0,
         0,
         0,
         0,
         0,
         0.1766233766,
         0.0,
         0.0,
         0.0,
         0,
         0,
         0.0350649351,
         0,
         0,
         0,
         0,
         0.0,
         0.6077922078,
         0.0,
         0.0,
         0.0,
         0.0,
         0.0,
         0.0,
         0.0,
         0.0,
         55,
         44,
         11,
         0.8,
         0.0029090909,
         1.25,
         0.0072337963,
         156.70175439,
         3239.8827761,
         156.70175439,
         8028.9624773,
         0,
         0,
         0,
         0,
         0.0,
         0.0,
         0.0,
         0.0,
         5.5964912281,
         17.479443253,
         151.10526316,
         4479.2754564,
         0.0,
         0.0,
         0.0,
         0.0,
         0.0,
         0.0,
         0,
         0,
         0.0,
         0.0,
         0,
         0,
         0.0,
         0.0,
         0,
         0,
         0,
         0,
         0,
         0,
         0,
         0,
         0,
         0,
         11.192982456,
         83.759043825,
         0.0,
         0.0,
         0.0,
         0.0,
         0.0,
         0.0,
         0,
         0,
         0,
         0,
         5.5964912281,
         17.479443253,
         0,
         0,
         0,
         0,
         0,
         0,
         0,
         0,
         0.0,
         0.0,
         33.578947368,
         380.11708249,
         0.0,
         0.0,
         0.0,
         0.0,
         0.0,
         0.0,
         0.0,
         0.0,
         0.0,
         0.0,
         0.0,
         0.0,
         0.0,
         0.0,
         0.0,
         0.0,
         0.0,
         0.0,
         0.0,
         0.0,
         0.0,
         0.0,
         0.0,
         0.0,
         0.0,
         0.0
        ]
       ],
       "datasetInfos": [
        {
         "name": "_sqldf",
         "schema": {
          "fields": [
           {
            "metadata": {},
            "name": "mo_name",
            "nullable": true,
            "type": "string"
           },
           {
            "metadata": {},
            "name": "sp_code",
            "nullable": true,
            "type": "long"
           },
           {
            "metadata": {},
            "name": "sp_name",
            "nullable": true,
            "type": "string"
           },
           {
            "metadata": {},
            "name": "st",
            "nullable": true,
            "type": "string"
           },
           {
            "metadata": {},
            "name": "boattype",
            "nullable": true,
            "type": "long"
           },
           {
            "metadata": {},
            "name": "month",
            "nullable": true,
            "type": "long"
           },
           {
            "metadata": {},
            "name": "area",
            "nullable": true,
            "type": "double"
           },
           {
            "metadata": {},
            "name": "trips",
            "nullable": true,
            "type": "double"
           },
           {
            "metadata": {},
            "name": "v_trips",
            "nullable": true,
            "type": "double"
           },
           {
            "metadata": {},
            "name": "boatsonf",
            "nullable": true,
            "type": "long"
           },
           {
            "metadata": {},
            "name": "tot_area",
            "nullable": true,
            "type": "long"
           },
           {
            "metadata": {},
            "name": "n_area",
            "nullable": true,
            "type": "long"
           },
           {
            "metadata": {},
            "name": "p_area",
            "nullable": true,
            "type": "double"
           },
           {
            "metadata": {},
            "name": "year",
            "nullable": true,
            "type": "long"
           },
           {
            "metadata": {},
            "name": "state",
            "nullable": true,
            "type": "string"
           },
           {
            "metadata": {},
            "name": "n",
            "nullable": true,
            "type": "long"
           },
           {
            "metadata": {},
            "name": "mbluetile",
            "nullable": true,
            "type": "double"
           },
           {
            "metadata": {},
            "name": "msandtile",
            "nullable": true,
            "type": "long"
           },
           {
            "metadata": {},
            "name": "mgoldtile",
            "nullable": true,
            "type": "long"
           },
           {
            "metadata": {},
            "name": "munclasstile",
            "nullable": true,
            "type": "double"
           },
           {
            "metadata": {},
            "name": "malb",
            "nullable": true,
            "type": "double"
           },
           {
            "metadata": {},
            "name": "mskj",
            "nullable": true,
            "type": "double"
           },
           {
            "metadata": {},
            "name": "myft",
            "nullable": true,
            "type": "double"
           },
           {
            "metadata": {},
            "name": "mbet",
            "nullable": true,
            "type": "double"
           },
           {
            "metadata": {},
            "name": "mwhm",
            "nullable": true,
            "type": "double"
           },
           {
            "metadata": {},
            "name": "mbum",
            "nullable": true,
            "type": "double"
           },
           {
            "metadata": {},
            "name": "msai",
            "nullable": true,
            "type": "long"
           },
           {
            "metadata": {},
            "name": "mwah",
            "nullable": true,
            "type": "double"
           },
           {
            "metadata": {},
            "name": "mblushk",
            "nullable": true,
            "type": "long"
           },
           {
            "metadata": {},
            "name": "mthrshk",
            "nullable": true,
            "type": "double"
           },
           {
            "metadata": {},
            "name": "mbethrsh",
            "nullable": true,
            "type": "long"
           },
           {
            "metadata": {},
            "name": "msfnmako",
            "nullable": true,
            "type": "long"
           },
           {
            "metadata": {},
            "name": "mlfnmako",
            "nullable": true,
            "type": "long"
           },
           {
            "metadata": {},
            "name": "mdskyshk",
            "nullable": true,
            "type": "long"
           },
           {
            "metadata": {},
            "name": "mhmmrshk",
            "nullable": true,
            "type": "long"
           },
           {
            "metadata": {},
            "name": "mltunny",
            "nullable": true,
            "type": "double"
           },
           {
            "metadata": {},
            "name": "mbon",
            "nullable": true,
            "type": "double"
           },
           {
            "metadata": {},
            "name": "mkmack",
            "nullable": true,
            "type": "double"
           },
           {
            "metadata": {},
            "name": "msmack",
            "nullable": true,
            "type": "double"
           },
           {
            "metadata": {},
            "name": "mblktun",
            "nullable": true,
            "type": "long"
           },
           {
            "metadata": {},
            "name": "msbarshk",
            "nullable": true,
            "type": "long"
           },
           {
            "metadata": {},
            "name": "mswd",
            "nullable": true,
            "type": "double"
           },
           {
            "metadata": {},
            "name": "mmakoshk",
            "nullable": true,
            "type": "long"
           },
           {
            "metadata": {},
            "name": "mwshk",
            "nullable": true,
            "type": "long"
           },
           {
            "metadata": {},
            "name": "mtgrshk",
            "nullable": true,
            "type": "long"
           },
           {
            "metadata": {},
            "name": "mstgrshk",
            "nullable": true,
            "type": "long"
           },
           {
            "metadata": {},
            "name": "mambrjk",
            "nullable": true,
            "type": "double"
           },
           {
            "metadata": {},
            "name": "mdol",
            "nullable": true,
            "type": "double"
           },
           {
            "metadata": {},
            "name": "mysbft",
            "nullable": true,
            "type": "double"
           },
           {
            "metadata": {},
            "name": "msbft",
            "nullable": true,
            "type": "double"
           },
           {
            "metadata": {},
            "name": "mlschbft",
            "nullable": true,
            "type": "double"
           },
           {
            "metadata": {},
            "name": "msmdbft",
            "nullable": true,
            "type": "double"
           },
           {
            "metadata": {},
            "name": "mlgmdbft",
            "nullable": true,
            "type": "double"
           },
           {
            "metadata": {},
            "name": "mlgbft",
            "nullable": true,
            "type": "double"
           },
           {
            "metadata": {},
            "name": "muncbft",
            "nullable": true,
            "type": "double"
           },
           {
            "metadata": {},
            "name": "mporbgl",
            "nullable": true,
            "type": "double"
           },
           {
            "metadata": {},
            "name": "sbluetile",
            "nullable": true,
            "type": "double"
           },
           {
            "metadata": {},
            "name": "ssandtile",
            "nullable": true,
            "type": "long"
           },
           {
            "metadata": {},
            "name": "sgoldtile",
            "nullable": true,
            "type": "long"
           },
           {
            "metadata": {},
            "name": "sunclasstile",
            "nullable": true,
            "type": "double"
           },
           {
            "metadata": {},
            "name": "salb",
            "nullable": true,
            "type": "double"
           },
           {
            "metadata": {},
            "name": "sskj",
            "nullable": true,
            "type": "double"
           },
           {
            "metadata": {},
            "name": "syft",
            "nullable": true,
            "type": "double"
           },
           {
            "metadata": {},
            "name": "sbet",
            "nullable": true,
            "type": "double"
           },
           {
            "metadata": {},
            "name": "swhm",
            "nullable": true,
            "type": "double"
           },
           {
            "metadata": {},
            "name": "sbum",
            "nullable": true,
            "type": "double"
           },
           {
            "metadata": {},
            "name": "ssai",
            "nullable": true,
            "type": "long"
           },
           {
            "metadata": {},
            "name": "swah",
            "nullable": true,
            "type": "double"
           },
           {
            "metadata": {},
            "name": "sblushk",
            "nullable": true,
            "type": "long"
           },
           {
            "metadata": {},
            "name": "sthrshk",
            "nullable": true,
            "type": "double"
           },
           {
            "metadata": {},
            "name": "sbethrsh",
            "nullable": true,
            "type": "long"
           },
           {
            "metadata": {},
            "name": "ssfnmako",
            "nullable": true,
            "type": "long"
           },
           {
            "metadata": {},
            "name": "slfnmako",
            "nullable": true,
            "type": "long"
           },
           {
            "metadata": {},
            "name": "sdskyshk",
            "nullable": true,
            "type": "long"
           },
           {
            "metadata": {},
            "name": "shmmrshk",
            "nullable": true,
            "type": "long"
           },
           {
            "metadata": {},
            "name": "sltunny",
            "nullable": true,
            "type": "double"
           },
           {
            "metadata": {},
            "name": "sbon",
            "nullable": true,
            "type": "double"
           },
           {
            "metadata": {},
            "name": "skmack",
            "nullable": true,
            "type": "double"
           },
           {
            "metadata": {},
            "name": "ssmack",
            "nullable": true,
            "type": "double"
           },
           {
            "metadata": {},
            "name": "sblktun",
            "nullable": true,
            "type": "long"
           },
           {
            "metadata": {},
            "name": "ssbarshk",
            "nullable": true,
            "type": "long"
           },
           {
            "metadata": {},
            "name": "sswd",
            "nullable": true,
            "type": "double"
           },
           {
            "metadata": {},
            "name": "smakoshk",
            "nullable": true,
            "type": "long"
           },
           {
            "metadata": {},
            "name": "swshk",
            "nullable": true,
            "type": "long"
           },
           {
            "metadata": {},
            "name": "stgrshk",
            "nullable": true,
            "type": "long"
           },
           {
            "metadata": {},
            "name": "sstgrshk",
            "nullable": true,
            "type": "long"
           },
           {
            "metadata": {},
            "name": "sambrjk",
            "nullable": true,
            "type": "double"
           },
           {
            "metadata": {},
            "name": "sdol",
            "nullable": true,
            "type": "double"
           },
           {
            "metadata": {},
            "name": "sysbft",
            "nullable": true,
            "type": "double"
           },
           {
            "metadata": {},
            "name": "ssbft",
            "nullable": true,
            "type": "double"
           },
           {
            "metadata": {},
            "name": "slschbft",
            "nullable": true,
            "type": "double"
           },
           {
            "metadata": {},
            "name": "ssmdbft",
            "nullable": true,
            "type": "double"
           },
           {
            "metadata": {},
            "name": "slgmdbft",
            "nullable": true,
            "type": "double"
           },
           {
            "metadata": {},
            "name": "slgbft",
            "nullable": true,
            "type": "double"
           },
           {
            "metadata": {},
            "name": "suncbft",
            "nullable": true,
            "type": "double"
           },
           {
            "metadata": {},
            "name": "sporbgl",
            "nullable": true,
            "type": "double"
           },
           {
            "metadata": {},
            "name": "intrcept",
            "nullable": true,
            "type": "long"
           },
           {
            "metadata": {},
            "name": "inframe",
            "nullable": true,
            "type": "long"
           },
           {
            "metadata": {},
            "name": "outframe",
            "nullable": true,
            "type": "long"
           },
           {
            "metadata": {},
            "name": "p_frame",
            "nullable": true,
            "type": "double"
           },
           {
            "metadata": {},
            "name": "vp_frame",
            "nullable": true,
            "type": "double"
           },
           {
            "metadata": {},
            "name": "exfactor",
            "nullable": true,
            "type": "double"
           },
           {
            "metadata": {},
            "name": "vxfactor",
            "nullable": true,
            "type": "double"
           },
           {
            "metadata": {},
            "name": "tottrips",
            "nullable": true,
            "type": "double"
           },
           {
            "metadata": {},
            "name": "vartrips",
            "nullable": true,
            "type": "double"
           },
           {
            "metadata": {},
            "name": "cbluetile",
            "nullable": true,
            "type": "double"
           },
           {
            "metadata": {},
            "name": "vbluetile",
            "nullable": true,
            "type": "double"
           },
           {
            "metadata": {},
            "name": "csandtile",
            "nullable": true,
            "type": "long"
           },
           {
            "metadata": {},
            "name": "vsandtile",
            "nullable": true,
            "type": "long"
           },
           {
            "metadata": {},
            "name": "cgoldtile",
            "nullable": true,
            "type": "long"
           },
           {
            "metadata": {},
            "name": "vgoldtile",
            "nullable": true,
            "type": "long"
           },
           {
            "metadata": {},
            "name": "cunclasstile",
            "nullable": true,
            "type": "double"
           },
           {
            "metadata": {},
            "name": "vunclasstile",
            "nullable": true,
            "type": "double"
           },
           {
            "metadata": {},
            "name": "calb",
            "nullable": true,
            "type": "double"
           },
           {
            "metadata": {},
            "name": "valb",
            "nullable": true,
            "type": "double"
           },
           {
            "metadata": {},
            "name": "cskj",
            "nullable": true,
            "type": "double"
           },
           {
            "metadata": {},
            "name": "vskj",
            "nullable": true,
            "type": "double"
           },
           {
            "metadata": {},
            "name": "cyft",
            "nullable": true,
            "type": "double"
           },
           {
            "metadata": {},
            "name": "vyft",
            "nullable": true,
            "type": "double"
           },
           {
            "metadata": {},
            "name": "cbet",
            "nullable": true,
            "type": "double"
           },
           {
            "metadata": {},
            "name": "vbet",
            "nullable": true,
            "type": "double"
           },
           {
            "metadata": {},
            "name": "cwhm",
            "nullable": true,
            "type": "double"
           },
           {
            "metadata": {},
            "name": "vwhm",
            "nullable": true,
            "type": "double"
           },
           {
            "metadata": {},
            "name": "cbum",
            "nullable": true,
            "type": "double"
           },
           {
            "metadata": {},
            "name": "vbum",
            "nullable": true,
            "type": "double"
           },
           {
            "metadata": {},
            "name": "csai",
            "nullable": true,
            "type": "long"
           },
           {
            "metadata": {},
            "name": "vsai",
            "nullable": true,
            "type": "long"
           },
           {
            "metadata": {},
            "name": "cwah",
            "nullable": true,
            "type": "double"
           },
           {
            "metadata": {},
            "name": "vwah",
            "nullable": true,
            "type": "double"
           },
           {
            "metadata": {},
            "name": "cblushk",
            "nullable": true,
            "type": "long"
           },
           {
            "metadata": {},
            "name": "vblushk",
            "nullable": true,
            "type": "long"
           },
           {
            "metadata": {},
            "name": "cthrshk",
            "nullable": true,
            "type": "double"
           },
           {
            "metadata": {},
            "name": "vthrshk",
            "nullable": true,
            "type": "double"
           },
           {
            "metadata": {},
            "name": "cbethrsh",
            "nullable": true,
            "type": "long"
           },
           {
            "metadata": {},
            "name": "vbethrsh",
            "nullable": true,
            "type": "long"
           },
           {
            "metadata": {},
            "name": "csfnmako",
            "nullable": true,
            "type": "long"
           },
           {
            "metadata": {},
            "name": "vsfnmako",
            "nullable": true,
            "type": "long"
           },
           {
            "metadata": {},
            "name": "clfnmako",
            "nullable": true,
            "type": "long"
           },
           {
            "metadata": {},
            "name": "vlfnmako",
            "nullable": true,
            "type": "long"
           },
           {
            "metadata": {},
            "name": "cdskyshk",
            "nullable": true,
            "type": "long"
           },
           {
            "metadata": {},
            "name": "vdskyshk",
            "nullable": true,
            "type": "long"
           },
           {
            "metadata": {},
            "name": "chmmrshk",
            "nullable": true,
            "type": "long"
           },
           {
            "metadata": {},
            "name": "vhmmrshk",
            "nullable": true,
            "type": "long"
           },
           {
            "metadata": {},
            "name": "cltunny",
            "nullable": true,
            "type": "double"
           },
           {
            "metadata": {},
            "name": "vltunny",
            "nullable": true,
            "type": "double"
           },
           {
            "metadata": {},
            "name": "cbon",
            "nullable": true,
            "type": "double"
           },
           {
            "metadata": {},
            "name": "vbon",
            "nullable": true,
            "type": "double"
           },
           {
            "metadata": {},
            "name": "ckmack",
            "nullable": true,
            "type": "double"
           },
           {
            "metadata": {},
            "name": "vkmack",
            "nullable": true,
            "type": "double"
           },
           {
            "metadata": {},
            "name": "csmack",
            "nullable": true,
            "type": "double"
           },
           {
            "metadata": {},
            "name": "vsmack",
            "nullable": true,
            "type": "double"
           },
           {
            "metadata": {},
            "name": "cblktun",
            "nullable": true,
            "type": "long"
           },
           {
            "metadata": {},
            "name": "vblktun",
            "nullable": true,
            "type": "long"
           },
           {
            "metadata": {},
            "name": "csbarshk",
            "nullable": true,
            "type": "long"
           },
           {
            "metadata": {},
            "name": "vsbarshk",
            "nullable": true,
            "type": "long"
           },
           {
            "metadata": {},
            "name": "cswd",
            "nullable": true,
            "type": "double"
           },
           {
            "metadata": {},
            "name": "vswd",
            "nullable": true,
            "type": "double"
           },
           {
            "metadata": {},
            "name": "cmakoshk",
            "nullable": true,
            "type": "long"
           },
           {
            "metadata": {},
            "name": "vmakoshk",
            "nullable": true,
            "type": "long"
           },
           {
            "metadata": {},
            "name": "cwshk",
            "nullable": true,
            "type": "long"
           },
           {
            "metadata": {},
            "name": "vwshk",
            "nullable": true,
            "type": "long"
           },
           {
            "metadata": {},
            "name": "ctgrshk",
            "nullable": true,
            "type": "long"
           },
           {
            "metadata": {},
            "name": "vtgrshk",
            "nullable": true,
            "type": "long"
           },
           {
            "metadata": {},
            "name": "cstgrshk",
            "nullable": true,
            "type": "long"
           },
           {
            "metadata": {},
            "name": "vstgrshk",
            "nullable": true,
            "type": "long"
           },
           {
            "metadata": {},
            "name": "cambrjk",
            "nullable": true,
            "type": "double"
           },
           {
            "metadata": {},
            "name": "vambrjk",
            "nullable": true,
            "type": "double"
           },
           {
            "metadata": {},
            "name": "cdol",
            "nullable": true,
            "type": "double"
           },
           {
            "metadata": {},
            "name": "vdol",
            "nullable": true,
            "type": "double"
           },
           {
            "metadata": {},
            "name": "cysbft",
            "nullable": true,
            "type": "double"
           },
           {
            "metadata": {},
            "name": "vysbft",
            "nullable": true,
            "type": "double"
           },
           {
            "metadata": {},
            "name": "csbft",
            "nullable": true,
            "type": "double"
           },
           {
            "metadata": {},
            "name": "vsbft",
            "nullable": true,
            "type": "double"
           },
           {
            "metadata": {},
            "name": "clschbft",
            "nullable": true,
            "type": "double"
           },
           {
            "metadata": {},
            "name": "vlschbft",
            "nullable": true,
            "type": "double"
           },
           {
            "metadata": {},
            "name": "csmdbft",
            "nullable": true,
            "type": "double"
           },
           {
            "metadata": {},
            "name": "vsmdbft",
            "nullable": true,
            "type": "double"
           },
           {
            "metadata": {},
            "name": "clgmdbft",
            "nullable": true,
            "type": "double"
           },
           {
            "metadata": {},
            "name": "vlgmdbft",
            "nullable": true,
            "type": "double"
           },
           {
            "metadata": {},
            "name": "clgbft",
            "nullable": true,
            "type": "double"
           },
           {
            "metadata": {},
            "name": "vlgbft",
            "nullable": true,
            "type": "double"
           },
           {
            "metadata": {},
            "name": "cuncbft",
            "nullable": true,
            "type": "double"
           },
           {
            "metadata": {},
            "name": "vuncbft",
            "nullable": true,
            "type": "double"
           },
           {
            "metadata": {},
            "name": "cporbgl",
            "nullable": true,
            "type": "double"
           },
           {
            "metadata": {},
            "name": "vporbgl",
            "nullable": true,
            "type": "double"
           },
           {
            "metadata": {},
            "name": "kept",
            "nullable": true,
            "type": "double"
           },
           {
            "metadata": {},
            "name": "var_kept",
            "nullable": true,
            "type": "double"
           },
           {
            "metadata": {},
            "name": "meankept",
            "nullable": true,
            "type": "double"
           },
           {
            "metadata": {},
            "name": "s2_kept",
            "nullable": true,
            "type": "double"
           },
           {
            "metadata": {},
            "name": "alive",
            "nullable": true,
            "type": "double"
           },
           {
            "metadata": {},
            "name": "var_alive",
            "nullable": true,
            "type": "double"
           },
           {
            "metadata": {},
            "name": "dead",
            "nullable": true,
            "type": "double"
           },
           {
            "metadata": {},
            "name": "var_dead",
            "nullable": true,
            "type": "double"
           },
           {
            "metadata": {},
            "name": "weighed",
            "nullable": true,
            "type": "double"
           },
           {
            "metadata": {},
            "name": "var_weighed",
            "nullable": true,
            "type": "double"
           }
          ],
          "type": "struct"
         },
         "tableIdentifier": null,
         "typeStr": "pyspark.sql.connect.dataframe.DataFrame"
        }
       ],
       "dbfsResultPath": null,
       "isJsonSchema": true,
       "metadata": {
        "createTempViewForImplicitDf": true,
        "dataframeName": "_sqldf",
        "executionCount": 2
       },
       "overflow": false,
       "plotOptions": {
        "customPlotOptions": {},
        "displayType": "table",
        "pivotAggregation": null,
        "pivotColumns": null,
        "xColumns": null,
        "yColumns": null
       },
       "removedWidgets": [],
       "schema": [
        {
         "metadata": "{}",
         "name": "mo_name",
         "type": "\"string\""
        },
        {
         "metadata": "{}",
         "name": "sp_code",
         "type": "\"long\""
        },
        {
         "metadata": "{}",
         "name": "sp_name",
         "type": "\"string\""
        },
        {
         "metadata": "{}",
         "name": "st",
         "type": "\"string\""
        },
        {
         "metadata": "{}",
         "name": "boattype",
         "type": "\"long\""
        },
        {
         "metadata": "{}",
         "name": "month",
         "type": "\"long\""
        },
        {
         "metadata": "{}",
         "name": "area",
         "type": "\"double\""
        },
        {
         "metadata": "{}",
         "name": "trips",
         "type": "\"double\""
        },
        {
         "metadata": "{}",
         "name": "v_trips",
         "type": "\"double\""
        },
        {
         "metadata": "{}",
         "name": "boatsonf",
         "type": "\"long\""
        },
        {
         "metadata": "{}",
         "name": "tot_area",
         "type": "\"long\""
        },
        {
         "metadata": "{}",
         "name": "n_area",
         "type": "\"long\""
        },
        {
         "metadata": "{}",
         "name": "p_area",
         "type": "\"double\""
        },
        {
         "metadata": "{}",
         "name": "year",
         "type": "\"long\""
        },
        {
         "metadata": "{}",
         "name": "state",
         "type": "\"string\""
        },
        {
         "metadata": "{}",
         "name": "n",
         "type": "\"long\""
        },
        {
         "metadata": "{}",
         "name": "mbluetile",
         "type": "\"double\""
        },
        {
         "metadata": "{}",
         "name": "msandtile",
         "type": "\"long\""
        },
        {
         "metadata": "{}",
         "name": "mgoldtile",
         "type": "\"long\""
        },
        {
         "metadata": "{}",
         "name": "munclasstile",
         "type": "\"double\""
        },
        {
         "metadata": "{}",
         "name": "malb",
         "type": "\"double\""
        },
        {
         "metadata": "{}",
         "name": "mskj",
         "type": "\"double\""
        },
        {
         "metadata": "{}",
         "name": "myft",
         "type": "\"double\""
        },
        {
         "metadata": "{}",
         "name": "mbet",
         "type": "\"double\""
        },
        {
         "metadata": "{}",
         "name": "mwhm",
         "type": "\"double\""
        },
        {
         "metadata": "{}",
         "name": "mbum",
         "type": "\"double\""
        },
        {
         "metadata": "{}",
         "name": "msai",
         "type": "\"long\""
        },
        {
         "metadata": "{}",
         "name": "mwah",
         "type": "\"double\""
        },
        {
         "metadata": "{}",
         "name": "mblushk",
         "type": "\"long\""
        },
        {
         "metadata": "{}",
         "name": "mthrshk",
         "type": "\"double\""
        },
        {
         "metadata": "{}",
         "name": "mbethrsh",
         "type": "\"long\""
        },
        {
         "metadata": "{}",
         "name": "msfnmako",
         "type": "\"long\""
        },
        {
         "metadata": "{}",
         "name": "mlfnmako",
         "type": "\"long\""
        },
        {
         "metadata": "{}",
         "name": "mdskyshk",
         "type": "\"long\""
        },
        {
         "metadata": "{}",
         "name": "mhmmrshk",
         "type": "\"long\""
        },
        {
         "metadata": "{}",
         "name": "mltunny",
         "type": "\"double\""
        },
        {
         "metadata": "{}",
         "name": "mbon",
         "type": "\"double\""
        },
        {
         "metadata": "{}",
         "name": "mkmack",
         "type": "\"double\""
        },
        {
         "metadata": "{}",
         "name": "msmack",
         "type": "\"double\""
        },
        {
         "metadata": "{}",
         "name": "mblktun",
         "type": "\"long\""
        },
        {
         "metadata": "{}",
         "name": "msbarshk",
         "type": "\"long\""
        },
        {
         "metadata": "{}",
         "name": "mswd",
         "type": "\"double\""
        },
        {
         "metadata": "{}",
         "name": "mmakoshk",
         "type": "\"long\""
        },
        {
         "metadata": "{}",
         "name": "mwshk",
         "type": "\"long\""
        },
        {
         "metadata": "{}",
         "name": "mtgrshk",
         "type": "\"long\""
        },
        {
         "metadata": "{}",
         "name": "mstgrshk",
         "type": "\"long\""
        },
        {
         "metadata": "{}",
         "name": "mambrjk",
         "type": "\"double\""
        },
        {
         "metadata": "{}",
         "name": "mdol",
         "type": "\"double\""
        },
        {
         "metadata": "{}",
         "name": "mysbft",
         "type": "\"double\""
        },
        {
         "metadata": "{}",
         "name": "msbft",
         "type": "\"double\""
        },
        {
         "metadata": "{}",
         "name": "mlschbft",
         "type": "\"double\""
        },
        {
         "metadata": "{}",
         "name": "msmdbft",
         "type": "\"double\""
        },
        {
         "metadata": "{}",
         "name": "mlgmdbft",
         "type": "\"double\""
        },
        {
         "metadata": "{}",
         "name": "mlgbft",
         "type": "\"double\""
        },
        {
         "metadata": "{}",
         "name": "muncbft",
         "type": "\"double\""
        },
        {
         "metadata": "{}",
         "name": "mporbgl",
         "type": "\"double\""
        },
        {
         "metadata": "{}",
         "name": "sbluetile",
         "type": "\"double\""
        },
        {
         "metadata": "{}",
         "name": "ssandtile",
         "type": "\"long\""
        },
        {
         "metadata": "{}",
         "name": "sgoldtile",
         "type": "\"long\""
        },
        {
         "metadata": "{}",
         "name": "sunclasstile",
         "type": "\"double\""
        },
        {
         "metadata": "{}",
         "name": "salb",
         "type": "\"double\""
        },
        {
         "metadata": "{}",
         "name": "sskj",
         "type": "\"double\""
        },
        {
         "metadata": "{}",
         "name": "syft",
         "type": "\"double\""
        },
        {
         "metadata": "{}",
         "name": "sbet",
         "type": "\"double\""
        },
        {
         "metadata": "{}",
         "name": "swhm",
         "type": "\"double\""
        },
        {
         "metadata": "{}",
         "name": "sbum",
         "type": "\"double\""
        },
        {
         "metadata": "{}",
         "name": "ssai",
         "type": "\"long\""
        },
        {
         "metadata": "{}",
         "name": "swah",
         "type": "\"double\""
        },
        {
         "metadata": "{}",
         "name": "sblushk",
         "type": "\"long\""
        },
        {
         "metadata": "{}",
         "name": "sthrshk",
         "type": "\"double\""
        },
        {
         "metadata": "{}",
         "name": "sbethrsh",
         "type": "\"long\""
        },
        {
         "metadata": "{}",
         "name": "ssfnmako",
         "type": "\"long\""
        },
        {
         "metadata": "{}",
         "name": "slfnmako",
         "type": "\"long\""
        },
        {
         "metadata": "{}",
         "name": "sdskyshk",
         "type": "\"long\""
        },
        {
         "metadata": "{}",
         "name": "shmmrshk",
         "type": "\"long\""
        },
        {
         "metadata": "{}",
         "name": "sltunny",
         "type": "\"double\""
        },
        {
         "metadata": "{}",
         "name": "sbon",
         "type": "\"double\""
        },
        {
         "metadata": "{}",
         "name": "skmack",
         "type": "\"double\""
        },
        {
         "metadata": "{}",
         "name": "ssmack",
         "type": "\"double\""
        },
        {
         "metadata": "{}",
         "name": "sblktun",
         "type": "\"long\""
        },
        {
         "metadata": "{}",
         "name": "ssbarshk",
         "type": "\"long\""
        },
        {
         "metadata": "{}",
         "name": "sswd",
         "type": "\"double\""
        },
        {
         "metadata": "{}",
         "name": "smakoshk",
         "type": "\"long\""
        },
        {
         "metadata": "{}",
         "name": "swshk",
         "type": "\"long\""
        },
        {
         "metadata": "{}",
         "name": "stgrshk",
         "type": "\"long\""
        },
        {
         "metadata": "{}",
         "name": "sstgrshk",
         "type": "\"long\""
        },
        {
         "metadata": "{}",
         "name": "sambrjk",
         "type": "\"double\""
        },
        {
         "metadata": "{}",
         "name": "sdol",
         "type": "\"double\""
        },
        {
         "metadata": "{}",
         "name": "sysbft",
         "type": "\"double\""
        },
        {
         "metadata": "{}",
         "name": "ssbft",
         "type": "\"double\""
        },
        {
         "metadata": "{}",
         "name": "slschbft",
         "type": "\"double\""
        },
        {
         "metadata": "{}",
         "name": "ssmdbft",
         "type": "\"double\""
        },
        {
         "metadata": "{}",
         "name": "slgmdbft",
         "type": "\"double\""
        },
        {
         "metadata": "{}",
         "name": "slgbft",
         "type": "\"double\""
        },
        {
         "metadata": "{}",
         "name": "suncbft",
         "type": "\"double\""
        },
        {
         "metadata": "{}",
         "name": "sporbgl",
         "type": "\"double\""
        },
        {
         "metadata": "{}",
         "name": "intrcept",
         "type": "\"long\""
        },
        {
         "metadata": "{}",
         "name": "inframe",
         "type": "\"long\""
        },
        {
         "metadata": "{}",
         "name": "outframe",
         "type": "\"long\""
        },
        {
         "metadata": "{}",
         "name": "p_frame",
         "type": "\"double\""
        },
        {
         "metadata": "{}",
         "name": "vp_frame",
         "type": "\"double\""
        },
        {
         "metadata": "{}",
         "name": "exfactor",
         "type": "\"double\""
        },
        {
         "metadata": "{}",
         "name": "vxfactor",
         "type": "\"double\""
        },
        {
         "metadata": "{}",
         "name": "tottrips",
         "type": "\"double\""
        },
        {
         "metadata": "{}",
         "name": "vartrips",
         "type": "\"double\""
        },
        {
         "metadata": "{}",
         "name": "cbluetile",
         "type": "\"double\""
        },
        {
         "metadata": "{}",
         "name": "vbluetile",
         "type": "\"double\""
        },
        {
         "metadata": "{}",
         "name": "csandtile",
         "type": "\"long\""
        },
        {
         "metadata": "{}",
         "name": "vsandtile",
         "type": "\"long\""
        },
        {
         "metadata": "{}",
         "name": "cgoldtile",
         "type": "\"long\""
        },
        {
         "metadata": "{}",
         "name": "vgoldtile",
         "type": "\"long\""
        },
        {
         "metadata": "{}",
         "name": "cunclasstile",
         "type": "\"double\""
        },
        {
         "metadata": "{}",
         "name": "vunclasstile",
         "type": "\"double\""
        },
        {
         "metadata": "{}",
         "name": "calb",
         "type": "\"double\""
        },
        {
         "metadata": "{}",
         "name": "valb",
         "type": "\"double\""
        },
        {
         "metadata": "{}",
         "name": "cskj",
         "type": "\"double\""
        },
        {
         "metadata": "{}",
         "name": "vskj",
         "type": "\"double\""
        },
        {
         "metadata": "{}",
         "name": "cyft",
         "type": "\"double\""
        },
        {
         "metadata": "{}",
         "name": "vyft",
         "type": "\"double\""
        },
        {
         "metadata": "{}",
         "name": "cbet",
         "type": "\"double\""
        },
        {
         "metadata": "{}",
         "name": "vbet",
         "type": "\"double\""
        },
        {
         "metadata": "{}",
         "name": "cwhm",
         "type": "\"double\""
        },
        {
         "metadata": "{}",
         "name": "vwhm",
         "type": "\"double\""
        },
        {
         "metadata": "{}",
         "name": "cbum",
         "type": "\"double\""
        },
        {
         "metadata": "{}",
         "name": "vbum",
         "type": "\"double\""
        },
        {
         "metadata": "{}",
         "name": "csai",
         "type": "\"long\""
        },
        {
         "metadata": "{}",
         "name": "vsai",
         "type": "\"long\""
        },
        {
         "metadata": "{}",
         "name": "cwah",
         "type": "\"double\""
        },
        {
         "metadata": "{}",
         "name": "vwah",
         "type": "\"double\""
        },
        {
         "metadata": "{}",
         "name": "cblushk",
         "type": "\"long\""
        },
        {
         "metadata": "{}",
         "name": "vblushk",
         "type": "\"long\""
        },
        {
         "metadata": "{}",
         "name": "cthrshk",
         "type": "\"double\""
        },
        {
         "metadata": "{}",
         "name": "vthrshk",
         "type": "\"double\""
        },
        {
         "metadata": "{}",
         "name": "cbethrsh",
         "type": "\"long\""
        },
        {
         "metadata": "{}",
         "name": "vbethrsh",
         "type": "\"long\""
        },
        {
         "metadata": "{}",
         "name": "csfnmako",
         "type": "\"long\""
        },
        {
         "metadata": "{}",
         "name": "vsfnmako",
         "type": "\"long\""
        },
        {
         "metadata": "{}",
         "name": "clfnmako",
         "type": "\"long\""
        },
        {
         "metadata": "{}",
         "name": "vlfnmako",
         "type": "\"long\""
        },
        {
         "metadata": "{}",
         "name": "cdskyshk",
         "type": "\"long\""
        },
        {
         "metadata": "{}",
         "name": "vdskyshk",
         "type": "\"long\""
        },
        {
         "metadata": "{}",
         "name": "chmmrshk",
         "type": "\"long\""
        },
        {
         "metadata": "{}",
         "name": "vhmmrshk",
         "type": "\"long\""
        },
        {
         "metadata": "{}",
         "name": "cltunny",
         "type": "\"double\""
        },
        {
         "metadata": "{}",
         "name": "vltunny",
         "type": "\"double\""
        },
        {
         "metadata": "{}",
         "name": "cbon",
         "type": "\"double\""
        },
        {
         "metadata": "{}",
         "name": "vbon",
         "type": "\"double\""
        },
        {
         "metadata": "{}",
         "name": "ckmack",
         "type": "\"double\""
        },
        {
         "metadata": "{}",
         "name": "vkmack",
         "type": "\"double\""
        },
        {
         "metadata": "{}",
         "name": "csmack",
         "type": "\"double\""
        },
        {
         "metadata": "{}",
         "name": "vsmack",
         "type": "\"double\""
        },
        {
         "metadata": "{}",
         "name": "cblktun",
         "type": "\"long\""
        },
        {
         "metadata": "{}",
         "name": "vblktun",
         "type": "\"long\""
        },
        {
         "metadata": "{}",
         "name": "csbarshk",
         "type": "\"long\""
        },
        {
         "metadata": "{}",
         "name": "vsbarshk",
         "type": "\"long\""
        },
        {
         "metadata": "{}",
         "name": "cswd",
         "type": "\"double\""
        },
        {
         "metadata": "{}",
         "name": "vswd",
         "type": "\"double\""
        },
        {
         "metadata": "{}",
         "name": "cmakoshk",
         "type": "\"long\""
        },
        {
         "metadata": "{}",
         "name": "vmakoshk",
         "type": "\"long\""
        },
        {
         "metadata": "{}",
         "name": "cwshk",
         "type": "\"long\""
        },
        {
         "metadata": "{}",
         "name": "vwshk",
         "type": "\"long\""
        },
        {
         "metadata": "{}",
         "name": "ctgrshk",
         "type": "\"long\""
        },
        {
         "metadata": "{}",
         "name": "vtgrshk",
         "type": "\"long\""
        },
        {
         "metadata": "{}",
         "name": "cstgrshk",
         "type": "\"long\""
        },
        {
         "metadata": "{}",
         "name": "vstgrshk",
         "type": "\"long\""
        },
        {
         "metadata": "{}",
         "name": "cambrjk",
         "type": "\"double\""
        },
        {
         "metadata": "{}",
         "name": "vambrjk",
         "type": "\"double\""
        },
        {
         "metadata": "{}",
         "name": "cdol",
         "type": "\"double\""
        },
        {
         "metadata": "{}",
         "name": "vdol",
         "type": "\"double\""
        },
        {
         "metadata": "{}",
         "name": "cysbft",
         "type": "\"double\""
        },
        {
         "metadata": "{}",
         "name": "vysbft",
         "type": "\"double\""
        },
        {
         "metadata": "{}",
         "name": "csbft",
         "type": "\"double\""
        },
        {
         "metadata": "{}",
         "name": "vsbft",
         "type": "\"double\""
        },
        {
         "metadata": "{}",
         "name": "clschbft",
         "type": "\"double\""
        },
        {
         "metadata": "{}",
         "name": "vlschbft",
         "type": "\"double\""
        },
        {
         "metadata": "{}",
         "name": "csmdbft",
         "type": "\"double\""
        },
        {
         "metadata": "{}",
         "name": "vsmdbft",
         "type": "\"double\""
        },
        {
         "metadata": "{}",
         "name": "clgmdbft",
         "type": "\"double\""
        },
        {
         "metadata": "{}",
         "name": "vlgmdbft",
         "type": "\"double\""
        },
        {
         "metadata": "{}",
         "name": "clgbft",
         "type": "\"double\""
        },
        {
         "metadata": "{}",
         "name": "vlgbft",
         "type": "\"double\""
        },
        {
         "metadata": "{}",
         "name": "cuncbft",
         "type": "\"double\""
        },
        {
         "metadata": "{}",
         "name": "vuncbft",
         "type": "\"double\""
        },
        {
         "metadata": "{}",
         "name": "cporbgl",
         "type": "\"double\""
        },
        {
         "metadata": "{}",
         "name": "vporbgl",
         "type": "\"double\""
        },
        {
         "metadata": "{}",
         "name": "kept",
         "type": "\"double\""
        },
        {
         "metadata": "{}",
         "name": "var_kept",
         "type": "\"double\""
        },
        {
         "metadata": "{}",
         "name": "meankept",
         "type": "\"double\""
        },
        {
         "metadata": "{}",
         "name": "s2_kept",
         "type": "\"double\""
        },
        {
         "metadata": "{}",
         "name": "alive",
         "type": "\"double\""
        },
        {
         "metadata": "{}",
         "name": "var_alive",
         "type": "\"double\""
        },
        {
         "metadata": "{}",
         "name": "dead",
         "type": "\"double\""
        },
        {
         "metadata": "{}",
         "name": "var_dead",
         "type": "\"double\""
        },
        {
         "metadata": "{}",
         "name": "weighed",
         "type": "\"double\""
        },
        {
         "metadata": "{}",
         "name": "var_weighed",
         "type": "\"double\""
        }
       ],
       "type": "table"
      }
     },
     "output_type": "display_data"
    }
   ],
   "source": [
    "%sql\n",
    "--verify that our data is loaded correctly\n",
    "SELECT * FROM workspace.default.all_ests_2023 LIMIT 10;"
   ]
  },
  {
   "cell_type": "code",
   "execution_count": 0,
   "metadata": {
    "application/vnd.databricks.v1+cell": {
     "cellMetadata": {
      "byteLimit": 2048000,
      "implicitDf": true,
      "rowLimit": 10000
     },
     "inputWidgets": {},
     "nuid": "84ce5cf4-feea-4bba-b891-e35fc4a2cb61",
     "showTitle": false,
     "tableResultSettingsMap": {},
     "title": ""
    }
   },
   "outputs": [],
   "source": [
    "%sql\n",
    "--create a summary table\n",
    "CREATE TABLE IF NOT EXISTS workspace.default.monthly_species_summary (\n",
    "  mo_name STRING,\n",
    "  sp_name STRING,\n",
    "  year INT\n",
    ");"
   ]
  },
  {
   "cell_type": "code",
   "execution_count": 0,
   "metadata": {
    "application/vnd.databricks.v1+cell": {
     "cellMetadata": {
      "byteLimit": 2048000,
      "implicitDf": true,
      "rowLimit": 10000
     },
     "inputWidgets": {},
     "nuid": "2f32b3e0-af4f-4b04-a90a-0d3a33e510be",
     "showTitle": false,
     "tableResultSettingsMap": {},
     "title": ""
    }
   },
   "outputs": [
    {
     "output_type": "display_data",
     "data": {
      "text/html": [
       "<style scoped>\n",
       "  .table-result-container {\n",
       "    max-height: 300px;\n",
       "    overflow: auto;\n",
       "  }\n",
       "  table, th, td {\n",
       "    border: 1px solid black;\n",
       "    border-collapse: collapse;\n",
       "  }\n",
       "  th, td {\n",
       "    padding: 5px;\n",
       "  }\n",
       "  th {\n",
       "    text-align: left;\n",
       "  }\n",
       "</style><div class='table-result-container'><table class='table-result'><thead style='background-color: white'><tr><th>num_affected_rows</th><th>num_inserted_rows</th></tr></thead><tbody><tr><td>480</td><td>480</td></tr></tbody></table></div>"
      ]
     },
     "metadata": {
      "application/vnd.databricks.v1+output": {
       "addedWidgets": {},
       "aggData": [],
       "aggError": "",
       "aggOverflow": false,
       "aggSchema": [],
       "aggSeriesLimitReached": false,
       "aggType": "",
       "arguments": {},
       "columnCustomDisplayInfos": {},
       "data": [
        [
         480,
         480
        ]
       ],
       "datasetInfos": [
        {
         "name": "_sqldf",
         "schema": {
          "fields": [
           {
            "metadata": {},
            "name": "num_affected_rows",
            "nullable": true,
            "type": "long"
           },
           {
            "metadata": {},
            "name": "num_inserted_rows",
            "nullable": true,
            "type": "long"
           }
          ],
          "type": "struct"
         },
         "tableIdentifier": null,
         "typeStr": "pyspark.sql.connect.dataframe.DataFrame"
        }
       ],
       "dbfsResultPath": null,
       "isJsonSchema": true,
       "metadata": {
        "createTempViewForImplicitDf": true,
        "dataframeName": "_sqldf",
        "executionCount": 4
       },
       "overflow": false,
       "plotOptions": {
        "customPlotOptions": {},
        "displayType": "table",
        "pivotAggregation": null,
        "pivotColumns": null,
        "xColumns": null,
        "yColumns": null
       },
       "removedWidgets": [],
       "schema": [
        {
         "metadata": "{}",
         "name": "num_affected_rows",
         "type": "\"long\""
        },
        {
         "metadata": "{}",
         "name": "num_inserted_rows",
         "type": "\"long\""
        }
       ],
       "type": "table"
      }
     },
     "output_type": "display_data"
    }
   ],
   "source": [
    "%sql\n",
    "--add to summary table\n",
    "INSERT INTO workspace.default.monthly_species_summary\n",
    "SELECT \n",
    "  mo_name,\n",
    "  sp_name,\n",
    "  year\n",
    "FROM workspace.default.all_ests_2023\n",
    "WHERE mo_name = 'June'\n",
    "AND year = 2023\n",
    "--WHERE mo_name = date_format(add_months(current_date(), -1), 'MMMM')\n",
    "--AND year = year(add_months(current_date(), -1))"
   ]
  },
  {
   "cell_type": "code",
   "execution_count": 0,
   "metadata": {
    "application/vnd.databricks.v1+cell": {
     "cellMetadata": {
      "byteLimit": 2048000,
      "implicitDf": true,
      "rowLimit": 10000
     },
     "inputWidgets": {},
     "nuid": "32d61322-1f94-4949-885c-44708a64dbad",
     "showTitle": false,
     "tableResultSettingsMap": {},
     "title": ""
    }
   },
   "outputs": [
    {
     "output_type": "display_data",
     "data": {
      "text/html": [
       "<style scoped>\n",
       "  .table-result-container {\n",
       "    max-height: 300px;\n",
       "    overflow: auto;\n",
       "  }\n",
       "  table, th, td {\n",
       "    border: 1px solid black;\n",
       "    border-collapse: collapse;\n",
       "  }\n",
       "  th, td {\n",
       "    padding: 5px;\n",
       "  }\n",
       "  th {\n",
       "    text-align: left;\n",
       "  }\n",
       "</style><div class='table-result-container'><table class='table-result'><thead style='background-color: white'><tr><th>mo_name</th><th>sp_name</th><th>year</th></tr></thead><tbody><tr><td>June</td><td>greater amberjack</td><td>2023</td></tr><tr><td>June</td><td>Atlantic bonito</td><td>2023</td></tr><tr><td>June</td><td>dolphin</td><td>2023</td></tr><tr><td>June</td><td>king mackerel</td><td>2023</td></tr><tr><td>June</td><td>white marlin</td><td>2023</td></tr><tr><td>June</td><td>blue marlin</td><td>2023</td></tr><tr><td>June</td><td>sailfish</td><td>2023</td></tr><tr><td>June</td><td>sand tiger</td><td>2023</td></tr><tr><td>June</td><td>thresher sharks</td><td>2023</td></tr><tr><td>June</td><td>bigeye thresher</td><td>2023</td></tr><tr><td>June</td><td>shortfin mako</td><td>2023</td></tr><tr><td>June</td><td>mako sharks</td><td>2023</td></tr><tr><td>June</td><td>longfin mako</td><td>2023</td></tr><tr><td>June</td><td>Spanish mackerel</td><td>2023</td></tr><tr><td>June</td><td>swordfish</td><td>2023</td></tr><tr><td>June</td><td>blue tilefish</td><td>2023</td></tr><tr><td>June</td><td>sand tilefish</td><td>2023</td></tr><tr><td>June</td><td>golden tilefish</td><td>2023</td></tr><tr><td>June</td><td>unclassified tilefish</td><td>2023</td></tr><tr><td>June</td><td>skipjack tuna</td><td>2023</td></tr><tr><td>June</td><td>bluefin tuna - UNC</td><td>2023</td></tr><tr><td>June</td><td>bluefin tuna - large</td><td>2023</td></tr><tr><td>June</td><td>bluefin tuna - young school</td><td>2023</td></tr><tr><td>June</td><td>bluefin tuna - small medium</td><td>2023</td></tr><tr><td>June</td><td>bluefin tuna - school</td><td>2023</td></tr><tr><td>June</td><td>bluefin tuna - large school</td><td>2023</td></tr><tr><td>June</td><td>bluefin tuna - large medium</td><td>2023</td></tr><tr><td>June</td><td>little tunny</td><td>2023</td></tr><tr><td>June</td><td>bigeye tuna</td><td>2023</td></tr><tr><td>June</td><td>albacore</td><td>2023</td></tr><tr><td>June</td><td>yellowfin tuna</td><td>2023</td></tr><tr><td>June</td><td>wahoo</td><td>2023</td></tr><tr><td>June</td><td>white shark</td><td>2023</td></tr><tr><td>June</td><td>porbeagle shark</td><td>2023</td></tr><tr><td>June</td><td>sandbar shark</td><td>2023</td></tr><tr><td>June</td><td>dusky shark</td><td>2023</td></tr><tr><td>June</td><td>tiger shark</td><td>2023</td></tr><tr><td>June</td><td>blue shark</td><td>2023</td></tr><tr><td>June</td><td>hammerhead sharks</td><td>2023</td></tr><tr><td>June</td><td>blackfin tuna</td><td>2023</td></tr><tr><td>June</td><td>greater amberjack</td><td>2023</td></tr><tr><td>June</td><td>Atlantic bonito</td><td>2023</td></tr><tr><td>June</td><td>dolphin</td><td>2023</td></tr><tr><td>June</td><td>king mackerel</td><td>2023</td></tr><tr><td>June</td><td>white marlin</td><td>2023</td></tr><tr><td>June</td><td>blue marlin</td><td>2023</td></tr><tr><td>June</td><td>sailfish</td><td>2023</td></tr><tr><td>June</td><td>sand tiger</td><td>2023</td></tr><tr><td>June</td><td>thresher sharks</td><td>2023</td></tr><tr><td>June</td><td>bigeye thresher</td><td>2023</td></tr><tr><td>June</td><td>shortfin mako</td><td>2023</td></tr><tr><td>June</td><td>mako sharks</td><td>2023</td></tr><tr><td>June</td><td>longfin mako</td><td>2023</td></tr><tr><td>June</td><td>Spanish mackerel</td><td>2023</td></tr><tr><td>June</td><td>swordfish</td><td>2023</td></tr><tr><td>June</td><td>blue tilefish</td><td>2023</td></tr><tr><td>June</td><td>sand tilefish</td><td>2023</td></tr><tr><td>June</td><td>golden tilefish</td><td>2023</td></tr><tr><td>June</td><td>unclassified tilefish</td><td>2023</td></tr><tr><td>June</td><td>skipjack tuna</td><td>2023</td></tr><tr><td>June</td><td>bluefin tuna - UNC</td><td>2023</td></tr><tr><td>June</td><td>bluefin tuna - large</td><td>2023</td></tr><tr><td>June</td><td>bluefin tuna - young school</td><td>2023</td></tr><tr><td>June</td><td>bluefin tuna - small medium</td><td>2023</td></tr><tr><td>June</td><td>bluefin tuna - school</td><td>2023</td></tr><tr><td>June</td><td>bluefin tuna - large school</td><td>2023</td></tr><tr><td>June</td><td>bluefin tuna - large medium</td><td>2023</td></tr><tr><td>June</td><td>little tunny</td><td>2023</td></tr><tr><td>June</td><td>bigeye tuna</td><td>2023</td></tr><tr><td>June</td><td>albacore</td><td>2023</td></tr><tr><td>June</td><td>yellowfin tuna</td><td>2023</td></tr><tr><td>June</td><td>wahoo</td><td>2023</td></tr><tr><td>June</td><td>white shark</td><td>2023</td></tr><tr><td>June</td><td>porbeagle shark</td><td>2023</td></tr><tr><td>June</td><td>sandbar shark</td><td>2023</td></tr><tr><td>June</td><td>dusky shark</td><td>2023</td></tr><tr><td>June</td><td>tiger shark</td><td>2023</td></tr><tr><td>June</td><td>blue shark</td><td>2023</td></tr><tr><td>June</td><td>hammerhead sharks</td><td>2023</td></tr><tr><td>June</td><td>blackfin tuna</td><td>2023</td></tr><tr><td>June</td><td>greater amberjack</td><td>2023</td></tr><tr><td>June</td><td>Atlantic bonito</td><td>2023</td></tr><tr><td>June</td><td>dolphin</td><td>2023</td></tr><tr><td>June</td><td>king mackerel</td><td>2023</td></tr><tr><td>June</td><td>white marlin</td><td>2023</td></tr><tr><td>June</td><td>blue marlin</td><td>2023</td></tr><tr><td>June</td><td>sailfish</td><td>2023</td></tr><tr><td>June</td><td>sand tiger</td><td>2023</td></tr><tr><td>June</td><td>thresher sharks</td><td>2023</td></tr><tr><td>June</td><td>bigeye thresher</td><td>2023</td></tr><tr><td>June</td><td>shortfin mako</td><td>2023</td></tr><tr><td>June</td><td>mako sharks</td><td>2023</td></tr><tr><td>June</td><td>longfin mako</td><td>2023</td></tr><tr><td>June</td><td>Spanish mackerel</td><td>2023</td></tr><tr><td>June</td><td>swordfish</td><td>2023</td></tr><tr><td>June</td><td>blue tilefish</td><td>2023</td></tr><tr><td>June</td><td>sand tilefish</td><td>2023</td></tr><tr><td>June</td><td>golden tilefish</td><td>2023</td></tr><tr><td>June</td><td>unclassified tilefish</td><td>2023</td></tr><tr><td>June</td><td>skipjack tuna</td><td>2023</td></tr><tr><td>June</td><td>bluefin tuna - UNC</td><td>2023</td></tr><tr><td>June</td><td>bluefin tuna - large</td><td>2023</td></tr><tr><td>June</td><td>bluefin tuna - young school</td><td>2023</td></tr><tr><td>June</td><td>bluefin tuna - small medium</td><td>2023</td></tr><tr><td>June</td><td>bluefin tuna - school</td><td>2023</td></tr><tr><td>June</td><td>bluefin tuna - large school</td><td>2023</td></tr><tr><td>June</td><td>bluefin tuna - large medium</td><td>2023</td></tr><tr><td>June</td><td>little tunny</td><td>2023</td></tr><tr><td>June</td><td>bigeye tuna</td><td>2023</td></tr><tr><td>June</td><td>albacore</td><td>2023</td></tr><tr><td>June</td><td>yellowfin tuna</td><td>2023</td></tr><tr><td>June</td><td>wahoo</td><td>2023</td></tr><tr><td>June</td><td>white shark</td><td>2023</td></tr><tr><td>June</td><td>porbeagle shark</td><td>2023</td></tr><tr><td>June</td><td>sandbar shark</td><td>2023</td></tr><tr><td>June</td><td>dusky shark</td><td>2023</td></tr><tr><td>June</td><td>tiger shark</td><td>2023</td></tr><tr><td>June</td><td>blue shark</td><td>2023</td></tr><tr><td>June</td><td>hammerhead sharks</td><td>2023</td></tr><tr><td>June</td><td>blackfin tuna</td><td>2023</td></tr><tr><td>June</td><td>greater amberjack</td><td>2023</td></tr><tr><td>June</td><td>Atlantic bonito</td><td>2023</td></tr><tr><td>June</td><td>dolphin</td><td>2023</td></tr><tr><td>June</td><td>king mackerel</td><td>2023</td></tr><tr><td>June</td><td>white marlin</td><td>2023</td></tr><tr><td>June</td><td>blue marlin</td><td>2023</td></tr><tr><td>June</td><td>sailfish</td><td>2023</td></tr><tr><td>June</td><td>sand tiger</td><td>2023</td></tr><tr><td>June</td><td>thresher sharks</td><td>2023</td></tr><tr><td>June</td><td>bigeye thresher</td><td>2023</td></tr><tr><td>June</td><td>shortfin mako</td><td>2023</td></tr><tr><td>June</td><td>mako sharks</td><td>2023</td></tr><tr><td>June</td><td>longfin mako</td><td>2023</td></tr><tr><td>June</td><td>Spanish mackerel</td><td>2023</td></tr><tr><td>June</td><td>swordfish</td><td>2023</td></tr><tr><td>June</td><td>blue tilefish</td><td>2023</td></tr><tr><td>June</td><td>sand tilefish</td><td>2023</td></tr><tr><td>June</td><td>golden tilefish</td><td>2023</td></tr><tr><td>June</td><td>unclassified tilefish</td><td>2023</td></tr><tr><td>June</td><td>skipjack tuna</td><td>2023</td></tr><tr><td>June</td><td>bluefin tuna - UNC</td><td>2023</td></tr><tr><td>June</td><td>bluefin tuna - large</td><td>2023</td></tr><tr><td>June</td><td>bluefin tuna - young school</td><td>2023</td></tr><tr><td>June</td><td>bluefin tuna - small medium</td><td>2023</td></tr><tr><td>June</td><td>bluefin tuna - school</td><td>2023</td></tr><tr><td>June</td><td>bluefin tuna - large school</td><td>2023</td></tr><tr><td>June</td><td>bluefin tuna - large medium</td><td>2023</td></tr><tr><td>June</td><td>little tunny</td><td>2023</td></tr><tr><td>June</td><td>bigeye tuna</td><td>2023</td></tr><tr><td>June</td><td>albacore</td><td>2023</td></tr><tr><td>June</td><td>yellowfin tuna</td><td>2023</td></tr><tr><td>June</td><td>wahoo</td><td>2023</td></tr><tr><td>June</td><td>white shark</td><td>2023</td></tr><tr><td>June</td><td>porbeagle shark</td><td>2023</td></tr><tr><td>June</td><td>sandbar shark</td><td>2023</td></tr><tr><td>June</td><td>dusky shark</td><td>2023</td></tr><tr><td>June</td><td>tiger shark</td><td>2023</td></tr><tr><td>June</td><td>blue shark</td><td>2023</td></tr><tr><td>June</td><td>hammerhead sharks</td><td>2023</td></tr><tr><td>June</td><td>blackfin tuna</td><td>2023</td></tr><tr><td>June</td><td>greater amberjack</td><td>2023</td></tr><tr><td>June</td><td>Atlantic bonito</td><td>2023</td></tr><tr><td>June</td><td>dolphin</td><td>2023</td></tr><tr><td>June</td><td>king mackerel</td><td>2023</td></tr><tr><td>June</td><td>white marlin</td><td>2023</td></tr><tr><td>June</td><td>blue marlin</td><td>2023</td></tr><tr><td>June</td><td>sailfish</td><td>2023</td></tr><tr><td>June</td><td>sand tiger</td><td>2023</td></tr><tr><td>June</td><td>thresher sharks</td><td>2023</td></tr><tr><td>June</td><td>bigeye thresher</td><td>2023</td></tr><tr><td>June</td><td>shortfin mako</td><td>2023</td></tr><tr><td>June</td><td>mako sharks</td><td>2023</td></tr><tr><td>June</td><td>longfin mako</td><td>2023</td></tr><tr><td>June</td><td>Spanish mackerel</td><td>2023</td></tr><tr><td>June</td><td>swordfish</td><td>2023</td></tr><tr><td>June</td><td>blue tilefish</td><td>2023</td></tr><tr><td>June</td><td>sand tilefish</td><td>2023</td></tr><tr><td>June</td><td>golden tilefish</td><td>2023</td></tr><tr><td>June</td><td>unclassified tilefish</td><td>2023</td></tr><tr><td>June</td><td>skipjack tuna</td><td>2023</td></tr><tr><td>June</td><td>bluefin tuna - UNC</td><td>2023</td></tr><tr><td>June</td><td>bluefin tuna - large</td><td>2023</td></tr><tr><td>June</td><td>bluefin tuna - young school</td><td>2023</td></tr><tr><td>June</td><td>bluefin tuna - small medium</td><td>2023</td></tr><tr><td>June</td><td>bluefin tuna - school</td><td>2023</td></tr><tr><td>June</td><td>bluefin tuna - large school</td><td>2023</td></tr><tr><td>June</td><td>bluefin tuna - large medium</td><td>2023</td></tr><tr><td>June</td><td>little tunny</td><td>2023</td></tr><tr><td>June</td><td>bigeye tuna</td><td>2023</td></tr><tr><td>June</td><td>albacore</td><td>2023</td></tr><tr><td>June</td><td>yellowfin tuna</td><td>2023</td></tr><tr><td>June</td><td>wahoo</td><td>2023</td></tr><tr><td>June</td><td>white shark</td><td>2023</td></tr><tr><td>June</td><td>porbeagle shark</td><td>2023</td></tr><tr><td>June</td><td>sandbar shark</td><td>2023</td></tr><tr><td>June</td><td>dusky shark</td><td>2023</td></tr><tr><td>June</td><td>tiger shark</td><td>2023</td></tr><tr><td>June</td><td>blue shark</td><td>2023</td></tr><tr><td>June</td><td>hammerhead sharks</td><td>2023</td></tr><tr><td>June</td><td>blackfin tuna</td><td>2023</td></tr><tr><td>June</td><td>greater amberjack</td><td>2023</td></tr><tr><td>June</td><td>Atlantic bonito</td><td>2023</td></tr><tr><td>June</td><td>dolphin</td><td>2023</td></tr><tr><td>June</td><td>king mackerel</td><td>2023</td></tr><tr><td>June</td><td>white marlin</td><td>2023</td></tr><tr><td>June</td><td>blue marlin</td><td>2023</td></tr><tr><td>June</td><td>sailfish</td><td>2023</td></tr><tr><td>June</td><td>sand tiger</td><td>2023</td></tr><tr><td>June</td><td>thresher sharks</td><td>2023</td></tr><tr><td>June</td><td>bigeye thresher</td><td>2023</td></tr><tr><td>June</td><td>shortfin mako</td><td>2023</td></tr><tr><td>June</td><td>mako sharks</td><td>2023</td></tr><tr><td>June</td><td>longfin mako</td><td>2023</td></tr><tr><td>June</td><td>Spanish mackerel</td><td>2023</td></tr><tr><td>June</td><td>swordfish</td><td>2023</td></tr><tr><td>June</td><td>blue tilefish</td><td>2023</td></tr><tr><td>June</td><td>sand tilefish</td><td>2023</td></tr><tr><td>June</td><td>golden tilefish</td><td>2023</td></tr><tr><td>June</td><td>unclassified tilefish</td><td>2023</td></tr><tr><td>June</td><td>skipjack tuna</td><td>2023</td></tr><tr><td>June</td><td>bluefin tuna - UNC</td><td>2023</td></tr><tr><td>June</td><td>bluefin tuna - large</td><td>2023</td></tr><tr><td>June</td><td>bluefin tuna - young school</td><td>2023</td></tr><tr><td>June</td><td>bluefin tuna - small medium</td><td>2023</td></tr><tr><td>June</td><td>bluefin tuna - school</td><td>2023</td></tr><tr><td>June</td><td>bluefin tuna - large school</td><td>2023</td></tr><tr><td>June</td><td>bluefin tuna - large medium</td><td>2023</td></tr><tr><td>June</td><td>little tunny</td><td>2023</td></tr><tr><td>June</td><td>bigeye tuna</td><td>2023</td></tr><tr><td>June</td><td>albacore</td><td>2023</td></tr><tr><td>June</td><td>yellowfin tuna</td><td>2023</td></tr><tr><td>June</td><td>wahoo</td><td>2023</td></tr><tr><td>June</td><td>white shark</td><td>2023</td></tr><tr><td>June</td><td>porbeagle shark</td><td>2023</td></tr><tr><td>June</td><td>sandbar shark</td><td>2023</td></tr><tr><td>June</td><td>dusky shark</td><td>2023</td></tr><tr><td>June</td><td>tiger shark</td><td>2023</td></tr><tr><td>June</td><td>blue shark</td><td>2023</td></tr><tr><td>June</td><td>hammerhead sharks</td><td>2023</td></tr><tr><td>June</td><td>blackfin tuna</td><td>2023</td></tr><tr><td>June</td><td>greater amberjack</td><td>2023</td></tr><tr><td>June</td><td>Atlantic bonito</td><td>2023</td></tr><tr><td>June</td><td>dolphin</td><td>2023</td></tr><tr><td>June</td><td>king mackerel</td><td>2023</td></tr><tr><td>June</td><td>white marlin</td><td>2023</td></tr><tr><td>June</td><td>blue marlin</td><td>2023</td></tr><tr><td>June</td><td>sailfish</td><td>2023</td></tr><tr><td>June</td><td>sand tiger</td><td>2023</td></tr><tr><td>June</td><td>thresher sharks</td><td>2023</td></tr><tr><td>June</td><td>bigeye thresher</td><td>2023</td></tr><tr><td>June</td><td>shortfin mako</td><td>2023</td></tr><tr><td>June</td><td>mako sharks</td><td>2023</td></tr><tr><td>June</td><td>longfin mako</td><td>2023</td></tr><tr><td>June</td><td>Spanish mackerel</td><td>2023</td></tr><tr><td>June</td><td>swordfish</td><td>2023</td></tr><tr><td>June</td><td>blue tilefish</td><td>2023</td></tr><tr><td>June</td><td>sand tilefish</td><td>2023</td></tr><tr><td>June</td><td>golden tilefish</td><td>2023</td></tr><tr><td>June</td><td>unclassified tilefish</td><td>2023</td></tr><tr><td>June</td><td>skipjack tuna</td><td>2023</td></tr><tr><td>June</td><td>bluefin tuna - UNC</td><td>2023</td></tr><tr><td>June</td><td>bluefin tuna - large</td><td>2023</td></tr><tr><td>June</td><td>bluefin tuna - young school</td><td>2023</td></tr><tr><td>June</td><td>bluefin tuna - small medium</td><td>2023</td></tr><tr><td>June</td><td>bluefin tuna - school</td><td>2023</td></tr><tr><td>June</td><td>bluefin tuna - large school</td><td>2023</td></tr><tr><td>June</td><td>bluefin tuna - large medium</td><td>2023</td></tr><tr><td>June</td><td>little tunny</td><td>2023</td></tr><tr><td>June</td><td>bigeye tuna</td><td>2023</td></tr><tr><td>June</td><td>albacore</td><td>2023</td></tr><tr><td>June</td><td>yellowfin tuna</td><td>2023</td></tr><tr><td>June</td><td>wahoo</td><td>2023</td></tr><tr><td>June</td><td>white shark</td><td>2023</td></tr><tr><td>June</td><td>porbeagle shark</td><td>2023</td></tr><tr><td>June</td><td>sandbar shark</td><td>2023</td></tr><tr><td>June</td><td>dusky shark</td><td>2023</td></tr><tr><td>June</td><td>tiger shark</td><td>2023</td></tr><tr><td>June</td><td>blue shark</td><td>2023</td></tr><tr><td>June</td><td>hammerhead sharks</td><td>2023</td></tr><tr><td>June</td><td>blackfin tuna</td><td>2023</td></tr><tr><td>June</td><td>greater amberjack</td><td>2023</td></tr><tr><td>June</td><td>Atlantic bonito</td><td>2023</td></tr><tr><td>June</td><td>dolphin</td><td>2023</td></tr><tr><td>June</td><td>king mackerel</td><td>2023</td></tr><tr><td>June</td><td>white marlin</td><td>2023</td></tr><tr><td>June</td><td>blue marlin</td><td>2023</td></tr><tr><td>June</td><td>sailfish</td><td>2023</td></tr><tr><td>June</td><td>sand tiger</td><td>2023</td></tr><tr><td>June</td><td>thresher sharks</td><td>2023</td></tr><tr><td>June</td><td>bigeye thresher</td><td>2023</td></tr><tr><td>June</td><td>shortfin mako</td><td>2023</td></tr><tr><td>June</td><td>mako sharks</td><td>2023</td></tr><tr><td>June</td><td>longfin mako</td><td>2023</td></tr><tr><td>June</td><td>Spanish mackerel</td><td>2023</td></tr><tr><td>June</td><td>swordfish</td><td>2023</td></tr><tr><td>June</td><td>blue tilefish</td><td>2023</td></tr><tr><td>June</td><td>sand tilefish</td><td>2023</td></tr><tr><td>June</td><td>golden tilefish</td><td>2023</td></tr><tr><td>June</td><td>unclassified tilefish</td><td>2023</td></tr><tr><td>June</td><td>skipjack tuna</td><td>2023</td></tr><tr><td>June</td><td>bluefin tuna - UNC</td><td>2023</td></tr><tr><td>June</td><td>bluefin tuna - large</td><td>2023</td></tr><tr><td>June</td><td>bluefin tuna - young school</td><td>2023</td></tr><tr><td>June</td><td>bluefin tuna - small medium</td><td>2023</td></tr><tr><td>June</td><td>bluefin tuna - school</td><td>2023</td></tr><tr><td>June</td><td>bluefin tuna - large school</td><td>2023</td></tr><tr><td>June</td><td>bluefin tuna - large medium</td><td>2023</td></tr><tr><td>June</td><td>little tunny</td><td>2023</td></tr><tr><td>June</td><td>bigeye tuna</td><td>2023</td></tr><tr><td>June</td><td>albacore</td><td>2023</td></tr><tr><td>June</td><td>yellowfin tuna</td><td>2023</td></tr><tr><td>June</td><td>wahoo</td><td>2023</td></tr><tr><td>June</td><td>white shark</td><td>2023</td></tr><tr><td>June</td><td>porbeagle shark</td><td>2023</td></tr><tr><td>June</td><td>sandbar shark</td><td>2023</td></tr><tr><td>June</td><td>dusky shark</td><td>2023</td></tr><tr><td>June</td><td>tiger shark</td><td>2023</td></tr><tr><td>June</td><td>blue shark</td><td>2023</td></tr><tr><td>June</td><td>hammerhead sharks</td><td>2023</td></tr><tr><td>June</td><td>blackfin tuna</td><td>2023</td></tr><tr><td>June</td><td>greater amberjack</td><td>2023</td></tr><tr><td>June</td><td>Atlantic bonito</td><td>2023</td></tr><tr><td>June</td><td>dolphin</td><td>2023</td></tr><tr><td>June</td><td>king mackerel</td><td>2023</td></tr><tr><td>June</td><td>white marlin</td><td>2023</td></tr><tr><td>June</td><td>blue marlin</td><td>2023</td></tr><tr><td>June</td><td>sailfish</td><td>2023</td></tr><tr><td>June</td><td>sand tiger</td><td>2023</td></tr><tr><td>June</td><td>thresher sharks</td><td>2023</td></tr><tr><td>June</td><td>bigeye thresher</td><td>2023</td></tr><tr><td>June</td><td>shortfin mako</td><td>2023</td></tr><tr><td>June</td><td>mako sharks</td><td>2023</td></tr><tr><td>June</td><td>longfin mako</td><td>2023</td></tr><tr><td>June</td><td>Spanish mackerel</td><td>2023</td></tr><tr><td>June</td><td>swordfish</td><td>2023</td></tr><tr><td>June</td><td>blue tilefish</td><td>2023</td></tr><tr><td>June</td><td>sand tilefish</td><td>2023</td></tr><tr><td>June</td><td>golden tilefish</td><td>2023</td></tr><tr><td>June</td><td>unclassified tilefish</td><td>2023</td></tr><tr><td>June</td><td>skipjack tuna</td><td>2023</td></tr><tr><td>June</td><td>bluefin tuna - UNC</td><td>2023</td></tr><tr><td>June</td><td>bluefin tuna - large</td><td>2023</td></tr><tr><td>June</td><td>bluefin tuna - young school</td><td>2023</td></tr><tr><td>June</td><td>bluefin tuna - small medium</td><td>2023</td></tr><tr><td>June</td><td>bluefin tuna - school</td><td>2023</td></tr><tr><td>June</td><td>bluefin tuna - large school</td><td>2023</td></tr><tr><td>June</td><td>bluefin tuna - large medium</td><td>2023</td></tr><tr><td>June</td><td>little tunny</td><td>2023</td></tr><tr><td>June</td><td>bigeye tuna</td><td>2023</td></tr><tr><td>June</td><td>albacore</td><td>2023</td></tr><tr><td>June</td><td>yellowfin tuna</td><td>2023</td></tr><tr><td>June</td><td>wahoo</td><td>2023</td></tr><tr><td>June</td><td>white shark</td><td>2023</td></tr><tr><td>June</td><td>porbeagle shark</td><td>2023</td></tr><tr><td>June</td><td>sandbar shark</td><td>2023</td></tr><tr><td>June</td><td>dusky shark</td><td>2023</td></tr><tr><td>June</td><td>tiger shark</td><td>2023</td></tr><tr><td>June</td><td>blue shark</td><td>2023</td></tr><tr><td>June</td><td>hammerhead sharks</td><td>2023</td></tr><tr><td>June</td><td>blackfin tuna</td><td>2023</td></tr><tr><td>June</td><td>greater amberjack</td><td>2023</td></tr><tr><td>June</td><td>Atlantic bonito</td><td>2023</td></tr><tr><td>June</td><td>dolphin</td><td>2023</td></tr><tr><td>June</td><td>king mackerel</td><td>2023</td></tr><tr><td>June</td><td>white marlin</td><td>2023</td></tr><tr><td>June</td><td>blue marlin</td><td>2023</td></tr><tr><td>June</td><td>sailfish</td><td>2023</td></tr><tr><td>June</td><td>sand tiger</td><td>2023</td></tr><tr><td>June</td><td>thresher sharks</td><td>2023</td></tr><tr><td>June</td><td>bigeye thresher</td><td>2023</td></tr><tr><td>June</td><td>shortfin mako</td><td>2023</td></tr><tr><td>June</td><td>mako sharks</td><td>2023</td></tr><tr><td>June</td><td>longfin mako</td><td>2023</td></tr><tr><td>June</td><td>Spanish mackerel</td><td>2023</td></tr><tr><td>June</td><td>swordfish</td><td>2023</td></tr><tr><td>June</td><td>blue tilefish</td><td>2023</td></tr><tr><td>June</td><td>sand tilefish</td><td>2023</td></tr><tr><td>June</td><td>golden tilefish</td><td>2023</td></tr><tr><td>June</td><td>unclassified tilefish</td><td>2023</td></tr><tr><td>June</td><td>skipjack tuna</td><td>2023</td></tr><tr><td>June</td><td>bluefin tuna - UNC</td><td>2023</td></tr><tr><td>June</td><td>bluefin tuna - large</td><td>2023</td></tr><tr><td>June</td><td>bluefin tuna - young school</td><td>2023</td></tr><tr><td>June</td><td>bluefin tuna - small medium</td><td>2023</td></tr><tr><td>June</td><td>bluefin tuna - school</td><td>2023</td></tr><tr><td>June</td><td>bluefin tuna - large school</td><td>2023</td></tr><tr><td>June</td><td>bluefin tuna - large medium</td><td>2023</td></tr><tr><td>June</td><td>little tunny</td><td>2023</td></tr><tr><td>June</td><td>bigeye tuna</td><td>2023</td></tr><tr><td>June</td><td>albacore</td><td>2023</td></tr><tr><td>June</td><td>yellowfin tuna</td><td>2023</td></tr><tr><td>June</td><td>wahoo</td><td>2023</td></tr><tr><td>June</td><td>white shark</td><td>2023</td></tr><tr><td>June</td><td>porbeagle shark</td><td>2023</td></tr><tr><td>June</td><td>sandbar shark</td><td>2023</td></tr><tr><td>June</td><td>dusky shark</td><td>2023</td></tr><tr><td>June</td><td>tiger shark</td><td>2023</td></tr><tr><td>June</td><td>blue shark</td><td>2023</td></tr><tr><td>June</td><td>hammerhead sharks</td><td>2023</td></tr><tr><td>June</td><td>blackfin tuna</td><td>2023</td></tr><tr><td>June</td><td>greater amberjack</td><td>2023</td></tr><tr><td>June</td><td>Atlantic bonito</td><td>2023</td></tr><tr><td>June</td><td>dolphin</td><td>2023</td></tr><tr><td>June</td><td>king mackerel</td><td>2023</td></tr><tr><td>June</td><td>white marlin</td><td>2023</td></tr><tr><td>June</td><td>blue marlin</td><td>2023</td></tr><tr><td>June</td><td>sailfish</td><td>2023</td></tr><tr><td>June</td><td>sand tiger</td><td>2023</td></tr><tr><td>June</td><td>thresher sharks</td><td>2023</td></tr><tr><td>June</td><td>bigeye thresher</td><td>2023</td></tr><tr><td>June</td><td>shortfin mako</td><td>2023</td></tr><tr><td>June</td><td>mako sharks</td><td>2023</td></tr><tr><td>June</td><td>longfin mako</td><td>2023</td></tr><tr><td>June</td><td>Spanish mackerel</td><td>2023</td></tr><tr><td>June</td><td>swordfish</td><td>2023</td></tr><tr><td>June</td><td>blue tilefish</td><td>2023</td></tr><tr><td>June</td><td>sand tilefish</td><td>2023</td></tr><tr><td>June</td><td>golden tilefish</td><td>2023</td></tr><tr><td>June</td><td>unclassified tilefish</td><td>2023</td></tr><tr><td>June</td><td>skipjack tuna</td><td>2023</td></tr><tr><td>June</td><td>bluefin tuna - UNC</td><td>2023</td></tr><tr><td>June</td><td>bluefin tuna - large</td><td>2023</td></tr><tr><td>June</td><td>bluefin tuna - young school</td><td>2023</td></tr><tr><td>June</td><td>bluefin tuna - small medium</td><td>2023</td></tr><tr><td>June</td><td>bluefin tuna - school</td><td>2023</td></tr><tr><td>June</td><td>bluefin tuna - large school</td><td>2023</td></tr><tr><td>June</td><td>bluefin tuna - large medium</td><td>2023</td></tr><tr><td>June</td><td>little tunny</td><td>2023</td></tr><tr><td>June</td><td>bigeye tuna</td><td>2023</td></tr><tr><td>June</td><td>albacore</td><td>2023</td></tr><tr><td>June</td><td>yellowfin tuna</td><td>2023</td></tr><tr><td>June</td><td>wahoo</td><td>2023</td></tr><tr><td>June</td><td>white shark</td><td>2023</td></tr><tr><td>June</td><td>porbeagle shark</td><td>2023</td></tr><tr><td>June</td><td>sandbar shark</td><td>2023</td></tr><tr><td>June</td><td>dusky shark</td><td>2023</td></tr><tr><td>June</td><td>tiger shark</td><td>2023</td></tr><tr><td>June</td><td>blue shark</td><td>2023</td></tr><tr><td>June</td><td>hammerhead sharks</td><td>2023</td></tr><tr><td>June</td><td>blackfin tuna</td><td>2023</td></tr><tr><td>June</td><td>greater amberjack</td><td>2023</td></tr><tr><td>June</td><td>Atlantic bonito</td><td>2023</td></tr><tr><td>June</td><td>dolphin</td><td>2023</td></tr><tr><td>June</td><td>king mackerel</td><td>2023</td></tr><tr><td>June</td><td>white marlin</td><td>2023</td></tr><tr><td>June</td><td>blue marlin</td><td>2023</td></tr><tr><td>June</td><td>sailfish</td><td>2023</td></tr><tr><td>June</td><td>sand tiger</td><td>2023</td></tr><tr><td>June</td><td>thresher sharks</td><td>2023</td></tr><tr><td>June</td><td>bigeye thresher</td><td>2023</td></tr><tr><td>June</td><td>shortfin mako</td><td>2023</td></tr><tr><td>June</td><td>mako sharks</td><td>2023</td></tr><tr><td>June</td><td>longfin mako</td><td>2023</td></tr><tr><td>June</td><td>Spanish mackerel</td><td>2023</td></tr><tr><td>June</td><td>swordfish</td><td>2023</td></tr><tr><td>June</td><td>blue tilefish</td><td>2023</td></tr><tr><td>June</td><td>sand tilefish</td><td>2023</td></tr><tr><td>June</td><td>golden tilefish</td><td>2023</td></tr><tr><td>June</td><td>unclassified tilefish</td><td>2023</td></tr><tr><td>June</td><td>skipjack tuna</td><td>2023</td></tr><tr><td>June</td><td>bluefin tuna - UNC</td><td>2023</td></tr><tr><td>June</td><td>bluefin tuna - large</td><td>2023</td></tr><tr><td>June</td><td>bluefin tuna - young school</td><td>2023</td></tr><tr><td>June</td><td>bluefin tuna - small medium</td><td>2023</td></tr><tr><td>June</td><td>bluefin tuna - school</td><td>2023</td></tr><tr><td>June</td><td>bluefin tuna - large school</td><td>2023</td></tr><tr><td>June</td><td>bluefin tuna - large medium</td><td>2023</td></tr><tr><td>June</td><td>little tunny</td><td>2023</td></tr><tr><td>June</td><td>bigeye tuna</td><td>2023</td></tr><tr><td>June</td><td>albacore</td><td>2023</td></tr><tr><td>June</td><td>yellowfin tuna</td><td>2023</td></tr><tr><td>June</td><td>wahoo</td><td>2023</td></tr><tr><td>June</td><td>white shark</td><td>2023</td></tr><tr><td>June</td><td>porbeagle shark</td><td>2023</td></tr><tr><td>June</td><td>sandbar shark</td><td>2023</td></tr><tr><td>June</td><td>dusky shark</td><td>2023</td></tr><tr><td>June</td><td>tiger shark</td><td>2023</td></tr><tr><td>June</td><td>blue shark</td><td>2023</td></tr><tr><td>June</td><td>hammerhead sharks</td><td>2023</td></tr><tr><td>June</td><td>blackfin tuna</td><td>2023</td></tr></tbody></table></div>"
      ]
     },
     "metadata": {
      "application/vnd.databricks.v1+output": {
       "addedWidgets": {},
       "aggData": [],
       "aggError": "",
       "aggOverflow": false,
       "aggSchema": [],
       "aggSeriesLimitReached": false,
       "aggType": "",
       "arguments": {},
       "columnCustomDisplayInfos": {},
       "data": [
        [
         "June",
         "greater amberjack",
         2023
        ],
        [
         "June",
         "Atlantic bonito",
         2023
        ],
        [
         "June",
         "dolphin",
         2023
        ],
        [
         "June",
         "king mackerel",
         2023
        ],
        [
         "June",
         "white marlin",
         2023
        ],
        [
         "June",
         "blue marlin",
         2023
        ],
        [
         "June",
         "sailfish",
         2023
        ],
        [
         "June",
         "sand tiger",
         2023
        ],
        [
         "June",
         "thresher sharks",
         2023
        ],
        [
         "June",
         "bigeye thresher",
         2023
        ],
        [
         "June",
         "shortfin mako",
         2023
        ],
        [
         "June",
         "mako sharks",
         2023
        ],
        [
         "June",
         "longfin mako",
         2023
        ],
        [
         "June",
         "Spanish mackerel",
         2023
        ],
        [
         "June",
         "swordfish",
         2023
        ],
        [
         "June",
         "blue tilefish",
         2023
        ],
        [
         "June",
         "sand tilefish",
         2023
        ],
        [
         "June",
         "golden tilefish",
         2023
        ],
        [
         "June",
         "unclassified tilefish",
         2023
        ],
        [
         "June",
         "skipjack tuna",
         2023
        ],
        [
         "June",
         "bluefin tuna - UNC",
         2023
        ],
        [
         "June",
         "bluefin tuna - large",
         2023
        ],
        [
         "June",
         "bluefin tuna - young school",
         2023
        ],
        [
         "June",
         "bluefin tuna - small medium",
         2023
        ],
        [
         "June",
         "bluefin tuna - school",
         2023
        ],
        [
         "June",
         "bluefin tuna - large school",
         2023
        ],
        [
         "June",
         "bluefin tuna - large medium",
         2023
        ],
        [
         "June",
         "little tunny",
         2023
        ],
        [
         "June",
         "bigeye tuna",
         2023
        ],
        [
         "June",
         "albacore",
         2023
        ],
        [
         "June",
         "yellowfin tuna",
         2023
        ],
        [
         "June",
         "wahoo",
         2023
        ],
        [
         "June",
         "white shark",
         2023
        ],
        [
         "June",
         "porbeagle shark",
         2023
        ],
        [
         "June",
         "sandbar shark",
         2023
        ],
        [
         "June",
         "dusky shark",
         2023
        ],
        [
         "June",
         "tiger shark",
         2023
        ],
        [
         "June",
         "blue shark",
         2023
        ],
        [
         "June",
         "hammerhead sharks",
         2023
        ],
        [
         "June",
         "blackfin tuna",
         2023
        ],
        [
         "June",
         "greater amberjack",
         2023
        ],
        [
         "June",
         "Atlantic bonito",
         2023
        ],
        [
         "June",
         "dolphin",
         2023
        ],
        [
         "June",
         "king mackerel",
         2023
        ],
        [
         "June",
         "white marlin",
         2023
        ],
        [
         "June",
         "blue marlin",
         2023
        ],
        [
         "June",
         "sailfish",
         2023
        ],
        [
         "June",
         "sand tiger",
         2023
        ],
        [
         "June",
         "thresher sharks",
         2023
        ],
        [
         "June",
         "bigeye thresher",
         2023
        ],
        [
         "June",
         "shortfin mako",
         2023
        ],
        [
         "June",
         "mako sharks",
         2023
        ],
        [
         "June",
         "longfin mako",
         2023
        ],
        [
         "June",
         "Spanish mackerel",
         2023
        ],
        [
         "June",
         "swordfish",
         2023
        ],
        [
         "June",
         "blue tilefish",
         2023
        ],
        [
         "June",
         "sand tilefish",
         2023
        ],
        [
         "June",
         "golden tilefish",
         2023
        ],
        [
         "June",
         "unclassified tilefish",
         2023
        ],
        [
         "June",
         "skipjack tuna",
         2023
        ],
        [
         "June",
         "bluefin tuna - UNC",
         2023
        ],
        [
         "June",
         "bluefin tuna - large",
         2023
        ],
        [
         "June",
         "bluefin tuna - young school",
         2023
        ],
        [
         "June",
         "bluefin tuna - small medium",
         2023
        ],
        [
         "June",
         "bluefin tuna - school",
         2023
        ],
        [
         "June",
         "bluefin tuna - large school",
         2023
        ],
        [
         "June",
         "bluefin tuna - large medium",
         2023
        ],
        [
         "June",
         "little tunny",
         2023
        ],
        [
         "June",
         "bigeye tuna",
         2023
        ],
        [
         "June",
         "albacore",
         2023
        ],
        [
         "June",
         "yellowfin tuna",
         2023
        ],
        [
         "June",
         "wahoo",
         2023
        ],
        [
         "June",
         "white shark",
         2023
        ],
        [
         "June",
         "porbeagle shark",
         2023
        ],
        [
         "June",
         "sandbar shark",
         2023
        ],
        [
         "June",
         "dusky shark",
         2023
        ],
        [
         "June",
         "tiger shark",
         2023
        ],
        [
         "June",
         "blue shark",
         2023
        ],
        [
         "June",
         "hammerhead sharks",
         2023
        ],
        [
         "June",
         "blackfin tuna",
         2023
        ],
        [
         "June",
         "greater amberjack",
         2023
        ],
        [
         "June",
         "Atlantic bonito",
         2023
        ],
        [
         "June",
         "dolphin",
         2023
        ],
        [
         "June",
         "king mackerel",
         2023
        ],
        [
         "June",
         "white marlin",
         2023
        ],
        [
         "June",
         "blue marlin",
         2023
        ],
        [
         "June",
         "sailfish",
         2023
        ],
        [
         "June",
         "sand tiger",
         2023
        ],
        [
         "June",
         "thresher sharks",
         2023
        ],
        [
         "June",
         "bigeye thresher",
         2023
        ],
        [
         "June",
         "shortfin mako",
         2023
        ],
        [
         "June",
         "mako sharks",
         2023
        ],
        [
         "June",
         "longfin mako",
         2023
        ],
        [
         "June",
         "Spanish mackerel",
         2023
        ],
        [
         "June",
         "swordfish",
         2023
        ],
        [
         "June",
         "blue tilefish",
         2023
        ],
        [
         "June",
         "sand tilefish",
         2023
        ],
        [
         "June",
         "golden tilefish",
         2023
        ],
        [
         "June",
         "unclassified tilefish",
         2023
        ],
        [
         "June",
         "skipjack tuna",
         2023
        ],
        [
         "June",
         "bluefin tuna - UNC",
         2023
        ],
        [
         "June",
         "bluefin tuna - large",
         2023
        ],
        [
         "June",
         "bluefin tuna - young school",
         2023
        ],
        [
         "June",
         "bluefin tuna - small medium",
         2023
        ],
        [
         "June",
         "bluefin tuna - school",
         2023
        ],
        [
         "June",
         "bluefin tuna - large school",
         2023
        ],
        [
         "June",
         "bluefin tuna - large medium",
         2023
        ],
        [
         "June",
         "little tunny",
         2023
        ],
        [
         "June",
         "bigeye tuna",
         2023
        ],
        [
         "June",
         "albacore",
         2023
        ],
        [
         "June",
         "yellowfin tuna",
         2023
        ],
        [
         "June",
         "wahoo",
         2023
        ],
        [
         "June",
         "white shark",
         2023
        ],
        [
         "June",
         "porbeagle shark",
         2023
        ],
        [
         "June",
         "sandbar shark",
         2023
        ],
        [
         "June",
         "dusky shark",
         2023
        ],
        [
         "June",
         "tiger shark",
         2023
        ],
        [
         "June",
         "blue shark",
         2023
        ],
        [
         "June",
         "hammerhead sharks",
         2023
        ],
        [
         "June",
         "blackfin tuna",
         2023
        ],
        [
         "June",
         "greater amberjack",
         2023
        ],
        [
         "June",
         "Atlantic bonito",
         2023
        ],
        [
         "June",
         "dolphin",
         2023
        ],
        [
         "June",
         "king mackerel",
         2023
        ],
        [
         "June",
         "white marlin",
         2023
        ],
        [
         "June",
         "blue marlin",
         2023
        ],
        [
         "June",
         "sailfish",
         2023
        ],
        [
         "June",
         "sand tiger",
         2023
        ],
        [
         "June",
         "thresher sharks",
         2023
        ],
        [
         "June",
         "bigeye thresher",
         2023
        ],
        [
         "June",
         "shortfin mako",
         2023
        ],
        [
         "June",
         "mako sharks",
         2023
        ],
        [
         "June",
         "longfin mako",
         2023
        ],
        [
         "June",
         "Spanish mackerel",
         2023
        ],
        [
         "June",
         "swordfish",
         2023
        ],
        [
         "June",
         "blue tilefish",
         2023
        ],
        [
         "June",
         "sand tilefish",
         2023
        ],
        [
         "June",
         "golden tilefish",
         2023
        ],
        [
         "June",
         "unclassified tilefish",
         2023
        ],
        [
         "June",
         "skipjack tuna",
         2023
        ],
        [
         "June",
         "bluefin tuna - UNC",
         2023
        ],
        [
         "June",
         "bluefin tuna - large",
         2023
        ],
        [
         "June",
         "bluefin tuna - young school",
         2023
        ],
        [
         "June",
         "bluefin tuna - small medium",
         2023
        ],
        [
         "June",
         "bluefin tuna - school",
         2023
        ],
        [
         "June",
         "bluefin tuna - large school",
         2023
        ],
        [
         "June",
         "bluefin tuna - large medium",
         2023
        ],
        [
         "June",
         "little tunny",
         2023
        ],
        [
         "June",
         "bigeye tuna",
         2023
        ],
        [
         "June",
         "albacore",
         2023
        ],
        [
         "June",
         "yellowfin tuna",
         2023
        ],
        [
         "June",
         "wahoo",
         2023
        ],
        [
         "June",
         "white shark",
         2023
        ],
        [
         "June",
         "porbeagle shark",
         2023
        ],
        [
         "June",
         "sandbar shark",
         2023
        ],
        [
         "June",
         "dusky shark",
         2023
        ],
        [
         "June",
         "tiger shark",
         2023
        ],
        [
         "June",
         "blue shark",
         2023
        ],
        [
         "June",
         "hammerhead sharks",
         2023
        ],
        [
         "June",
         "blackfin tuna",
         2023
        ],
        [
         "June",
         "greater amberjack",
         2023
        ],
        [
         "June",
         "Atlantic bonito",
         2023
        ],
        [
         "June",
         "dolphin",
         2023
        ],
        [
         "June",
         "king mackerel",
         2023
        ],
        [
         "June",
         "white marlin",
         2023
        ],
        [
         "June",
         "blue marlin",
         2023
        ],
        [
         "June",
         "sailfish",
         2023
        ],
        [
         "June",
         "sand tiger",
         2023
        ],
        [
         "June",
         "thresher sharks",
         2023
        ],
        [
         "June",
         "bigeye thresher",
         2023
        ],
        [
         "June",
         "shortfin mako",
         2023
        ],
        [
         "June",
         "mako sharks",
         2023
        ],
        [
         "June",
         "longfin mako",
         2023
        ],
        [
         "June",
         "Spanish mackerel",
         2023
        ],
        [
         "June",
         "swordfish",
         2023
        ],
        [
         "June",
         "blue tilefish",
         2023
        ],
        [
         "June",
         "sand tilefish",
         2023
        ],
        [
         "June",
         "golden tilefish",
         2023
        ],
        [
         "June",
         "unclassified tilefish",
         2023
        ],
        [
         "June",
         "skipjack tuna",
         2023
        ],
        [
         "June",
         "bluefin tuna - UNC",
         2023
        ],
        [
         "June",
         "bluefin tuna - large",
         2023
        ],
        [
         "June",
         "bluefin tuna - young school",
         2023
        ],
        [
         "June",
         "bluefin tuna - small medium",
         2023
        ],
        [
         "June",
         "bluefin tuna - school",
         2023
        ],
        [
         "June",
         "bluefin tuna - large school",
         2023
        ],
        [
         "June",
         "bluefin tuna - large medium",
         2023
        ],
        [
         "June",
         "little tunny",
         2023
        ],
        [
         "June",
         "bigeye tuna",
         2023
        ],
        [
         "June",
         "albacore",
         2023
        ],
        [
         "June",
         "yellowfin tuna",
         2023
        ],
        [
         "June",
         "wahoo",
         2023
        ],
        [
         "June",
         "white shark",
         2023
        ],
        [
         "June",
         "porbeagle shark",
         2023
        ],
        [
         "June",
         "sandbar shark",
         2023
        ],
        [
         "June",
         "dusky shark",
         2023
        ],
        [
         "June",
         "tiger shark",
         2023
        ],
        [
         "June",
         "blue shark",
         2023
        ],
        [
         "June",
         "hammerhead sharks",
         2023
        ],
        [
         "June",
         "blackfin tuna",
         2023
        ],
        [
         "June",
         "greater amberjack",
         2023
        ],
        [
         "June",
         "Atlantic bonito",
         2023
        ],
        [
         "June",
         "dolphin",
         2023
        ],
        [
         "June",
         "king mackerel",
         2023
        ],
        [
         "June",
         "white marlin",
         2023
        ],
        [
         "June",
         "blue marlin",
         2023
        ],
        [
         "June",
         "sailfish",
         2023
        ],
        [
         "June",
         "sand tiger",
         2023
        ],
        [
         "June",
         "thresher sharks",
         2023
        ],
        [
         "June",
         "bigeye thresher",
         2023
        ],
        [
         "June",
         "shortfin mako",
         2023
        ],
        [
         "June",
         "mako sharks",
         2023
        ],
        [
         "June",
         "longfin mako",
         2023
        ],
        [
         "June",
         "Spanish mackerel",
         2023
        ],
        [
         "June",
         "swordfish",
         2023
        ],
        [
         "June",
         "blue tilefish",
         2023
        ],
        [
         "June",
         "sand tilefish",
         2023
        ],
        [
         "June",
         "golden tilefish",
         2023
        ],
        [
         "June",
         "unclassified tilefish",
         2023
        ],
        [
         "June",
         "skipjack tuna",
         2023
        ],
        [
         "June",
         "bluefin tuna - UNC",
         2023
        ],
        [
         "June",
         "bluefin tuna - large",
         2023
        ],
        [
         "June",
         "bluefin tuna - young school",
         2023
        ],
        [
         "June",
         "bluefin tuna - small medium",
         2023
        ],
        [
         "June",
         "bluefin tuna - school",
         2023
        ],
        [
         "June",
         "bluefin tuna - large school",
         2023
        ],
        [
         "June",
         "bluefin tuna - large medium",
         2023
        ],
        [
         "June",
         "little tunny",
         2023
        ],
        [
         "June",
         "bigeye tuna",
         2023
        ],
        [
         "June",
         "albacore",
         2023
        ],
        [
         "June",
         "yellowfin tuna",
         2023
        ],
        [
         "June",
         "wahoo",
         2023
        ],
        [
         "June",
         "white shark",
         2023
        ],
        [
         "June",
         "porbeagle shark",
         2023
        ],
        [
         "June",
         "sandbar shark",
         2023
        ],
        [
         "June",
         "dusky shark",
         2023
        ],
        [
         "June",
         "tiger shark",
         2023
        ],
        [
         "June",
         "blue shark",
         2023
        ],
        [
         "June",
         "hammerhead sharks",
         2023
        ],
        [
         "June",
         "blackfin tuna",
         2023
        ],
        [
         "June",
         "greater amberjack",
         2023
        ],
        [
         "June",
         "Atlantic bonito",
         2023
        ],
        [
         "June",
         "dolphin",
         2023
        ],
        [
         "June",
         "king mackerel",
         2023
        ],
        [
         "June",
         "white marlin",
         2023
        ],
        [
         "June",
         "blue marlin",
         2023
        ],
        [
         "June",
         "sailfish",
         2023
        ],
        [
         "June",
         "sand tiger",
         2023
        ],
        [
         "June",
         "thresher sharks",
         2023
        ],
        [
         "June",
         "bigeye thresher",
         2023
        ],
        [
         "June",
         "shortfin mako",
         2023
        ],
        [
         "June",
         "mako sharks",
         2023
        ],
        [
         "June",
         "longfin mako",
         2023
        ],
        [
         "June",
         "Spanish mackerel",
         2023
        ],
        [
         "June",
         "swordfish",
         2023
        ],
        [
         "June",
         "blue tilefish",
         2023
        ],
        [
         "June",
         "sand tilefish",
         2023
        ],
        [
         "June",
         "golden tilefish",
         2023
        ],
        [
         "June",
         "unclassified tilefish",
         2023
        ],
        [
         "June",
         "skipjack tuna",
         2023
        ],
        [
         "June",
         "bluefin tuna - UNC",
         2023
        ],
        [
         "June",
         "bluefin tuna - large",
         2023
        ],
        [
         "June",
         "bluefin tuna - young school",
         2023
        ],
        [
         "June",
         "bluefin tuna - small medium",
         2023
        ],
        [
         "June",
         "bluefin tuna - school",
         2023
        ],
        [
         "June",
         "bluefin tuna - large school",
         2023
        ],
        [
         "June",
         "bluefin tuna - large medium",
         2023
        ],
        [
         "June",
         "little tunny",
         2023
        ],
        [
         "June",
         "bigeye tuna",
         2023
        ],
        [
         "June",
         "albacore",
         2023
        ],
        [
         "June",
         "yellowfin tuna",
         2023
        ],
        [
         "June",
         "wahoo",
         2023
        ],
        [
         "June",
         "white shark",
         2023
        ],
        [
         "June",
         "porbeagle shark",
         2023
        ],
        [
         "June",
         "sandbar shark",
         2023
        ],
        [
         "June",
         "dusky shark",
         2023
        ],
        [
         "June",
         "tiger shark",
         2023
        ],
        [
         "June",
         "blue shark",
         2023
        ],
        [
         "June",
         "hammerhead sharks",
         2023
        ],
        [
         "June",
         "blackfin tuna",
         2023
        ],
        [
         "June",
         "greater amberjack",
         2023
        ],
        [
         "June",
         "Atlantic bonito",
         2023
        ],
        [
         "June",
         "dolphin",
         2023
        ],
        [
         "June",
         "king mackerel",
         2023
        ],
        [
         "June",
         "white marlin",
         2023
        ],
        [
         "June",
         "blue marlin",
         2023
        ],
        [
         "June",
         "sailfish",
         2023
        ],
        [
         "June",
         "sand tiger",
         2023
        ],
        [
         "June",
         "thresher sharks",
         2023
        ],
        [
         "June",
         "bigeye thresher",
         2023
        ],
        [
         "June",
         "shortfin mako",
         2023
        ],
        [
         "June",
         "mako sharks",
         2023
        ],
        [
         "June",
         "longfin mako",
         2023
        ],
        [
         "June",
         "Spanish mackerel",
         2023
        ],
        [
         "June",
         "swordfish",
         2023
        ],
        [
         "June",
         "blue tilefish",
         2023
        ],
        [
         "June",
         "sand tilefish",
         2023
        ],
        [
         "June",
         "golden tilefish",
         2023
        ],
        [
         "June",
         "unclassified tilefish",
         2023
        ],
        [
         "June",
         "skipjack tuna",
         2023
        ],
        [
         "June",
         "bluefin tuna - UNC",
         2023
        ],
        [
         "June",
         "bluefin tuna - large",
         2023
        ],
        [
         "June",
         "bluefin tuna - young school",
         2023
        ],
        [
         "June",
         "bluefin tuna - small medium",
         2023
        ],
        [
         "June",
         "bluefin tuna - school",
         2023
        ],
        [
         "June",
         "bluefin tuna - large school",
         2023
        ],
        [
         "June",
         "bluefin tuna - large medium",
         2023
        ],
        [
         "June",
         "little tunny",
         2023
        ],
        [
         "June",
         "bigeye tuna",
         2023
        ],
        [
         "June",
         "albacore",
         2023
        ],
        [
         "June",
         "yellowfin tuna",
         2023
        ],
        [
         "June",
         "wahoo",
         2023
        ],
        [
         "June",
         "white shark",
         2023
        ],
        [
         "June",
         "porbeagle shark",
         2023
        ],
        [
         "June",
         "sandbar shark",
         2023
        ],
        [
         "June",
         "dusky shark",
         2023
        ],
        [
         "June",
         "tiger shark",
         2023
        ],
        [
         "June",
         "blue shark",
         2023
        ],
        [
         "June",
         "hammerhead sharks",
         2023
        ],
        [
         "June",
         "blackfin tuna",
         2023
        ],
        [
         "June",
         "greater amberjack",
         2023
        ],
        [
         "June",
         "Atlantic bonito",
         2023
        ],
        [
         "June",
         "dolphin",
         2023
        ],
        [
         "June",
         "king mackerel",
         2023
        ],
        [
         "June",
         "white marlin",
         2023
        ],
        [
         "June",
         "blue marlin",
         2023
        ],
        [
         "June",
         "sailfish",
         2023
        ],
        [
         "June",
         "sand tiger",
         2023
        ],
        [
         "June",
         "thresher sharks",
         2023
        ],
        [
         "June",
         "bigeye thresher",
         2023
        ],
        [
         "June",
         "shortfin mako",
         2023
        ],
        [
         "June",
         "mako sharks",
         2023
        ],
        [
         "June",
         "longfin mako",
         2023
        ],
        [
         "June",
         "Spanish mackerel",
         2023
        ],
        [
         "June",
         "swordfish",
         2023
        ],
        [
         "June",
         "blue tilefish",
         2023
        ],
        [
         "June",
         "sand tilefish",
         2023
        ],
        [
         "June",
         "golden tilefish",
         2023
        ],
        [
         "June",
         "unclassified tilefish",
         2023
        ],
        [
         "June",
         "skipjack tuna",
         2023
        ],
        [
         "June",
         "bluefin tuna - UNC",
         2023
        ],
        [
         "June",
         "bluefin tuna - large",
         2023
        ],
        [
         "June",
         "bluefin tuna - young school",
         2023
        ],
        [
         "June",
         "bluefin tuna - small medium",
         2023
        ],
        [
         "June",
         "bluefin tuna - school",
         2023
        ],
        [
         "June",
         "bluefin tuna - large school",
         2023
        ],
        [
         "June",
         "bluefin tuna - large medium",
         2023
        ],
        [
         "June",
         "little tunny",
         2023
        ],
        [
         "June",
         "bigeye tuna",
         2023
        ],
        [
         "June",
         "albacore",
         2023
        ],
        [
         "June",
         "yellowfin tuna",
         2023
        ],
        [
         "June",
         "wahoo",
         2023
        ],
        [
         "June",
         "white shark",
         2023
        ],
        [
         "June",
         "porbeagle shark",
         2023
        ],
        [
         "June",
         "sandbar shark",
         2023
        ],
        [
         "June",
         "dusky shark",
         2023
        ],
        [
         "June",
         "tiger shark",
         2023
        ],
        [
         "June",
         "blue shark",
         2023
        ],
        [
         "June",
         "hammerhead sharks",
         2023
        ],
        [
         "June",
         "blackfin tuna",
         2023
        ],
        [
         "June",
         "greater amberjack",
         2023
        ],
        [
         "June",
         "Atlantic bonito",
         2023
        ],
        [
         "June",
         "dolphin",
         2023
        ],
        [
         "June",
         "king mackerel",
         2023
        ],
        [
         "June",
         "white marlin",
         2023
        ],
        [
         "June",
         "blue marlin",
         2023
        ],
        [
         "June",
         "sailfish",
         2023
        ],
        [
         "June",
         "sand tiger",
         2023
        ],
        [
         "June",
         "thresher sharks",
         2023
        ],
        [
         "June",
         "bigeye thresher",
         2023
        ],
        [
         "June",
         "shortfin mako",
         2023
        ],
        [
         "June",
         "mako sharks",
         2023
        ],
        [
         "June",
         "longfin mako",
         2023
        ],
        [
         "June",
         "Spanish mackerel",
         2023
        ],
        [
         "June",
         "swordfish",
         2023
        ],
        [
         "June",
         "blue tilefish",
         2023
        ],
        [
         "June",
         "sand tilefish",
         2023
        ],
        [
         "June",
         "golden tilefish",
         2023
        ],
        [
         "June",
         "unclassified tilefish",
         2023
        ],
        [
         "June",
         "skipjack tuna",
         2023
        ],
        [
         "June",
         "bluefin tuna - UNC",
         2023
        ],
        [
         "June",
         "bluefin tuna - large",
         2023
        ],
        [
         "June",
         "bluefin tuna - young school",
         2023
        ],
        [
         "June",
         "bluefin tuna - small medium",
         2023
        ],
        [
         "June",
         "bluefin tuna - school",
         2023
        ],
        [
         "June",
         "bluefin tuna - large school",
         2023
        ],
        [
         "June",
         "bluefin tuna - large medium",
         2023
        ],
        [
         "June",
         "little tunny",
         2023
        ],
        [
         "June",
         "bigeye tuna",
         2023
        ],
        [
         "June",
         "albacore",
         2023
        ],
        [
         "June",
         "yellowfin tuna",
         2023
        ],
        [
         "June",
         "wahoo",
         2023
        ],
        [
         "June",
         "white shark",
         2023
        ],
        [
         "June",
         "porbeagle shark",
         2023
        ],
        [
         "June",
         "sandbar shark",
         2023
        ],
        [
         "June",
         "dusky shark",
         2023
        ],
        [
         "June",
         "tiger shark",
         2023
        ],
        [
         "June",
         "blue shark",
         2023
        ],
        [
         "June",
         "hammerhead sharks",
         2023
        ],
        [
         "June",
         "blackfin tuna",
         2023
        ],
        [
         "June",
         "greater amberjack",
         2023
        ],
        [
         "June",
         "Atlantic bonito",
         2023
        ],
        [
         "June",
         "dolphin",
         2023
        ],
        [
         "June",
         "king mackerel",
         2023
        ],
        [
         "June",
         "white marlin",
         2023
        ],
        [
         "June",
         "blue marlin",
         2023
        ],
        [
         "June",
         "sailfish",
         2023
        ],
        [
         "June",
         "sand tiger",
         2023
        ],
        [
         "June",
         "thresher sharks",
         2023
        ],
        [
         "June",
         "bigeye thresher",
         2023
        ],
        [
         "June",
         "shortfin mako",
         2023
        ],
        [
         "June",
         "mako sharks",
         2023
        ],
        [
         "June",
         "longfin mako",
         2023
        ],
        [
         "June",
         "Spanish mackerel",
         2023
        ],
        [
         "June",
         "swordfish",
         2023
        ],
        [
         "June",
         "blue tilefish",
         2023
        ],
        [
         "June",
         "sand tilefish",
         2023
        ],
        [
         "June",
         "golden tilefish",
         2023
        ],
        [
         "June",
         "unclassified tilefish",
         2023
        ],
        [
         "June",
         "skipjack tuna",
         2023
        ],
        [
         "June",
         "bluefin tuna - UNC",
         2023
        ],
        [
         "June",
         "bluefin tuna - large",
         2023
        ],
        [
         "June",
         "bluefin tuna - young school",
         2023
        ],
        [
         "June",
         "bluefin tuna - small medium",
         2023
        ],
        [
         "June",
         "bluefin tuna - school",
         2023
        ],
        [
         "June",
         "bluefin tuna - large school",
         2023
        ],
        [
         "June",
         "bluefin tuna - large medium",
         2023
        ],
        [
         "June",
         "little tunny",
         2023
        ],
        [
         "June",
         "bigeye tuna",
         2023
        ],
        [
         "June",
         "albacore",
         2023
        ],
        [
         "June",
         "yellowfin tuna",
         2023
        ],
        [
         "June",
         "wahoo",
         2023
        ],
        [
         "June",
         "white shark",
         2023
        ],
        [
         "June",
         "porbeagle shark",
         2023
        ],
        [
         "June",
         "sandbar shark",
         2023
        ],
        [
         "June",
         "dusky shark",
         2023
        ],
        [
         "June",
         "tiger shark",
         2023
        ],
        [
         "June",
         "blue shark",
         2023
        ],
        [
         "June",
         "hammerhead sharks",
         2023
        ],
        [
         "June",
         "blackfin tuna",
         2023
        ],
        [
         "June",
         "greater amberjack",
         2023
        ],
        [
         "June",
         "Atlantic bonito",
         2023
        ],
        [
         "June",
         "dolphin",
         2023
        ],
        [
         "June",
         "king mackerel",
         2023
        ],
        [
         "June",
         "white marlin",
         2023
        ],
        [
         "June",
         "blue marlin",
         2023
        ],
        [
         "June",
         "sailfish",
         2023
        ],
        [
         "June",
         "sand tiger",
         2023
        ],
        [
         "June",
         "thresher sharks",
         2023
        ],
        [
         "June",
         "bigeye thresher",
         2023
        ],
        [
         "June",
         "shortfin mako",
         2023
        ],
        [
         "June",
         "mako sharks",
         2023
        ],
        [
         "June",
         "longfin mako",
         2023
        ],
        [
         "June",
         "Spanish mackerel",
         2023
        ],
        [
         "June",
         "swordfish",
         2023
        ],
        [
         "June",
         "blue tilefish",
         2023
        ],
        [
         "June",
         "sand tilefish",
         2023
        ],
        [
         "June",
         "golden tilefish",
         2023
        ],
        [
         "June",
         "unclassified tilefish",
         2023
        ],
        [
         "June",
         "skipjack tuna",
         2023
        ],
        [
         "June",
         "bluefin tuna - UNC",
         2023
        ],
        [
         "June",
         "bluefin tuna - large",
         2023
        ],
        [
         "June",
         "bluefin tuna - young school",
         2023
        ],
        [
         "June",
         "bluefin tuna - small medium",
         2023
        ],
        [
         "June",
         "bluefin tuna - school",
         2023
        ],
        [
         "June",
         "bluefin tuna - large school",
         2023
        ],
        [
         "June",
         "bluefin tuna - large medium",
         2023
        ],
        [
         "June",
         "little tunny",
         2023
        ],
        [
         "June",
         "bigeye tuna",
         2023
        ],
        [
         "June",
         "albacore",
         2023
        ],
        [
         "June",
         "yellowfin tuna",
         2023
        ],
        [
         "June",
         "wahoo",
         2023
        ],
        [
         "June",
         "white shark",
         2023
        ],
        [
         "June",
         "porbeagle shark",
         2023
        ],
        [
         "June",
         "sandbar shark",
         2023
        ],
        [
         "June",
         "dusky shark",
         2023
        ],
        [
         "June",
         "tiger shark",
         2023
        ],
        [
         "June",
         "blue shark",
         2023
        ],
        [
         "June",
         "hammerhead sharks",
         2023
        ],
        [
         "June",
         "blackfin tuna",
         2023
        ]
       ],
       "datasetInfos": [
        {
         "name": "_sqldf",
         "schema": {
          "fields": [
           {
            "metadata": {},
            "name": "mo_name",
            "nullable": true,
            "type": "string"
           },
           {
            "metadata": {},
            "name": "sp_name",
            "nullable": true,
            "type": "string"
           },
           {
            "metadata": {},
            "name": "year",
            "nullable": true,
            "type": "integer"
           }
          ],
          "type": "struct"
         },
         "tableIdentifier": null,
         "typeStr": "pyspark.sql.connect.dataframe.DataFrame"
        }
       ],
       "dbfsResultPath": null,
       "isJsonSchema": true,
       "metadata": {
        "createTempViewForImplicitDf": true,
        "dataframeName": "_sqldf",
        "executionCount": 6
       },
       "overflow": false,
       "plotOptions": {
        "customPlotOptions": {},
        "displayType": "table",
        "pivotAggregation": null,
        "pivotColumns": null,
        "xColumns": null,
        "yColumns": null
       },
       "removedWidgets": [],
       "schema": [
        {
         "metadata": "{}",
         "name": "mo_name",
         "type": "\"string\""
        },
        {
         "metadata": "{}",
         "name": "sp_name",
         "type": "\"string\""
        },
        {
         "metadata": "{}",
         "name": "year",
         "type": "\"integer\""
        }
       ],
       "type": "table"
      }
     },
     "output_type": "display_data"
    }
   ],
   "source": [
    "%sql\n",
    "--verify that our data is loaded correctly\n",
    "select * from workspace.default.monthly_species_summary"
   ]
  }
 ],
 "metadata": {
  "application/vnd.databricks.v1+notebook": {
   "computePreferences": {
    "hardware": {
     "accelerator": null,
     "gpuPoolId": null,
     "memory": null
    }
   },
   "dashboards": [],
   "environmentMetadata": {
    "base_environment": "",
    "environment_version": "3"
   },
   "inputWidgetPreferences": null,
   "language": "python",
   "notebookMetadata": {
    "mostRecentlyExecutedCommandWithImplicitDF": {
     "commandId": 6395108263808004,
     "dataframes": [
      "_sqldf"
     ]
    },
    "pythonIndentUnit": 4
   },
   "notebookName": "MonthlyFishUpdate",
   "widgets": {
    "dummy": {
     "currentValue": "",
     "nuid": "70d5f408-f46d-41c6-88c1-8e336067e0cb",
     "typedWidgetInfo": {
      "autoCreated": false,
      "defaultValue": "",
      "label": null,
      "name": "dummy",
      "options": {
       "widgetDisplayType": "Text",
       "validationRegex": null
      },
      "parameterDataType": "String"
     },
     "widgetInfo": {
      "widgetType": "text",
      "defaultValue": "",
      "label": null,
      "name": "dummy",
      "options": {
       "widgetType": "text",
       "autoCreated": null,
       "validationRegex": null
      }
     }
    }
   }
  },
  "language_info": {
   "name": "python"
  }
 },
 "nbformat": 4,
 "nbformat_minor": 0
}