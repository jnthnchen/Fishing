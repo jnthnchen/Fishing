{
 "cells": [
  {
   "cell_type": "code",
   "execution_count": 0,
   "metadata": {
    "application/vnd.databricks.v1+cell": {
     "cellMetadata": {
      "byteLimit": 2048000,
      "implicitDf": true,
      "rowLimit": 10000
     },
     "inputWidgets": {},
     "nuid": "96106d39-2528-40b5-b4ad-733e4bc91021",
     "showTitle": false,
     "tableResultSettingsMap": {},
     "title": ""
    }
   },
   "outputs": [
    {
     "output_type": "display_data",
     "data": {
      "text/html": [
       "<style scoped>\n",
       "  .table-result-container {\n",
       "    max-height: 300px;\n",
       "    overflow: auto;\n",
       "  }\n",
       "  table, th, td {\n",
       "    border: 1px solid black;\n",
       "    border-collapse: collapse;\n",
       "  }\n",
       "  th, td {\n",
       "    padding: 5px;\n",
       "  }\n",
       "  th {\n",
       "    text-align: left;\n",
       "  }\n",
       "</style><div class='table-result-container'><table class='table-result'><thead style='background-color: white'><tr><th>mo_name</th><th>sp_code</th><th>sp_name</th><th>st</th><th>boattype</th><th>month</th><th>area</th><th>trips</th><th>v_trips</th><th>boatsonf</th><th>tot_area</th><th>n_area</th><th>p_area</th><th>year</th><th>state</th><th>n</th><th>mbluetile</th><th>msandtile</th><th>mgoldtile</th><th>munclasstile</th><th>malb</th><th>mskj</th><th>myft</th><th>mbet</th><th>mwhm</th><th>mbum</th><th>msai</th><th>mwah</th><th>mblushk</th><th>mthrshk</th><th>mbethrsh</th><th>msfnmako</th><th>mlfnmako</th><th>mdskyshk</th><th>mhmmrshk</th><th>mltunny</th><th>mbon</th><th>mkmack</th><th>msmack</th><th>mblktun</th><th>msbarshk</th><th>mswd</th><th>mmakoshk</th><th>mwshk</th><th>mtgrshk</th><th>mstgrshk</th><th>mambrjk</th><th>mdol</th><th>mysbft</th><th>msbft</th><th>mlschbft</th><th>msmdbft</th><th>mlgmdbft</th><th>mlgbft</th><th>muncbft</th><th>mporbgl</th><th>sbluetile</th><th>ssandtile</th><th>sgoldtile</th><th>sunclasstile</th><th>salb</th><th>sskj</th><th>syft</th><th>sbet</th><th>swhm</th><th>sbum</th><th>ssai</th><th>swah</th><th>sblushk</th><th>sthrshk</th><th>sbethrsh</th><th>ssfnmako</th><th>slfnmako</th><th>sdskyshk</th><th>shmmrshk</th><th>sltunny</th><th>sbon</th><th>skmack</th><th>ssmack</th><th>sblktun</th><th>ssbarshk</th><th>sswd</th><th>smakoshk</th><th>swshk</th><th>stgrshk</th><th>sstgrshk</th><th>sambrjk</th><th>sdol</th><th>sysbft</th><th>ssbft</th><th>slschbft</th><th>ssmdbft</th><th>slgmdbft</th><th>slgbft</th><th>suncbft</th><th>sporbgl</th><th>intrcept</th><th>inframe</th><th>outframe</th><th>p_frame</th><th>vp_frame</th><th>exfactor</th><th>vxfactor</th><th>tottrips</th><th>vartrips</th><th>cbluetile</th><th>vbluetile</th><th>csandtile</th><th>vsandtile</th><th>cgoldtile</th><th>vgoldtile</th><th>cunclasstile</th><th>vunclasstile</th><th>calb</th><th>valb</th><th>cskj</th><th>vskj</th><th>cyft</th><th>vyft</th><th>cbet</th><th>vbet</th><th>cwhm</th><th>vwhm</th><th>cbum</th><th>vbum</th><th>csai</th><th>vsai</th><th>cwah</th><th>vwah</th><th>cblushk</th><th>vblushk</th><th>cthrshk</th><th>vthrshk</th><th>cbethrsh</th><th>vbethrsh</th><th>csfnmako</th><th>vsfnmako</th><th>clfnmako</th><th>vlfnmako</th><th>cdskyshk</th><th>vdskyshk</th><th>chmmrshk</th><th>vhmmrshk</th><th>cltunny</th><th>vltunny</th><th>cbon</th><th>vbon</th><th>ckmack</th><th>vkmack</th><th>csmack</th><th>vsmack</th><th>cblktun</th><th>vblktun</th><th>csbarshk</th><th>vsbarshk</th><th>cswd</th><th>vswd</th><th>cmakoshk</th><th>vmakoshk</th><th>cwshk</th><th>vwshk</th><th>ctgrshk</th><th>vtgrshk</th><th>cstgrshk</th><th>vstgrshk</th><th>cambrjk</th><th>vambrjk</th><th>cdol</th><th>vdol</th><th>cysbft</th><th>vysbft</th><th>csbft</th><th>vsbft</th><th>clschbft</th><th>vlschbft</th><th>csmdbft</th><th>vsmdbft</th><th>clgmdbft</th><th>vlgmdbft</th><th>clgbft</th><th>vlgbft</th><th>cuncbft</th><th>vuncbft</th><th>cporbgl</th><th>vporbgl</th><th>kept</th><th>var_kept</th><th>meankept</th><th>s2_kept</th><th>alive</th><th>var_alive</th><th>dead</th><th>var_dead</th><th>weighed</th><th>var_weighed</th></tr></thead><tbody><tr><td>June</td><td>30</td><td>greater amberjack</td><td>VA</td><td>1</td><td>6</td><td>2.0</td><td>125.361404</td><td>2010.074016</td><td>812</td><td>null</td><td>null</td><td>1.0</td><td>2023</td><td>VA</td><td>56</td><td>1.0</td><td>0</td><td>0</td><td>0.0</td><td>0.0</td><td>0.0357142857</td><td>0.9642857143</td><td>0.0</td><td>0.0</td><td>0.0</td><td>0</td><td>0.0</td><td>0</td><td>0.0</td><td>0</td><td>0</td><td>0</td><td>0</td><td>0</td><td>0.0714285714</td><td>0.0</td><td>0.0</td><td>0.0</td><td>0</td><td>0</td><td>0.0357142857</td><td>0</td><td>0</td><td>0</td><td>0</td><td>0.0</td><td>0.2142857143</td><td>0.0</td><td>0.0</td><td>0.0</td><td>0.0</td><td>0.0</td><td>0.0</td><td>0.0</td><td>0.0</td><td>12.581818182</td><td>0</td><td>0</td><td>0.0</td><td>0.0</td><td>0.0350649351</td><td>3.8532467532</td><td>0.0</td><td>0.0</td><td>0.0</td><td>0</td><td>0.0</td><td>0</td><td>0.0</td><td>0</td><td>0</td><td>0</td><td>0</td><td>0</td><td>0.1766233766</td><td>0.0</td><td>0.0</td><td>0.0</td><td>0</td><td>0</td><td>0.0350649351</td><td>0</td><td>0</td><td>0</td><td>0</td><td>0.0</td><td>0.6077922078</td><td>0.0</td><td>0.0</td><td>0.0</td><td>0.0</td><td>0.0</td><td>0.0</td><td>0.0</td><td>0.0</td><td>55</td><td>44</td><td>11</td><td>0.8</td><td>0.0029090909</td><td>1.25</td><td>0.0072337963</td><td>156.70175439</td><td>3239.8827761</td><td>156.70175439</td><td>8028.9624773</td><td>0</td><td>0</td><td>0</td><td>0</td><td>0.0</td><td>0.0</td><td>0.0</td><td>0.0</td><td>5.5964912281</td><td>17.479443253</td><td>151.10526316</td><td>4479.2754564</td><td>0.0</td><td>0.0</td><td>0.0</td><td>0.0</td><td>0.0</td><td>0.0</td><td>0</td><td>0</td><td>0.0</td><td>0.0</td><td>0</td><td>0</td><td>0.0</td><td>0.0</td><td>0</td><td>0</td><td>0</td><td>0</td><td>0</td><td>0</td><td>0</td><td>0</td><td>0</td><td>0</td><td>11.192982456</td><td>83.759043825</td><td>0.0</td><td>0.0</td><td>0.0</td><td>0.0</td><td>0.0</td><td>0.0</td><td>0</td><td>0</td><td>0</td><td>0</td><td>5.5964912281</td><td>17.479443253</td><td>0</td><td>0</td><td>0</td><td>0</td><td>0</td><td>0</td><td>0</td><td>0</td><td>0.0</td><td>0.0</td><td>33.578947368</td><td>380.11708249</td><td>0.0</td><td>0.0</td><td>0.0</td><td>0.0</td><td>0.0</td><td>0.0</td><td>0.0</td><td>0.0</td><td>0.0</td><td>0.0</td><td>0.0</td><td>0.0</td><td>0.0</td><td>0.0</td><td>0.0</td><td>0.0</td><td>0.0</td><td>0.0</td><td>0.0</td><td>0.0</td><td>0.0</td><td>0.0</td><td>0.0</td><td>0.0</td><td>0.0</td><td>0.0</td></tr><tr><td>June</td><td>330</td><td>Atlantic bonito</td><td>VA</td><td>1</td><td>6</td><td>2.0</td><td>125.361404</td><td>2010.074016</td><td>812</td><td>null</td><td>null</td><td>1.0</td><td>2023</td><td>VA</td><td>56</td><td>1.0</td><td>0</td><td>0</td><td>0.0</td><td>0.0</td><td>0.0357142857</td><td>0.9642857143</td><td>0.0</td><td>0.0</td><td>0.0</td><td>0</td><td>0.0</td><td>0</td><td>0.0</td><td>0</td><td>0</td><td>0</td><td>0</td><td>0</td><td>0.0714285714</td><td>0.0</td><td>0.0</td><td>0.0</td><td>0</td><td>0</td><td>0.0357142857</td><td>0</td><td>0</td><td>0</td><td>0</td><td>0.0</td><td>0.2142857143</td><td>0.0</td><td>0.0</td><td>0.0</td><td>0.0</td><td>0.0</td><td>0.0</td><td>0.0</td><td>0.0</td><td>12.581818182</td><td>0</td><td>0</td><td>0.0</td><td>0.0</td><td>0.0350649351</td><td>3.8532467532</td><td>0.0</td><td>0.0</td><td>0.0</td><td>0</td><td>0.0</td><td>0</td><td>0.0</td><td>0</td><td>0</td><td>0</td><td>0</td><td>0</td><td>0.1766233766</td><td>0.0</td><td>0.0</td><td>0.0</td><td>0</td><td>0</td><td>0.0350649351</td><td>0</td><td>0</td><td>0</td><td>0</td><td>0.0</td><td>0.6077922078</td><td>0.0</td><td>0.0</td><td>0.0</td><td>0.0</td><td>0.0</td><td>0.0</td><td>0.0</td><td>0.0</td><td>55</td><td>44</td><td>11</td><td>0.8</td><td>0.0029090909</td><td>1.25</td><td>0.0072337963</td><td>156.70175439</td><td>3239.8827761</td><td>156.70175439</td><td>8028.9624773</td><td>0</td><td>0</td><td>0</td><td>0</td><td>0.0</td><td>0.0</td><td>0.0</td><td>0.0</td><td>5.5964912281</td><td>17.479443253</td><td>151.10526316</td><td>4479.2754564</td><td>0.0</td><td>0.0</td><td>0.0</td><td>0.0</td><td>0.0</td><td>0.0</td><td>0</td><td>0</td><td>0.0</td><td>0.0</td><td>0</td><td>0</td><td>0.0</td><td>0.0</td><td>0</td><td>0</td><td>0</td><td>0</td><td>0</td><td>0</td><td>0</td><td>0</td><td>0</td><td>0</td><td>11.192982456</td><td>83.759043825</td><td>0.0</td><td>0.0</td><td>0.0</td><td>0.0</td><td>0.0</td><td>0.0</td><td>0</td><td>0</td><td>0</td><td>0</td><td>5.5964912281</td><td>17.479443253</td><td>0</td><td>0</td><td>0</td><td>0</td><td>0</td><td>0</td><td>0</td><td>0</td><td>0.0</td><td>0.0</td><td>33.578947368</td><td>380.11708249</td><td>0.0</td><td>0.0</td><td>0.0</td><td>0.0</td><td>0.0</td><td>0.0</td><td>0.0</td><td>0.0</td><td>0.0</td><td>0.0</td><td>0.0</td><td>0.0</td><td>0.0</td><td>0.0</td><td>0.0</td><td>0.0</td><td>0.0</td><td>0.0</td><td>0.0</td><td>0.0</td><td>0.0</td><td>0.0</td><td>0.0</td><td>0.0</td><td>0.0</td><td>0.0</td></tr><tr><td>June</td><td>1050</td><td>dolphin</td><td>VA</td><td>1</td><td>6</td><td>2.0</td><td>125.361404</td><td>2010.074016</td><td>812</td><td>null</td><td>null</td><td>1.0</td><td>2023</td><td>VA</td><td>56</td><td>1.0</td><td>0</td><td>0</td><td>0.0</td><td>0.0</td><td>0.0357142857</td><td>0.9642857143</td><td>0.0</td><td>0.0</td><td>0.0</td><td>0</td><td>0.0</td><td>0</td><td>0.0</td><td>0</td><td>0</td><td>0</td><td>0</td><td>0</td><td>0.0714285714</td><td>0.0</td><td>0.0</td><td>0.0</td><td>0</td><td>0</td><td>0.0357142857</td><td>0</td><td>0</td><td>0</td><td>0</td><td>0.0</td><td>0.2142857143</td><td>0.0</td><td>0.0</td><td>0.0</td><td>0.0</td><td>0.0</td><td>0.0</td><td>0.0</td><td>0.0</td><td>12.581818182</td><td>0</td><td>0</td><td>0.0</td><td>0.0</td><td>0.0350649351</td><td>3.8532467532</td><td>0.0</td><td>0.0</td><td>0.0</td><td>0</td><td>0.0</td><td>0</td><td>0.0</td><td>0</td><td>0</td><td>0</td><td>0</td><td>0</td><td>0.1766233766</td><td>0.0</td><td>0.0</td><td>0.0</td><td>0</td><td>0</td><td>0.0350649351</td><td>0</td><td>0</td><td>0</td><td>0</td><td>0.0</td><td>0.6077922078</td><td>0.0</td><td>0.0</td><td>0.0</td><td>0.0</td><td>0.0</td><td>0.0</td><td>0.0</td><td>0.0</td><td>55</td><td>44</td><td>11</td><td>0.8</td><td>0.0029090909</td><td>1.25</td><td>0.0072337963</td><td>156.70175439</td><td>3239.8827761</td><td>156.70175439</td><td>8028.9624773</td><td>0</td><td>0</td><td>0</td><td>0</td><td>0.0</td><td>0.0</td><td>0.0</td><td>0.0</td><td>5.5964912281</td><td>17.479443253</td><td>151.10526316</td><td>4479.2754564</td><td>0.0</td><td>0.0</td><td>0.0</td><td>0.0</td><td>0.0</td><td>0.0</td><td>0</td><td>0</td><td>0.0</td><td>0.0</td><td>0</td><td>0</td><td>0.0</td><td>0.0</td><td>0</td><td>0</td><td>0</td><td>0</td><td>0</td><td>0</td><td>0</td><td>0</td><td>0</td><td>0</td><td>11.192982456</td><td>83.759043825</td><td>0.0</td><td>0.0</td><td>0.0</td><td>0.0</td><td>0.0</td><td>0.0</td><td>0</td><td>0</td><td>0</td><td>0</td><td>5.5964912281</td><td>17.479443253</td><td>0</td><td>0</td><td>0</td><td>0</td><td>0</td><td>0</td><td>0</td><td>0</td><td>0.0</td><td>0.0</td><td>33.578947368</td><td>380.11708249</td><td>0.0</td><td>0.0</td><td>0.0</td><td>0.0</td><td>0.0</td><td>0.0</td><td>0.0</td><td>0.0</td><td>0.0</td><td>0.0</td><td>0.0</td><td>0.0</td><td>0.0</td><td>0.0</td><td>0.0</td><td>0.0</td><td>33.578947368</td><td>380.11708249</td><td>0.2142857143</td><td>0.6077922078</td><td>0.0</td><td>0.0</td><td>0.0</td><td>0.0</td><td>5.5964912281</td><td>17.479443253</td></tr><tr><td>June</td><td>1940</td><td>king mackerel</td><td>VA</td><td>1</td><td>6</td><td>2.0</td><td>125.361404</td><td>2010.074016</td><td>812</td><td>null</td><td>null</td><td>1.0</td><td>2023</td><td>VA</td><td>56</td><td>1.0</td><td>0</td><td>0</td><td>0.0</td><td>0.0</td><td>0.0357142857</td><td>0.9642857143</td><td>0.0</td><td>0.0</td><td>0.0</td><td>0</td><td>0.0</td><td>0</td><td>0.0</td><td>0</td><td>0</td><td>0</td><td>0</td><td>0</td><td>0.0714285714</td><td>0.0</td><td>0.0</td><td>0.0</td><td>0</td><td>0</td><td>0.0357142857</td><td>0</td><td>0</td><td>0</td><td>0</td><td>0.0</td><td>0.2142857143</td><td>0.0</td><td>0.0</td><td>0.0</td><td>0.0</td><td>0.0</td><td>0.0</td><td>0.0</td><td>0.0</td><td>12.581818182</td><td>0</td><td>0</td><td>0.0</td><td>0.0</td><td>0.0350649351</td><td>3.8532467532</td><td>0.0</td><td>0.0</td><td>0.0</td><td>0</td><td>0.0</td><td>0</td><td>0.0</td><td>0</td><td>0</td><td>0</td><td>0</td><td>0</td><td>0.1766233766</td><td>0.0</td><td>0.0</td><td>0.0</td><td>0</td><td>0</td><td>0.0350649351</td><td>0</td><td>0</td><td>0</td><td>0</td><td>0.0</td><td>0.6077922078</td><td>0.0</td><td>0.0</td><td>0.0</td><td>0.0</td><td>0.0</td><td>0.0</td><td>0.0</td><td>0.0</td><td>55</td><td>44</td><td>11</td><td>0.8</td><td>0.0029090909</td><td>1.25</td><td>0.0072337963</td><td>156.70175439</td><td>3239.8827761</td><td>156.70175439</td><td>8028.9624773</td><td>0</td><td>0</td><td>0</td><td>0</td><td>0.0</td><td>0.0</td><td>0.0</td><td>0.0</td><td>5.5964912281</td><td>17.479443253</td><td>151.10526316</td><td>4479.2754564</td><td>0.0</td><td>0.0</td><td>0.0</td><td>0.0</td><td>0.0</td><td>0.0</td><td>0</td><td>0</td><td>0.0</td><td>0.0</td><td>0</td><td>0</td><td>0.0</td><td>0.0</td><td>0</td><td>0</td><td>0</td><td>0</td><td>0</td><td>0</td><td>0</td><td>0</td><td>0</td><td>0</td><td>11.192982456</td><td>83.759043825</td><td>0.0</td><td>0.0</td><td>0.0</td><td>0.0</td><td>0.0</td><td>0.0</td><td>0</td><td>0</td><td>0</td><td>0</td><td>5.5964912281</td><td>17.479443253</td><td>0</td><td>0</td><td>0</td><td>0</td><td>0</td><td>0</td><td>0</td><td>0</td><td>0.0</td><td>0.0</td><td>33.578947368</td><td>380.11708249</td><td>0.0</td><td>0.0</td><td>0.0</td><td>0.0</td><td>0.0</td><td>0.0</td><td>0.0</td><td>0.0</td><td>0.0</td><td>0.0</td><td>0.0</td><td>0.0</td><td>0.0</td><td>0.0</td><td>0.0</td><td>0.0</td><td>0.0</td><td>0.0</td><td>0.0</td><td>0.0</td><td>0.0</td><td>0.0</td><td>0.0</td><td>0.0</td><td>0.0</td><td>0.0</td></tr><tr><td>June</td><td>2161</td><td>white marlin</td><td>VA</td><td>1</td><td>6</td><td>2.0</td><td>125.361404</td><td>2010.074016</td><td>812</td><td>null</td><td>null</td><td>1.0</td><td>2023</td><td>VA</td><td>56</td><td>1.0</td><td>0</td><td>0</td><td>0.0</td><td>0.0</td><td>0.0357142857</td><td>0.9642857143</td><td>0.0</td><td>0.0</td><td>0.0</td><td>0</td><td>0.0</td><td>0</td><td>0.0</td><td>0</td><td>0</td><td>0</td><td>0</td><td>0</td><td>0.0714285714</td><td>0.0</td><td>0.0</td><td>0.0</td><td>0</td><td>0</td><td>0.0357142857</td><td>0</td><td>0</td><td>0</td><td>0</td><td>0.0</td><td>0.2142857143</td><td>0.0</td><td>0.0</td><td>0.0</td><td>0.0</td><td>0.0</td><td>0.0</td><td>0.0</td><td>0.0</td><td>12.581818182</td><td>0</td><td>0</td><td>0.0</td><td>0.0</td><td>0.0350649351</td><td>3.8532467532</td><td>0.0</td><td>0.0</td><td>0.0</td><td>0</td><td>0.0</td><td>0</td><td>0.0</td><td>0</td><td>0</td><td>0</td><td>0</td><td>0</td><td>0.1766233766</td><td>0.0</td><td>0.0</td><td>0.0</td><td>0</td><td>0</td><td>0.0350649351</td><td>0</td><td>0</td><td>0</td><td>0</td><td>0.0</td><td>0.6077922078</td><td>0.0</td><td>0.0</td><td>0.0</td><td>0.0</td><td>0.0</td><td>0.0</td><td>0.0</td><td>0.0</td><td>55</td><td>44</td><td>11</td><td>0.8</td><td>0.0029090909</td><td>1.25</td><td>0.0072337963</td><td>156.70175439</td><td>3239.8827761</td><td>156.70175439</td><td>8028.9624773</td><td>0</td><td>0</td><td>0</td><td>0</td><td>0.0</td><td>0.0</td><td>0.0</td><td>0.0</td><td>5.5964912281</td><td>17.479443253</td><td>151.10526316</td><td>4479.2754564</td><td>0.0</td><td>0.0</td><td>0.0</td><td>0.0</td><td>0.0</td><td>0.0</td><td>0</td><td>0</td><td>0.0</td><td>0.0</td><td>0</td><td>0</td><td>0.0</td><td>0.0</td><td>0</td><td>0</td><td>0</td><td>0</td><td>0</td><td>0</td><td>0</td><td>0</td><td>0</td><td>0</td><td>11.192982456</td><td>83.759043825</td><td>0.0</td><td>0.0</td><td>0.0</td><td>0.0</td><td>0.0</td><td>0.0</td><td>0</td><td>0</td><td>0</td><td>0</td><td>5.5964912281</td><td>17.479443253</td><td>0</td><td>0</td><td>0</td><td>0</td><td>0</td><td>0</td><td>0</td><td>0</td><td>0.0</td><td>0.0</td><td>33.578947368</td><td>380.11708249</td><td>0.0</td><td>0.0</td><td>0.0</td><td>0.0</td><td>0.0</td><td>0.0</td><td>0.0</td><td>0.0</td><td>0.0</td><td>0.0</td><td>0.0</td><td>0.0</td><td>0.0</td><td>0.0</td><td>0.0</td><td>0.0</td><td>0.0</td><td>0.0</td><td>0.0</td><td>0.0</td><td>2.798245614</td><td>7.8301785165</td><td>0.0</td><td>0.0</td><td>0.0</td><td>0.0</td></tr><tr><td>June</td><td>2171</td><td>blue marlin</td><td>VA</td><td>1</td><td>6</td><td>2.0</td><td>125.361404</td><td>2010.074016</td><td>812</td><td>null</td><td>null</td><td>1.0</td><td>2023</td><td>VA</td><td>56</td><td>1.0</td><td>0</td><td>0</td><td>0.0</td><td>0.0</td><td>0.0357142857</td><td>0.9642857143</td><td>0.0</td><td>0.0</td><td>0.0</td><td>0</td><td>0.0</td><td>0</td><td>0.0</td><td>0</td><td>0</td><td>0</td><td>0</td><td>0</td><td>0.0714285714</td><td>0.0</td><td>0.0</td><td>0.0</td><td>0</td><td>0</td><td>0.0357142857</td><td>0</td><td>0</td><td>0</td><td>0</td><td>0.0</td><td>0.2142857143</td><td>0.0</td><td>0.0</td><td>0.0</td><td>0.0</td><td>0.0</td><td>0.0</td><td>0.0</td><td>0.0</td><td>12.581818182</td><td>0</td><td>0</td><td>0.0</td><td>0.0</td><td>0.0350649351</td><td>3.8532467532</td><td>0.0</td><td>0.0</td><td>0.0</td><td>0</td><td>0.0</td><td>0</td><td>0.0</td><td>0</td><td>0</td><td>0</td><td>0</td><td>0</td><td>0.1766233766</td><td>0.0</td><td>0.0</td><td>0.0</td><td>0</td><td>0</td><td>0.0350649351</td><td>0</td><td>0</td><td>0</td><td>0</td><td>0.0</td><td>0.6077922078</td><td>0.0</td><td>0.0</td><td>0.0</td><td>0.0</td><td>0.0</td><td>0.0</td><td>0.0</td><td>0.0</td><td>55</td><td>44</td><td>11</td><td>0.8</td><td>0.0029090909</td><td>1.25</td><td>0.0072337963</td><td>156.70175439</td><td>3239.8827761</td><td>156.70175439</td><td>8028.9624773</td><td>0</td><td>0</td><td>0</td><td>0</td><td>0.0</td><td>0.0</td><td>0.0</td><td>0.0</td><td>5.5964912281</td><td>17.479443253</td><td>151.10526316</td><td>4479.2754564</td><td>0.0</td><td>0.0</td><td>0.0</td><td>0.0</td><td>0.0</td><td>0.0</td><td>0</td><td>0</td><td>0.0</td><td>0.0</td><td>0</td><td>0</td><td>0.0</td><td>0.0</td><td>0</td><td>0</td><td>0</td><td>0</td><td>0</td><td>0</td><td>0</td><td>0</td><td>0</td><td>0</td><td>11.192982456</td><td>83.759043825</td><td>0.0</td><td>0.0</td><td>0.0</td><td>0.0</td><td>0.0</td><td>0.0</td><td>0</td><td>0</td><td>0</td><td>0</td><td>5.5964912281</td><td>17.479443253</td><td>0</td><td>0</td><td>0</td><td>0</td><td>0</td><td>0</td><td>0</td><td>0</td><td>0.0</td><td>0.0</td><td>33.578947368</td><td>380.11708249</td><td>0.0</td><td>0.0</td><td>0.0</td><td>0.0</td><td>0.0</td><td>0.0</td><td>0.0</td><td>0.0</td><td>0.0</td><td>0.0</td><td>0.0</td><td>0.0</td><td>0.0</td><td>0.0</td><td>0.0</td><td>0.0</td><td>0.0</td><td>0.0</td><td>0.0</td><td>0.0</td><td>0.0</td><td>0.0</td><td>0.0</td><td>0.0</td><td>0.0</td><td>0.0</td></tr><tr><td>June</td><td>3026</td><td>sailfish</td><td>VA</td><td>1</td><td>6</td><td>2.0</td><td>125.361404</td><td>2010.074016</td><td>812</td><td>null</td><td>null</td><td>1.0</td><td>2023</td><td>VA</td><td>56</td><td>1.0</td><td>0</td><td>0</td><td>0.0</td><td>0.0</td><td>0.0357142857</td><td>0.9642857143</td><td>0.0</td><td>0.0</td><td>0.0</td><td>0</td><td>0.0</td><td>0</td><td>0.0</td><td>0</td><td>0</td><td>0</td><td>0</td><td>0</td><td>0.0714285714</td><td>0.0</td><td>0.0</td><td>0.0</td><td>0</td><td>0</td><td>0.0357142857</td><td>0</td><td>0</td><td>0</td><td>0</td><td>0.0</td><td>0.2142857143</td><td>0.0</td><td>0.0</td><td>0.0</td><td>0.0</td><td>0.0</td><td>0.0</td><td>0.0</td><td>0.0</td><td>12.581818182</td><td>0</td><td>0</td><td>0.0</td><td>0.0</td><td>0.0350649351</td><td>3.8532467532</td><td>0.0</td><td>0.0</td><td>0.0</td><td>0</td><td>0.0</td><td>0</td><td>0.0</td><td>0</td><td>0</td><td>0</td><td>0</td><td>0</td><td>0.1766233766</td><td>0.0</td><td>0.0</td><td>0.0</td><td>0</td><td>0</td><td>0.0350649351</td><td>0</td><td>0</td><td>0</td><td>0</td><td>0.0</td><td>0.6077922078</td><td>0.0</td><td>0.0</td><td>0.0</td><td>0.0</td><td>0.0</td><td>0.0</td><td>0.0</td><td>0.0</td><td>55</td><td>44</td><td>11</td><td>0.8</td><td>0.0029090909</td><td>1.25</td><td>0.0072337963</td><td>156.70175439</td><td>3239.8827761</td><td>156.70175439</td><td>8028.9624773</td><td>0</td><td>0</td><td>0</td><td>0</td><td>0.0</td><td>0.0</td><td>0.0</td><td>0.0</td><td>5.5964912281</td><td>17.479443253</td><td>151.10526316</td><td>4479.2754564</td><td>0.0</td><td>0.0</td><td>0.0</td><td>0.0</td><td>0.0</td><td>0.0</td><td>0</td><td>0</td><td>0.0</td><td>0.0</td><td>0</td><td>0</td><td>0.0</td><td>0.0</td><td>0</td><td>0</td><td>0</td><td>0</td><td>0</td><td>0</td><td>0</td><td>0</td><td>0</td><td>0</td><td>11.192982456</td><td>83.759043825</td><td>0.0</td><td>0.0</td><td>0.0</td><td>0.0</td><td>0.0</td><td>0.0</td><td>0</td><td>0</td><td>0</td><td>0</td><td>5.5964912281</td><td>17.479443253</td><td>0</td><td>0</td><td>0</td><td>0</td><td>0</td><td>0</td><td>0</td><td>0</td><td>0.0</td><td>0.0</td><td>33.578947368</td><td>380.11708249</td><td>0.0</td><td>0.0</td><td>0.0</td><td>0.0</td><td>0.0</td><td>0.0</td><td>0.0</td><td>0.0</td><td>0.0</td><td>0.0</td><td>0.0</td><td>0.0</td><td>0.0</td><td>0.0</td><td>0.0</td><td>0.0</td><td>0.0</td><td>0.0</td><td>0.0</td><td>0.0</td><td>0.0</td><td>0.0</td><td>0.0</td><td>0.0</td><td>0.0</td><td>0.0</td></tr><tr><td>June</td><td>3491</td><td>sand tiger</td><td>VA</td><td>1</td><td>6</td><td>2.0</td><td>125.361404</td><td>2010.074016</td><td>812</td><td>null</td><td>null</td><td>1.0</td><td>2023</td><td>VA</td><td>56</td><td>1.0</td><td>0</td><td>0</td><td>0.0</td><td>0.0</td><td>0.0357142857</td><td>0.9642857143</td><td>0.0</td><td>0.0</td><td>0.0</td><td>0</td><td>0.0</td><td>0</td><td>0.0</td><td>0</td><td>0</td><td>0</td><td>0</td><td>0</td><td>0.0714285714</td><td>0.0</td><td>0.0</td><td>0.0</td><td>0</td><td>0</td><td>0.0357142857</td><td>0</td><td>0</td><td>0</td><td>0</td><td>0.0</td><td>0.2142857143</td><td>0.0</td><td>0.0</td><td>0.0</td><td>0.0</td><td>0.0</td><td>0.0</td><td>0.0</td><td>0.0</td><td>12.581818182</td><td>0</td><td>0</td><td>0.0</td><td>0.0</td><td>0.0350649351</td><td>3.8532467532</td><td>0.0</td><td>0.0</td><td>0.0</td><td>0</td><td>0.0</td><td>0</td><td>0.0</td><td>0</td><td>0</td><td>0</td><td>0</td><td>0</td><td>0.1766233766</td><td>0.0</td><td>0.0</td><td>0.0</td><td>0</td><td>0</td><td>0.0350649351</td><td>0</td><td>0</td><td>0</td><td>0</td><td>0.0</td><td>0.6077922078</td><td>0.0</td><td>0.0</td><td>0.0</td><td>0.0</td><td>0.0</td><td>0.0</td><td>0.0</td><td>0.0</td><td>55</td><td>44</td><td>11</td><td>0.8</td><td>0.0029090909</td><td>1.25</td><td>0.0072337963</td><td>156.70175439</td><td>3239.8827761</td><td>156.70175439</td><td>8028.9624773</td><td>0</td><td>0</td><td>0</td><td>0</td><td>0.0</td><td>0.0</td><td>0.0</td><td>0.0</td><td>5.5964912281</td><td>17.479443253</td><td>151.10526316</td><td>4479.2754564</td><td>0.0</td><td>0.0</td><td>0.0</td><td>0.0</td><td>0.0</td><td>0.0</td><td>0</td><td>0</td><td>0.0</td><td>0.0</td><td>0</td><td>0</td><td>0.0</td><td>0.0</td><td>0</td><td>0</td><td>0</td><td>0</td><td>0</td><td>0</td><td>0</td><td>0</td><td>0</td><td>0</td><td>11.192982456</td><td>83.759043825</td><td>0.0</td><td>0.0</td><td>0.0</td><td>0.0</td><td>0.0</td><td>0.0</td><td>0</td><td>0</td><td>0</td><td>0</td><td>5.5964912281</td><td>17.479443253</td><td>0</td><td>0</td><td>0</td><td>0</td><td>0</td><td>0</td><td>0</td><td>0</td><td>0.0</td><td>0.0</td><td>33.578947368</td><td>380.11708249</td><td>0.0</td><td>0.0</td><td>0.0</td><td>0.0</td><td>0.0</td><td>0.0</td><td>0.0</td><td>0.0</td><td>0.0</td><td>0.0</td><td>0.0</td><td>0.0</td><td>0.0</td><td>0.0</td><td>0.0</td><td>0.0</td><td>0.0</td><td>0.0</td><td>0.0</td><td>0.0</td><td>0.0</td><td>0.0</td><td>0.0</td><td>0.0</td><td>0.0</td><td>0.0</td></tr><tr><td>June</td><td>3531</td><td>thresher sharks</td><td>VA</td><td>1</td><td>6</td><td>2.0</td><td>125.361404</td><td>2010.074016</td><td>812</td><td>null</td><td>null</td><td>1.0</td><td>2023</td><td>VA</td><td>56</td><td>1.0</td><td>0</td><td>0</td><td>0.0</td><td>0.0</td><td>0.0357142857</td><td>0.9642857143</td><td>0.0</td><td>0.0</td><td>0.0</td><td>0</td><td>0.0</td><td>0</td><td>0.0</td><td>0</td><td>0</td><td>0</td><td>0</td><td>0</td><td>0.0714285714</td><td>0.0</td><td>0.0</td><td>0.0</td><td>0</td><td>0</td><td>0.0357142857</td><td>0</td><td>0</td><td>0</td><td>0</td><td>0.0</td><td>0.2142857143</td><td>0.0</td><td>0.0</td><td>0.0</td><td>0.0</td><td>0.0</td><td>0.0</td><td>0.0</td><td>0.0</td><td>12.581818182</td><td>0</td><td>0</td><td>0.0</td><td>0.0</td><td>0.0350649351</td><td>3.8532467532</td><td>0.0</td><td>0.0</td><td>0.0</td><td>0</td><td>0.0</td><td>0</td><td>0.0</td><td>0</td><td>0</td><td>0</td><td>0</td><td>0</td><td>0.1766233766</td><td>0.0</td><td>0.0</td><td>0.0</td><td>0</td><td>0</td><td>0.0350649351</td><td>0</td><td>0</td><td>0</td><td>0</td><td>0.0</td><td>0.6077922078</td><td>0.0</td><td>0.0</td><td>0.0</td><td>0.0</td><td>0.0</td><td>0.0</td><td>0.0</td><td>0.0</td><td>55</td><td>44</td><td>11</td><td>0.8</td><td>0.0029090909</td><td>1.25</td><td>0.0072337963</td><td>156.70175439</td><td>3239.8827761</td><td>156.70175439</td><td>8028.9624773</td><td>0</td><td>0</td><td>0</td><td>0</td><td>0.0</td><td>0.0</td><td>0.0</td><td>0.0</td><td>5.5964912281</td><td>17.479443253</td><td>151.10526316</td><td>4479.2754564</td><td>0.0</td><td>0.0</td><td>0.0</td><td>0.0</td><td>0.0</td><td>0.0</td><td>0</td><td>0</td><td>0.0</td><td>0.0</td><td>0</td><td>0</td><td>0.0</td><td>0.0</td><td>0</td><td>0</td><td>0</td><td>0</td><td>0</td><td>0</td><td>0</td><td>0</td><td>0</td><td>0</td><td>11.192982456</td><td>83.759043825</td><td>0.0</td><td>0.0</td><td>0.0</td><td>0.0</td><td>0.0</td><td>0.0</td><td>0</td><td>0</td><td>0</td><td>0</td><td>5.5964912281</td><td>17.479443253</td><td>0</td><td>0</td><td>0</td><td>0</td><td>0</td><td>0</td><td>0</td><td>0</td><td>0.0</td><td>0.0</td><td>33.578947368</td><td>380.11708249</td><td>0.0</td><td>0.0</td><td>0.0</td><td>0.0</td><td>0.0</td><td>0.0</td><td>0.0</td><td>0.0</td><td>0.0</td><td>0.0</td><td>0.0</td><td>0.0</td><td>0.0</td><td>0.0</td><td>0.0</td><td>0.0</td><td>0.0</td><td>0.0</td><td>0.0</td><td>0.0</td><td>0.0</td><td>0.0</td><td>0.0</td><td>0.0</td><td>0.0</td><td>0.0</td></tr><tr><td>June</td><td>3541</td><td>bigeye thresher</td><td>VA</td><td>1</td><td>6</td><td>2.0</td><td>125.361404</td><td>2010.074016</td><td>812</td><td>null</td><td>null</td><td>1.0</td><td>2023</td><td>VA</td><td>56</td><td>1.0</td><td>0</td><td>0</td><td>0.0</td><td>0.0</td><td>0.0357142857</td><td>0.9642857143</td><td>0.0</td><td>0.0</td><td>0.0</td><td>0</td><td>0.0</td><td>0</td><td>0.0</td><td>0</td><td>0</td><td>0</td><td>0</td><td>0</td><td>0.0714285714</td><td>0.0</td><td>0.0</td><td>0.0</td><td>0</td><td>0</td><td>0.0357142857</td><td>0</td><td>0</td><td>0</td><td>0</td><td>0.0</td><td>0.2142857143</td><td>0.0</td><td>0.0</td><td>0.0</td><td>0.0</td><td>0.0</td><td>0.0</td><td>0.0</td><td>0.0</td><td>12.581818182</td><td>0</td><td>0</td><td>0.0</td><td>0.0</td><td>0.0350649351</td><td>3.8532467532</td><td>0.0</td><td>0.0</td><td>0.0</td><td>0</td><td>0.0</td><td>0</td><td>0.0</td><td>0</td><td>0</td><td>0</td><td>0</td><td>0</td><td>0.1766233766</td><td>0.0</td><td>0.0</td><td>0.0</td><td>0</td><td>0</td><td>0.0350649351</td><td>0</td><td>0</td><td>0</td><td>0</td><td>0.0</td><td>0.6077922078</td><td>0.0</td><td>0.0</td><td>0.0</td><td>0.0</td><td>0.0</td><td>0.0</td><td>0.0</td><td>0.0</td><td>55</td><td>44</td><td>11</td><td>0.8</td><td>0.0029090909</td><td>1.25</td><td>0.0072337963</td><td>156.70175439</td><td>3239.8827761</td><td>156.70175439</td><td>8028.9624773</td><td>0</td><td>0</td><td>0</td><td>0</td><td>0.0</td><td>0.0</td><td>0.0</td><td>0.0</td><td>5.5964912281</td><td>17.479443253</td><td>151.10526316</td><td>4479.2754564</td><td>0.0</td><td>0.0</td><td>0.0</td><td>0.0</td><td>0.0</td><td>0.0</td><td>0</td><td>0</td><td>0.0</td><td>0.0</td><td>0</td><td>0</td><td>0.0</td><td>0.0</td><td>0</td><td>0</td><td>0</td><td>0</td><td>0</td><td>0</td><td>0</td><td>0</td><td>0</td><td>0</td><td>11.192982456</td><td>83.759043825</td><td>0.0</td><td>0.0</td><td>0.0</td><td>0.0</td><td>0.0</td><td>0.0</td><td>0</td><td>0</td><td>0</td><td>0</td><td>5.5964912281</td><td>17.479443253</td><td>0</td><td>0</td><td>0</td><td>0</td><td>0</td><td>0</td><td>0</td><td>0</td><td>0.0</td><td>0.0</td><td>33.578947368</td><td>380.11708249</td><td>0.0</td><td>0.0</td><td>0.0</td><td>0.0</td><td>0.0</td><td>0.0</td><td>0.0</td><td>0.0</td><td>0.0</td><td>0.0</td><td>0.0</td><td>0.0</td><td>0.0</td><td>0.0</td><td>0.0</td><td>0.0</td><td>0.0</td><td>0.0</td><td>0.0</td><td>0.0</td><td>0.0</td><td>0.0</td><td>0.0</td><td>0.0</td><td>0.0</td><td>0.0</td></tr></tbody></table></div>"
      ]
     },
     "metadata": {
      "application/vnd.databricks.v1+output": {
       "addedWidgets": {},
       "aggData": [],
       "aggError": "",
       "aggOverflow": false,
       "aggSchema": [],
       "aggSeriesLimitReached": false,
       "aggType": "",
       "arguments": {},
       "columnCustomDisplayInfos": {},
       "data": [
        [
         "June",
         30,
         "greater amberjack",
         "VA",
         1,
         6,
         2.0,
         125.361404,
         2010.074016,
         812,
         null,
         null,
         1.0,
         2023,
         "VA",
         56,
         1.0,
         0,
         0,
         0.0,
         0.0,
         0.0357142857,
         0.9642857143,
         0.0,
         0.0,
         0.0,
         0,
         0.0,
         0,
         0.0,
         0,
         0,
         0,
         0,
         0,
         0.0714285714,
         0.0,
         0.0,
         0.0,
         0,
         0,
         0.0357142857,
         0,
         0,
         0,
         0,
         0.0,
         0.2142857143,
         0.0,
         0.0,
         0.0,
         0.0,
         0.0,
         0.0,
         0.0,
         0.0,
         12.581818182,
         0,
         0,
         0.0,
         0.0,
         0.0350649351,
         3.8532467532,
         0.0,
         0.0,
         0.0,
         0,
         0.0,
         0,
         0.0,
         0,
         0,
         0,
         0,
         0,
         0.1766233766,
         0.0,
         0.0,
         0.0,
         0,
         0,
         0.0350649351,
         0,
         0,
         0,
         0,
         0.0,
         0.6077922078,
         0.0,
         0.0,
         0.0,
         0.0,
         0.0,
         0.0,
         0.0,
         0.0,
         55,
         44,
         11,
         0.8,
         0.0029090909,
         1.25,
         0.0072337963,
         156.70175439,
         3239.8827761,
         156.70175439,
         8028.9624773,
         0,
         0,
         0,
         0,
         0.0,
         0.0,
         0.0,
         0.0,
         5.5964912281,
         17.479443253,
         151.10526316,
         4479.2754564,
         0.0,
         0.0,
         0.0,
         0.0,
         0.0,
         0.0,
         0,
         0,
         0.0,
         0.0,
         0,
         0,
         0.0,
         0.0,
         0,
         0,
         0,
         0,
         0,
         0,
         0,
         0,
         0,
         0,
         11.192982456,
         83.759043825,
         0.0,
         0.0,
         0.0,
         0.0,
         0.0,
         0.0,
         0,
         0,
         0,
         0,
         5.5964912281,
         17.479443253,
         0,
         0,
         0,
         0,
         0,
         0,
         0,
         0,
         0.0,
         0.0,
         33.578947368,
         380.11708249,
         0.0,
         0.0,
         0.0,
         0.0,
         0.0,
         0.0,
         0.0,
         0.0,
         0.0,
         0.0,
         0.0,
         0.0,
         0.0,
         0.0,
         0.0,
         0.0,
         0.0,
         0.0,
         0.0,
         0.0,
         0.0,
         0.0,
         0.0,
         0.0,
         0.0,
         0.0
        ],
        [
         "June",
         330,
         "Atlantic bonito",
         "VA",
         1,
         6,
         2.0,
         125.361404,
         2010.074016,
         812,
         null,
         null,
         1.0,
         2023,
         "VA",
         56,
         1.0,
         0,
         0,
         0.0,
         0.0,
         0.0357142857,
         0.9642857143,
         0.0,
         0.0,
         0.0,
         0,
         0.0,
         0,
         0.0,
         0,
         0,
         0,
         0,
         0,
         0.0714285714,
         0.0,
         0.0,
         0.0,
         0,
         0,
         0.0357142857,
         0,
         0,
         0,
         0,
         0.0,
         0.2142857143,
         0.0,
         0.0,
         0.0,
         0.0,
         0.0,
         0.0,
         0.0,
         0.0,
         12.581818182,
         0,
         0,
         0.0,
         0.0,
         0.0350649351,
         3.8532467532,
         0.0,
         0.0,
         0.0,
         0,
         0.0,
         0,
         0.0,
         0,
         0,
         0,
         0,
         0,
         0.1766233766,
         0.0,
         0.0,
         0.0,
         0,
         0,
         0.0350649351,
         0,
         0,
         0,
         0,
         0.0,
         0.6077922078,
         0.0,
         0.0,
         0.0,
         0.0,
         0.0,
         0.0,
         0.0,
         0.0,
         55,
         44,
         11,
         0.8,
         0.0029090909,
         1.25,
         0.0072337963,
         156.70175439,
         3239.8827761,
         156.70175439,
         8028.9624773,
         0,
         0,
         0,
         0,
         0.0,
         0.0,
         0.0,
         0.0,
         5.5964912281,
         17.479443253,
         151.10526316,
         4479.2754564,
         0.0,
         0.0,
         0.0,
         0.0,
         0.0,
         0.0,
         0,
         0,
         0.0,
         0.0,
         0,
         0,
         0.0,
         0.0,
         0,
         0,
         0,
         0,
         0,
         0,
         0,
         0,
         0,
         0,
         11.192982456,
         83.759043825,
         0.0,
         0.0,
         0.0,
         0.0,
         0.0,
         0.0,
         0,
         0,
         0,
         0,
         5.5964912281,
         17.479443253,
         0,
         0,
         0,
         0,
         0,
         0,
         0,
         0,
         0.0,
         0.0,
         33.578947368,
         380.11708249,
         0.0,
         0.0,
         0.0,
         0.0,
         0.0,
         0.0,
         0.0,
         0.0,
         0.0,
         0.0,
         0.0,
         0.0,
         0.0,
         0.0,
         0.0,
         0.0,
         0.0,
         0.0,
         0.0,
         0.0,
         0.0,
         0.0,
         0.0,
         0.0,
         0.0,
         0.0
        ],
        [
         "June",
         1050,
         "dolphin",
         "VA",
         1,
         6,
         2.0,
         125.361404,
         2010.074016,
         812,
         null,
         null,
         1.0,
         2023,
         "VA",
         56,
         1.0,
         0,
         0,
         0.0,
         0.0,
         0.0357142857,
         0.9642857143,
         0.0,
         0.0,
         0.0,
         0,
         0.0,
         0,
         0.0,
         0,
         0,
         0,
         0,
         0,
         0.0714285714,
         0.0,
         0.0,
         0.0,
         0,
         0,
         0.0357142857,
         0,
         0,
         0,
         0,
         0.0,
         0.2142857143,
         0.0,
         0.0,
         0.0,
         0.0,
         0.0,
         0.0,
         0.0,
         0.0,
         12.581818182,
         0,
         0,
         0.0,
         0.0,
         0.0350649351,
         3.8532467532,
         0.0,
         0.0,
         0.0,
         0,
         0.0,
         0,
         0.0,
         0,
         0,
         0,
         0,
         0,
         0.1766233766,
         0.0,
         0.0,
         0.0,
         0,
         0,
         0.0350649351,
         0,
         0,
         0,
         0,
         0.0,
         0.6077922078,
         0.0,
         0.0,
         0.0,
         0.0,
         0.0,
         0.0,
         0.0,
         0.0,
         55,
         44,
         11,
         0.8,
         0.0029090909,
         1.25,
         0.0072337963,
         156.70175439,
         3239.8827761,
         156.70175439,
         8028.9624773,
         0,
         0,
         0,
         0,
         0.0,
         0.0,
         0.0,
         0.0,
         5.5964912281,
         17.479443253,
         151.10526316,
         4479.2754564,
         0.0,
         0.0,
         0.0,
         0.0,
         0.0,
         0.0,
         0,
         0,
         0.0,
         0.0,
         0,
         0,
         0.0,
         0.0,
         0,
         0,
         0,
         0,
         0,
         0,
         0,
         0,
         0,
         0,
         11.192982456,
         83.759043825,
         0.0,
         0.0,
         0.0,
         0.0,
         0.0,
         0.0,
         0,
         0,
         0,
         0,
         5.5964912281,
         17.479443253,
         0,
         0,
         0,
         0,
         0,
         0,
         0,
         0,
         0.0,
         0.0,
         33.578947368,
         380.11708249,
         0.0,
         0.0,
         0.0,
         0.0,
         0.0,
         0.0,
         0.0,
         0.0,
         0.0,
         0.0,
         0.0,
         0.0,
         0.0,
         0.0,
         0.0,
         0.0,
         33.578947368,
         380.11708249,
         0.2142857143,
         0.6077922078,
         0.0,
         0.0,
         0.0,
         0.0,
         5.5964912281,
         17.479443253
        ],
        [
         "June",
         1940,
         "king mackerel",
         "VA",
         1,
         6,
         2.0,
         125.361404,
         2010.074016,
         812,
         null,
         null,
         1.0,
         2023,
         "VA",
         56,
         1.0,
         0,
         0,
         0.0,
         0.0,
         0.0357142857,
         0.9642857143,
         0.0,
         0.0,
         0.0,
         0,
         0.0,
         0,
         0.0,
         0,
         0,
         0,
         0,
         0,
         0.0714285714,
         0.0,
         0.0,
         0.0,
         0,
         0,
         0.0357142857,
         0,
         0,
         0,
         0,
         0.0,
         0.2142857143,
         0.0,
         0.0,
         0.0,
         0.0,
         0.0,
         0.0,
         0.0,
         0.0,
         12.581818182,
         0,
         0,
         0.0,
         0.0,
         0.0350649351,
         3.8532467532,
         0.0,
         0.0,
         0.0,
         0,
         0.0,
         0,
         0.0,
         0,
         0,
         0,
         0,
         0,
         0.1766233766,
         0.0,
         0.0,
         0.0,
         0,
         0,
         0.0350649351,
         0,
         0,
         0,
         0,
         0.0,
         0.6077922078,
         0.0,
         0.0,
         0.0,
         0.0,
         0.0,
         0.0,
         0.0,
         0.0,
         55,
         44,
         11,
         0.8,
         0.0029090909,
         1.25,
         0.0072337963,
         156.70175439,
         3239.8827761,
         156.70175439,
         8028.9624773,
         0,
         0,
         0,
         0,
         0.0,
         0.0,
         0.0,
         0.0,
         5.5964912281,
         17.479443253,
         151.10526316,
         4479.2754564,
         0.0,
         0.0,
         0.0,
         0.0,
         0.0,
         0.0,
         0,
         0,
         0.0,
         0.0,
         0,
         0,
         0.0,
         0.0,
         0,
         0,
         0,
         0,
         0,
         0,
         0,
         0,
         0,
         0,
         11.192982456,
         83.759043825,
         0.0,
         0.0,
         0.0,
         0.0,
         0.0,
         0.0,
         0,
         0,
         0,
         0,
         5.5964912281,
         17.479443253,
         0,
         0,
         0,
         0,
         0,
         0,
         0,
         0,
         0.0,
         0.0,
         33.578947368,
         380.11708249,
         0.0,
         0.0,
         0.0,
         0.0,
         0.0,
         0.0,
         0.0,
         0.0,
         0.0,
         0.0,
         0.0,
         0.0,
         0.0,
         0.0,
         0.0,
         0.0,
         0.0,
         0.0,
         0.0,
         0.0,
         0.0,
         0.0,
         0.0,
         0.0,
         0.0,
         0.0
        ],
        [
         "June",
         2161,
         "white marlin",
         "VA",
         1,
         6,
         2.0,
         125.361404,
         2010.074016,
         812,
         null,
         null,
         1.0,
         2023,
         "VA",
         56,
         1.0,
         0,
         0,
         0.0,
         0.0,
         0.0357142857,
         0.9642857143,
         0.0,
         0.0,
         0.0,
         0,
         0.0,
         0,
         0.0,
         0,
         0,
         0,
         0,
         0,
         0.0714285714,
         0.0,
         0.0,
         0.0,
         0,
         0,
         0.0357142857,
         0,
         0,
         0,
         0,
         0.0,
         0.2142857143,
         0.0,
         0.0,
         0.0,
         0.0,
         0.0,
         0.0,
         0.0,
         0.0,
         12.581818182,
         0,
         0,
         0.0,
         0.0,
         0.0350649351,
         3.8532467532,
         0.0,
         0.0,
         0.0,
         0,
         0.0,
         0,
         0.0,
         0,
         0,
         0,
         0,
         0,
         0.1766233766,
         0.0,
         0.0,
         0.0,
         0,
         0,
         0.0350649351,
         0,
         0,
         0,
         0,
         0.0,
         0.6077922078,
         0.0,
         0.0,
         0.0,
         0.0,
         0.0,
         0.0,
         0.0,
         0.0,
         55,
         44,
         11,
         0.8,
         0.0029090909,
         1.25,
         0.0072337963,
         156.70175439,
         3239.8827761,
         156.70175439,
         8028.9624773,
         0,
         0,
         0,
         0,
         0.0,
         0.0,
         0.0,
         0.0,
         5.5964912281,
         17.479443253,
         151.10526316,
         4479.2754564,
         0.0,
         0.0,
         0.0,
         0.0,
         0.0,
         0.0,
         0,
         0,
         0.0,
         0.0,
         0,
         0,
         0.0,
         0.0,
         0,
         0,
         0,
         0,
         0,
         0,
         0,
         0,
         0,
         0,
         11.192982456,
         83.759043825,
         0.0,
         0.0,
         0.0,
         0.0,
         0.0,
         0.0,
         0,
         0,
         0,
         0,
         5.5964912281,
         17.479443253,
         0,
         0,
         0,
         0,
         0,
         0,
         0,
         0,
         0.0,
         0.0,
         33.578947368,
         380.11708249,
         0.0,
         0.0,
         0.0,
         0.0,
         0.0,
         0.0,
         0.0,
         0.0,
         0.0,
         0.0,
         0.0,
         0.0,
         0.0,
         0.0,
         0.0,
         0.0,
         0.0,
         0.0,
         0.0,
         0.0,
         2.798245614,
         7.8301785165,
         0.0,
         0.0,
         0.0,
         0.0
        ],
        [
         "June",
         2171,
         "blue marlin",
         "VA",
         1,
         6,
         2.0,
         125.361404,
         2010.074016,
         812,
         null,
         null,
         1.0,
         2023,
         "VA",
         56,
         1.0,
         0,
         0,
         0.0,
         0.0,
         0.0357142857,
         0.9642857143,
         0.0,
         0.0,
         0.0,
         0,
         0.0,
         0,
         0.0,
         0,
         0,
         0,
         0,
         0,
         0.0714285714,
         0.0,
         0.0,
         0.0,
         0,
         0,
         0.0357142857,
         0,
         0,
         0,
         0,
         0.0,
         0.2142857143,
         0.0,
         0.0,
         0.0,
         0.0,
         0.0,
         0.0,
         0.0,
         0.0,
         12.581818182,
         0,
         0,
         0.0,
         0.0,
         0.0350649351,
         3.8532467532,
         0.0,
         0.0,
         0.0,
         0,
         0.0,
         0,
         0.0,
         0,
         0,
         0,
         0,
         0,
         0.1766233766,
         0.0,
         0.0,
         0.0,
         0,
         0,
         0.0350649351,
         0,
         0,
         0,
         0,
         0.0,
         0.6077922078,
         0.0,
         0.0,
         0.0,
         0.0,
         0.0,
         0.0,
         0.0,
         0.0,
         55,
         44,
         11,
         0.8,
         0.0029090909,
         1.25,
         0.0072337963,
         156.70175439,
         3239.8827761,
         156.70175439,
         8028.9624773,
         0,
         0,
         0,
         0,
         0.0,
         0.0,
         0.0,
         0.0,
         5.5964912281,
         17.479443253,
         151.10526316,
         4479.2754564,
         0.0,
         0.0,
         0.0,
         0.0,
         0.0,
         0.0,
         0,
         0,
         0.0,
         0.0,
         0,
         0,
         0.0,
         0.0,
         0,
         0,
         0,
         0,
         0,
         0,
         0,
         0,
         0,
         0,
         11.192982456,
         83.759043825,
         0.0,
         0.0,
         0.0,
         0.0,
         0.0,
         0.0,
         0,
         0,
         0,
         0,
         5.5964912281,
         17.479443253,
         0,
         0,
         0,
         0,
         0,
         0,
         0,
         0,
         0.0,
         0.0,
         33.578947368,
         380.11708249,
         0.0,
         0.0,
         0.0,
         0.0,
         0.0,
         0.0,
         0.0,
         0.0,
         0.0,
         0.0,
         0.0,
         0.0,
         0.0,
         0.0,
         0.0,
         0.0,
         0.0,
         0.0,
         0.0,
         0.0,
         0.0,
         0.0,
         0.0,
         0.0,
         0.0,
         0.0
        ],
        [
         "June",
         3026,
         "sailfish",
         "VA",
         1,
         6,
         2.0,
         125.361404,
         2010.074016,
         812,
         null,
         null,
         1.0,
         2023,
         "VA",
         56,
         1.0,
         0,
         0,
         0.0,
         0.0,
         0.0357142857,
         0.9642857143,
         0.0,
         0.0,
         0.0,
         0,
         0.0,
         0,
         0.0,
         0,
         0,
         0,
         0,
         0,
         0.0714285714,
         0.0,
         0.0,
         0.0,
         0,
         0,
         0.0357142857,
         0,
         0,
         0,
         0,
         0.0,
         0.2142857143,
         0.0,
         0.0,
         0.0,
         0.0,
         0.0,
         0.0,
         0.0,
         0.0,
         12.581818182,
         0,
         0,
         0.0,
         0.0,
         0.0350649351,
         3.8532467532,
         0.0,
         0.0,
         0.0,
         0,
         0.0,
         0,
         0.0,
         0,
         0,
         0,
         0,
         0,
         0.1766233766,
         0.0,
         0.0,
         0.0,
         0,
         0,
         0.0350649351,
         0,
         0,
         0,
         0,
         0.0,
         0.6077922078,
         0.0,
         0.0,
         0.0,
         0.0,
         0.0,
         0.0,
         0.0,
         0.0,
         55,
         44,
         11,
         0.8,
         0.0029090909,
         1.25,
         0.0072337963,
         156.70175439,
         3239.8827761,
         156.70175439,
         8028.9624773,
         0,
         0,
         0,
         0,
         0.0,
         0.0,
         0.0,
         0.0,
         5.5964912281,
         17.479443253,
         151.10526316,
         4479.2754564,
         0.0,
         0.0,
         0.0,
         0.0,
         0.0,
         0.0,
         0,
         0,
         0.0,
         0.0,
         0,
         0,
         0.0,
         0.0,
         0,
         0,
         0,
         0,
         0,
         0,
         0,
         0,
         0,
         0,
         11.192982456,
         83.759043825,
         0.0,
         0.0,
         0.0,
         0.0,
         0.0,
         0.0,
         0,
         0,
         0,
         0,
         5.5964912281,
         17.479443253,
         0,
         0,
         0,
         0,
         0,
         0,
         0,
         0,
         0.0,
         0.0,
         33.578947368,
         380.11708249,
         0.0,
         0.0,
         0.0,
         0.0,
         0.0,
         0.0,
         0.0,
         0.0,
         0.0,
         0.0,
         0.0,
         0.0,
         0.0,
         0.0,
         0.0,
         0.0,
         0.0,
         0.0,
         0.0,
         0.0,
         0.0,
         0.0,
         0.0,
         0.0,
         0.0,
         0.0
        ],
        [
         "June",
         3491,
         "sand tiger",
         "VA",
         1,
         6,
         2.0,
         125.361404,
         2010.074016,
         812,
         null,
         null,
         1.0,
         2023,
         "VA",
         56,
         1.0,
         0,
         0,
         0.0,
         0.0,
         0.0357142857,
         0.9642857143,
         0.0,
         0.0,
         0.0,
         0,
         0.0,
         0,
         0.0,
         0,
         0,
         0,
         0,
         0,
         0.0714285714,
         0.0,
         0.0,
         0.0,
         0,
         0,
         0.0357142857,
         0,
         0,
         0,
         0,
         0.0,
         0.2142857143,
         0.0,
         0.0,
         0.0,
         0.0,
         0.0,
         0.0,
         0.0,
         0.0,
         12.581818182,
         0,
         0,
         0.0,
         0.0,
         0.0350649351,
         3.8532467532,
         0.0,
         0.0,
         0.0,
         0,
         0.0,
         0,
         0.0,
         0,
         0,
         0,
         0,
         0,
         0.1766233766,
         0.0,
         0.0,
         0.0,
         0,
         0,
         0.0350649351,
         0,
         0,
         0,
         0,
         0.0,
         0.6077922078,
         0.0,
         0.0,
         0.0,
         0.0,
         0.0,
         0.0,
         0.0,
         0.0,
         55,
         44,
         11,
         0.8,
         0.0029090909,
         1.25,
         0.0072337963,
         156.70175439,
         3239.8827761,
         156.70175439,
         8028.9624773,
         0,
         0,
         0,
         0,
         0.0,
         0.0,
         0.0,
         0.0,
         5.5964912281,
         17.479443253,
         151.10526316,
         4479.2754564,
         0.0,
         0.0,
         0.0,
         0.0,
         0.0,
         0.0,
         0,
         0,
         0.0,
         0.0,
         0,
         0,
         0.0,
         0.0,
         0,
         0,
         0,
         0,
         0,
         0,
         0,
         0,
         0,
         0,
         11.192982456,
         83.759043825,
         0.0,
         0.0,
         0.0,
         0.0,
         0.0,
         0.0,
         0,
         0,
         0,
         0,
         5.5964912281,
         17.479443253,
         0,
         0,
         0,
         0,
         0,
         0,
         0,
         0,
         0.0,
         0.0,
         33.578947368,
         380.11708249,
         0.0,
         0.0,
         0.0,
         0.0,
         0.0,
         0.0,
         0.0,
         0.0,
         0.0,
         0.0,
         0.0,
         0.0,
         0.0,
         0.0,
         0.0,
         0.0,
         0.0,
         0.0,
         0.0,
         0.0,
         0.0,
         0.0,
         0.0,
         0.0,
         0.0,
         0.0
        ],
        [
         "June",
         3531,
         "thresher sharks",
         "VA",
         1,
         6,
         2.0,
         125.361404,
         2010.074016,
         812,
         null,
         null,
         1.0,
         2023,
         "VA",
         56,
         1.0,
         0,
         0,
         0.0,
         0.0,
         0.0357142857,
         0.9642857143,
         0.0,
         0.0,
         0.0,
         0,
         0.0,
         0,
         0.0,
         0,
         0,
         0,
         0,
         0,
         0.0714285714,
         0.0,
         0.0,
         0.0,
         0,
         0,
         0.0357142857,
         0,
         0,
         0,
         0,
         0.0,
         0.2142857143,
         0.0,
         0.0,
         0.0,
         0.0,
         0.0,
         0.0,
         0.0,
         0.0,
         12.581818182,
         0,
         0,
         0.0,
         0.0,
         0.0350649351,
         3.8532467532,
         0.0,
         0.0,
         0.0,
         0,
         0.0,
         0,
         0.0,
         0,
         0,
         0,
         0,
         0,
         0.1766233766,
         0.0,
         0.0,
         0.0,
         0,
         0,
         0.0350649351,
         0,
         0,
         0,
         0,
         0.0,
         0.6077922078,
         0.0,
         0.0,
         0.0,
         0.0,
         0.0,
         0.0,
         0.0,
         0.0,
         55,
         44,
         11,
         0.8,
         0.0029090909,
         1.25,
         0.0072337963,
         156.70175439,
         3239.8827761,
         156.70175439,
         8028.9624773,
         0,
         0,
         0,
         0,
         0.0,
         0.0,
         0.0,
         0.0,
         5.5964912281,
         17.479443253,
         151.10526316,
         4479.2754564,
         0.0,
         0.0,
         0.0,
         0.0,
         0.0,
         0.0,
         0,
         0,
         0.0,
         0.0,
         0,
         0,
         0.0,
         0.0,
         0,
         0,
         0,
         0,
         0,
         0,
         0,
         0,
         0,
         0,
         11.192982456,
         83.759043825,
         0.0,
         0.0,
         0.0,
         0.0,
         0.0,
         0.0,
         0,
         0,
         0,
         0,
         5.5964912281,
         17.479443253,
         0,
         0,
         0,
         0,
         0,
         0,
         0,
         0,
         0.0,
         0.0,
         33.578947368,
         380.11708249,
         0.0,
         0.0,
         0.0,
         0.0,
         0.0,
         0.0,
         0.0,
         0.0,
         0.0,
         0.0,
         0.0,
         0.0,
         0.0,
         0.0,
         0.0,
         0.0,
         0.0,
         0.0,
         0.0,
         0.0,
         0.0,
         0.0,
         0.0,
         0.0,
         0.0,
         0.0
        ],
        [
         "June",
         3541,
         "bigeye thresher",
         "VA",
         1,
         6,
         2.0,
         125.361404,
         2010.074016,
         812,
         null,
         null,
         1.0,
         2023,
         "VA",
         56,
         1.0,
         0,
         0,
         0.0,
         0.0,
         0.0357142857,
         0.9642857143,
         0.0,
         0.0,
         0.0,
         0,
         0.0,
         0,
         0.0,
         0,
         0,
         0,
         0,
         0,
         0.0714285714,
         0.0,
         0.0,
         0.0,
         0,
         0,
         0.0357142857,
         0,
         0,
         0,
         0,
         0.0,
         0.2142857143,
         0.0,
         0.0,
         0.0,
         0.0,
         0.0,
         0.0,
         0.0,
         0.0,
         12.581818182,
         0,
         0,
         0.0,
         0.0,
         0.0350649351,
         3.8532467532,
         0.0,
         0.0,
         0.0,
         0,
         0.0,
         0,
         0.0,
         0,
         0,
         0,
         0,
         0,
         0.1766233766,
         0.0,
         0.0,
         0.0,
         0,
         0,
         0.0350649351,
         0,
         0,
         0,
         0,
         0.0,
         0.6077922078,
         0.0,
         0.0,
         0.0,
         0.0,
         0.0,
         0.0,
         0.0,
         0.0,
         55,
         44,
         11,
         0.8,
         0.0029090909,
         1.25,
         0.0072337963,
         156.70175439,
         3239.8827761,
         156.70175439,
         8028.9624773,
         0,
         0,
         0,
         0,
         0.0,
         0.0,
         0.0,
         0.0,
         5.5964912281,
         17.479443253,
         151.10526316,
         4479.2754564,
         0.0,
         0.0,
         0.0,
         0.0,
         0.0,
         0.0,
         0,
         0,
         0.0,
         0.0,
         0,
         0,
         0.0,
         0.0,
         0,
         0,
         0,
         0,
         0,
         0,
         0,
         0,
         0,
         0,
         11.192982456,
         83.759043825,
         0.0,
         0.0,
         0.0,
         0.0,
         0.0,
         0.0,
         0,
         0,
         0,
         0,
         5.5964912281,
         17.479443253,
         0,
         0,
         0,
         0,
         0,
         0,
         0,
         0,
         0.0,
         0.0,
         33.578947368,
         380.11708249,
         0.0,
         0.0,
         0.0,
         0.0,
         0.0,
         0.0,
         0.0,
         0.0,
         0.0,
         0.0,
         0.0,
         0.0,
         0.0,
         0.0,
         0.0,
         0.0,
         0.0,
         0.0,
         0.0,
         0.0,
         0.0,
         0.0,
         0.0,
         0.0,
         0.0,
         0.0
        ]
       ],
       "datasetInfos": [
        {
         "name": "_sqldf",
         "schema": {
          "fields": [
           {
            "metadata": {},
            "name": "mo_name",
            "nullable": true,
            "type": "string"
           },
           {
            "metadata": {},
            "name": "sp_code",
            "nullable": true,
            "type": "long"
           },
           {
            "metadata": {},
            "name": "sp_name",
            "nullable": true,
            "type": "string"
           },
           {
            "metadata": {},
            "name": "st",
            "nullable": true,
            "type": "string"
           },
           {
            "metadata": {},
            "name": "boattype",
            "nullable": true,
            "type": "long"
           },
           {
            "metadata": {},
            "name": "month",
            "nullable": true,
            "type": "long"
           },
           {
            "metadata": {},
            "name": "area",
            "nullable": true,
            "type": "double"
           },
           {
            "metadata": {},
            "name": "trips",
            "nullable": true,
            "type": "double"
           },
           {
            "metadata": {},
            "name": "v_trips",
            "nullable": true,
            "type": "double"
           },
           {
            "metadata": {},
            "name": "boatsonf",
            "nullable": true,
            "type": "long"
           },
           {
            "metadata": {},
            "name": "tot_area",
            "nullable": true,
            "type": "long"
           },
           {
            "metadata": {},
            "name": "n_area",
            "nullable": true,
            "type": "long"
           },
           {
            "metadata": {},
            "name": "p_area",
            "nullable": true,
            "type": "double"
           },
           {
            "metadata": {},
            "name": "year",
            "nullable": true,
            "type": "long"
           },
           {
            "metadata": {},
            "name": "state",
            "nullable": true,
            "type": "string"
           },
           {
            "metadata": {},
            "name": "n",
            "nullable": true,
            "type": "long"
           },
           {
            "metadata": {},
            "name": "mbluetile",
            "nullable": true,
            "type": "double"
           },
           {
            "metadata": {},
            "name": "msandtile",
            "nullable": true,
            "type": "long"
           },
           {
            "metadata": {},
            "name": "mgoldtile",
            "nullable": true,
            "type": "long"
           },
           {
            "metadata": {},
            "name": "munclasstile",
            "nullable": true,
            "type": "double"
           },
           {
            "metadata": {},
            "name": "malb",
            "nullable": true,
            "type": "double"
           },
           {
            "metadata": {},
            "name": "mskj",
            "nullable": true,
            "type": "double"
           },
           {
            "metadata": {},
            "name": "myft",
            "nullable": true,
            "type": "double"
           },
           {
            "metadata": {},
            "name": "mbet",
            "nullable": true,
            "type": "double"
           },
           {
            "metadata": {},
            "name": "mwhm",
            "nullable": true,
            "type": "double"
           },
           {
            "metadata": {},
            "name": "mbum",
            "nullable": true,
            "type": "double"
           },
           {
            "metadata": {},
            "name": "msai",
            "nullable": true,
            "type": "long"
           },
           {
            "metadata": {},
            "name": "mwah",
            "nullable": true,
            "type": "double"
           },
           {
            "metadata": {},
            "name": "mblushk",
            "nullable": true,
            "type": "long"
           },
           {
            "metadata": {},
            "name": "mthrshk",
            "nullable": true,
            "type": "double"
           },
           {
            "metadata": {},
            "name": "mbethrsh",
            "nullable": true,
            "type": "long"
           },
           {
            "metadata": {},
            "name": "msfnmako",
            "nullable": true,
            "type": "long"
           },
           {
            "metadata": {},
            "name": "mlfnmako",
            "nullable": true,
            "type": "long"
           },
           {
            "metadata": {},
            "name": "mdskyshk",
            "nullable": true,
            "type": "long"
           },
           {
            "metadata": {},
            "name": "mhmmrshk",
            "nullable": true,
            "type": "long"
           },
           {
            "metadata": {},
            "name": "mltunny",
            "nullable": true,
            "type": "double"
           },
           {
            "metadata": {},
            "name": "mbon",
            "nullable": true,
            "type": "double"
           },
           {
            "metadata": {},
            "name": "mkmack",
            "nullable": true,
            "type": "double"
           },
           {
            "metadata": {},
            "name": "msmack",
            "nullable": true,
            "type": "double"
           },
           {
            "metadata": {},
            "name": "mblktun",
            "nullable": true,
            "type": "long"
           },
           {
            "metadata": {},
            "name": "msbarshk",
            "nullable": true,
            "type": "long"
           },
           {
            "metadata": {},
            "name": "mswd",
            "nullable": true,
            "type": "double"
           },
           {
            "metadata": {},
            "name": "mmakoshk",
            "nullable": true,
            "type": "long"
           },
           {
            "metadata": {},
            "name": "mwshk",
            "nullable": true,
            "type": "long"
           },
           {
            "metadata": {},
            "name": "mtgrshk",
            "nullable": true,
            "type": "long"
           },
           {
            "metadata": {},
            "name": "mstgrshk",
            "nullable": true,
            "type": "long"
           },
           {
            "metadata": {},
            "name": "mambrjk",
            "nullable": true,
            "type": "double"
           },
           {
            "metadata": {},
            "name": "mdol",
            "nullable": true,
            "type": "double"
           },
           {
            "metadata": {},
            "name": "mysbft",
            "nullable": true,
            "type": "double"
           },
           {
            "metadata": {},
            "name": "msbft",
            "nullable": true,
            "type": "double"
           },
           {
            "metadata": {},
            "name": "mlschbft",
            "nullable": true,
            "type": "double"
           },
           {
            "metadata": {},
            "name": "msmdbft",
            "nullable": true,
            "type": "double"
           },
           {
            "metadata": {},
            "name": "mlgmdbft",
            "nullable": true,
            "type": "double"
           },
           {
            "metadata": {},
            "name": "mlgbft",
            "nullable": true,
            "type": "double"
           },
           {
            "metadata": {},
            "name": "muncbft",
            "nullable": true,
            "type": "double"
           },
           {
            "metadata": {},
            "name": "mporbgl",
            "nullable": true,
            "type": "double"
           },
           {
            "metadata": {},
            "name": "sbluetile",
            "nullable": true,
            "type": "double"
           },
           {
            "metadata": {},
            "name": "ssandtile",
            "nullable": true,
            "type": "long"
           },
           {
            "metadata": {},
            "name": "sgoldtile",
            "nullable": true,
            "type": "long"
           },
           {
            "metadata": {},
            "name": "sunclasstile",
            "nullable": true,
            "type": "double"
           },
           {
            "metadata": {},
            "name": "salb",
            "nullable": true,
            "type": "double"
           },
           {
            "metadata": {},
            "name": "sskj",
            "nullable": true,
            "type": "double"
           },
           {
            "metadata": {},
            "name": "syft",
            "nullable": true,
            "type": "double"
           },
           {
            "metadata": {},
            "name": "sbet",
            "nullable": true,
            "type": "double"
           },
           {
            "metadata": {},
            "name": "swhm",
            "nullable": true,
            "type": "double"
           },
           {
            "metadata": {},
            "name": "sbum",
            "nullable": true,
            "type": "double"
           },
           {
            "metadata": {},
            "name": "ssai",
            "nullable": true,
            "type": "long"
           },
           {
            "metadata": {},
            "name": "swah",
            "nullable": true,
            "type": "double"
           },
           {
            "metadata": {},
            "name": "sblushk",
            "nullable": true,
            "type": "long"
           },
           {
            "metadata": {},
            "name": "sthrshk",
            "nullable": true,
            "type": "double"
           },
           {
            "metadata": {},
            "name": "sbethrsh",
            "nullable": true,
            "type": "long"
           },
           {
            "metadata": {},
            "name": "ssfnmako",
            "nullable": true,
            "type": "long"
           },
           {
            "metadata": {},
            "name": "slfnmako",
            "nullable": true,
            "type": "long"
           },
           {
            "metadata": {},
            "name": "sdskyshk",
            "nullable": true,
            "type": "long"
           },
           {
            "metadata": {},
            "name": "shmmrshk",
            "nullable": true,
            "type": "long"
           },
           {
            "metadata": {},
            "name": "sltunny",
            "nullable": true,
            "type": "double"
           },
           {
            "metadata": {},
            "name": "sbon",
            "nullable": true,
            "type": "double"
           },
           {
            "metadata": {},
            "name": "skmack",
            "nullable": true,
            "type": "double"
           },
           {
            "metadata": {},
            "name": "ssmack",
            "nullable": true,
            "type": "double"
           },
           {
            "metadata": {},
            "name": "sblktun",
            "nullable": true,
            "type": "long"
           },
           {
            "metadata": {},
            "name": "ssbarshk",
            "nullable": true,
            "type": "long"
           },
           {
            "metadata": {},
            "name": "sswd",
            "nullable": true,
            "type": "double"
           },
           {
            "metadata": {},
            "name": "smakoshk",
            "nullable": true,
            "type": "long"
           },
           {
            "metadata": {},
            "name": "swshk",
            "nullable": true,
            "type": "long"
           },
           {
            "metadata": {},
            "name": "stgrshk",
            "nullable": true,
            "type": "long"
           },
           {
            "metadata": {},
            "name": "sstgrshk",
            "nullable": true,
            "type": "long"
           },
           {
            "metadata": {},
            "name": "sambrjk",
            "nullable": true,
            "type": "double"
           },
           {
            "metadata": {},
            "name": "sdol",
            "nullable": true,
            "type": "double"
           },
           {
            "metadata": {},
            "name": "sysbft",
            "nullable": true,
            "type": "double"
           },
           {
            "metadata": {},
            "name": "ssbft",
            "nullable": true,
            "type": "double"
           },
           {
            "metadata": {},
            "name": "slschbft",
            "nullable": true,
            "type": "double"
           },
           {
            "metadata": {},
            "name": "ssmdbft",
            "nullable": true,
            "type": "double"
           },
           {
            "metadata": {},
            "name": "slgmdbft",
            "nullable": true,
            "type": "double"
           },
           {
            "metadata": {},
            "name": "slgbft",
            "nullable": true,
            "type": "double"
           },
           {
            "metadata": {},
            "name": "suncbft",
            "nullable": true,
            "type": "double"
           },
           {
            "metadata": {},
            "name": "sporbgl",
            "nullable": true,
            "type": "double"
           },
           {
            "metadata": {},
            "name": "intrcept",
            "nullable": true,
            "type": "long"
           },
           {
            "metadata": {},
            "name": "inframe",
            "nullable": true,
            "type": "long"
           },
           {
            "metadata": {},
            "name": "outframe",
            "nullable": true,
            "type": "long"
           },
           {
            "metadata": {},
            "name": "p_frame",
            "nullable": true,
            "type": "double"
           },
           {
            "metadata": {},
            "name": "vp_frame",
            "nullable": true,
            "type": "double"
           },
           {
            "metadata": {},
            "name": "exfactor",
            "nullable": true,
            "type": "double"
           },
           {
            "metadata": {},
            "name": "vxfactor",
            "nullable": true,
            "type": "double"
           },
           {
            "metadata": {},
            "name": "tottrips",
            "nullable": true,
            "type": "double"
           },
           {
            "metadata": {},
            "name": "vartrips",
            "nullable": true,
            "type": "double"
           },
           {
            "metadata": {},
            "name": "cbluetile",
            "nullable": true,
            "type": "double"
           },
           {
            "metadata": {},
            "name": "vbluetile",
            "nullable": true,
            "type": "double"
           },
           {
            "metadata": {},
            "name": "csandtile",
            "nullable": true,
            "type": "long"
           },
           {
            "metadata": {},
            "name": "vsandtile",
            "nullable": true,
            "type": "long"
           },
           {
            "metadata": {},
            "name": "cgoldtile",
            "nullable": true,
            "type": "long"
           },
           {
            "metadata": {},
            "name": "vgoldtile",
            "nullable": true,
            "type": "long"
           },
           {
            "metadata": {},
            "name": "cunclasstile",
            "nullable": true,
            "type": "double"
           },
           {
            "metadata": {},
            "name": "vunclasstile",
            "nullable": true,
            "type": "double"
           },
           {
            "metadata": {},
            "name": "calb",
            "nullable": true,
            "type": "double"
           },
           {
            "metadata": {},
            "name": "valb",
            "nullable": true,
            "type": "double"
           },
           {
            "metadata": {},
            "name": "cskj",
            "nullable": true,
            "type": "double"
           },
           {
            "metadata": {},
            "name": "vskj",
            "nullable": true,
            "type": "double"
           },
           {
            "metadata": {},
            "name": "cyft",
            "nullable": true,
            "type": "double"
           },
           {
            "metadata": {},
            "name": "vyft",
            "nullable": true,
            "type": "double"
           },
           {
            "metadata": {},
            "name": "cbet",
            "nullable": true,
            "type": "double"
           },
           {
            "metadata": {},
            "name": "vbet",
            "nullable": true,
            "type": "double"
           },
           {
            "metadata": {},
            "name": "cwhm",
            "nullable": true,
            "type": "double"
           },
           {
            "metadata": {},
            "name": "vwhm",
            "nullable": true,
            "type": "double"
           },
           {
            "metadata": {},
            "name": "cbum",
            "nullable": true,
            "type": "double"
           },
           {
            "metadata": {},
            "name": "vbum",
            "nullable": true,
            "type": "double"
           },
           {
            "metadata": {},
            "name": "csai",
            "nullable": true,
            "type": "long"
           },
           {
            "metadata": {},
            "name": "vsai",
            "nullable": true,
            "type": "long"
           },
           {
            "metadata": {},
            "name": "cwah",
            "nullable": true,
            "type": "double"
           },
           {
            "metadata": {},
            "name": "vwah",
            "nullable": true,
            "type": "double"
           },
           {
            "metadata": {},
            "name": "cblushk",
            "nullable": true,
            "type": "long"
           },
           {
            "metadata": {},
            "name": "vblushk",
            "nullable": true,
            "type": "long"
           },
           {
            "metadata": {},
            "name": "cthrshk",
            "nullable": true,
            "type": "double"
           },
           {
            "metadata": {},
            "name": "vthrshk",
            "nullable": true,
            "type": "double"
           },
           {
            "metadata": {},
            "name": "cbethrsh",
            "nullable": true,
            "type": "long"
           },
           {
            "metadata": {},
            "name": "vbethrsh",
            "nullable": true,
            "type": "long"
           },
           {
            "metadata": {},
            "name": "csfnmako",
            "nullable": true,
            "type": "long"
           },
           {
            "metadata": {},
            "name": "vsfnmako",
            "nullable": true,
            "type": "long"
           },
           {
            "metadata": {},
            "name": "clfnmako",
            "nullable": true,
            "type": "long"
           },
           {
            "metadata": {},
            "name": "vlfnmako",
            "nullable": true,
            "type": "long"
           },
           {
            "metadata": {},
            "name": "cdskyshk",
            "nullable": true,
            "type": "long"
           },
           {
            "metadata": {},
            "name": "vdskyshk",
            "nullable": true,
            "type": "long"
           },
           {
            "metadata": {},
            "name": "chmmrshk",
            "nullable": true,
            "type": "long"
           },
           {
            "metadata": {},
            "name": "vhmmrshk",
            "nullable": true,
            "type": "long"
           },
           {
            "metadata": {},
            "name": "cltunny",
            "nullable": true,
            "type": "double"
           },
           {
            "metadata": {},
            "name": "vltunny",
            "nullable": true,
            "type": "double"
           },
           {
            "metadata": {},
            "name": "cbon",
            "nullable": true,
            "type": "double"
           },
           {
            "metadata": {},
            "name": "vbon",
            "nullable": true,
            "type": "double"
           },
           {
            "metadata": {},
            "name": "ckmack",
            "nullable": true,
            "type": "double"
           },
           {
            "metadata": {},
            "name": "vkmack",
            "nullable": true,
            "type": "double"
           },
           {
            "metadata": {},
            "name": "csmack",
            "nullable": true,
            "type": "double"
           },
           {
            "metadata": {},
            "name": "vsmack",
            "nullable": true,
            "type": "double"
           },
           {
            "metadata": {},
            "name": "cblktun",
            "nullable": true,
            "type": "long"
           },
           {
            "metadata": {},
            "name": "vblktun",
            "nullable": true,
            "type": "long"
           },
           {
            "metadata": {},
            "name": "csbarshk",
            "nullable": true,
            "type": "long"
           },
           {
            "metadata": {},
            "name": "vsbarshk",
            "nullable": true,
            "type": "long"
           },
           {
            "metadata": {},
            "name": "cswd",
            "nullable": true,
            "type": "double"
           },
           {
            "metadata": {},
            "name": "vswd",
            "nullable": true,
            "type": "double"
           },
           {
            "metadata": {},
            "name": "cmakoshk",
            "nullable": true,
            "type": "long"
           },
           {
            "metadata": {},
            "name": "vmakoshk",
            "nullable": true,
            "type": "long"
           },
           {
            "metadata": {},
            "name": "cwshk",
            "nullable": true,
            "type": "long"
           },
           {
            "metadata": {},
            "name": "vwshk",
            "nullable": true,
            "type": "long"
           },
           {
            "metadata": {},
            "name": "ctgrshk",
            "nullable": true,
            "type": "long"
           },
           {
            "metadata": {},
            "name": "vtgrshk",
            "nullable": true,
            "type": "long"
           },
           {
            "metadata": {},
            "name": "cstgrshk",
            "nullable": true,
            "type": "long"
           },
           {
            "metadata": {},
            "name": "vstgrshk",
            "nullable": true,
            "type": "long"
           },
           {
            "metadata": {},
            "name": "cambrjk",
            "nullable": true,
            "type": "double"
           },
           {
            "metadata": {},
            "name": "vambrjk",
            "nullable": true,
            "type": "double"
           },
           {
            "metadata": {},
            "name": "cdol",
            "nullable": true,
            "type": "double"
           },
           {
            "metadata": {},
            "name": "vdol",
            "nullable": true,
            "type": "double"
           },
           {
            "metadata": {},
            "name": "cysbft",
            "nullable": true,
            "type": "double"
           },
           {
            "metadata": {},
            "name": "vysbft",
            "nullable": true,
            "type": "double"
           },
           {
            "metadata": {},
            "name": "csbft",
            "nullable": true,
            "type": "double"
           },
           {
            "metadata": {},
            "name": "vsbft",
            "nullable": true,
            "type": "double"
           },
           {
            "metadata": {},
            "name": "clschbft",
            "nullable": true,
            "type": "double"
           },
           {
            "metadata": {},
            "name": "vlschbft",
            "nullable": true,
            "type": "double"
           },
           {
            "metadata": {},
            "name": "csmdbft",
            "nullable": true,
            "type": "double"
           },
           {
            "metadata": {},
            "name": "vsmdbft",
            "nullable": true,
            "type": "double"
           },
           {
            "metadata": {},
            "name": "clgmdbft",
            "nullable": true,
            "type": "double"
           },
           {
            "metadata": {},
            "name": "vlgmdbft",
            "nullable": true,
            "type": "double"
           },
           {
            "metadata": {},
            "name": "clgbft",
            "nullable": true,
            "type": "double"
           },
           {
            "metadata": {},
            "name": "vlgbft",
            "nullable": true,
            "type": "double"
           },
           {
            "metadata": {},
            "name": "cuncbft",
            "nullable": true,
            "type": "double"
           },
           {
            "metadata": {},
            "name": "vuncbft",
            "nullable": true,
            "type": "double"
           },
           {
            "metadata": {},
            "name": "cporbgl",
            "nullable": true,
            "type": "double"
           },
           {
            "metadata": {},
            "name": "vporbgl",
            "nullable": true,
            "type": "double"
           },
           {
            "metadata": {},
            "name": "kept",
            "nullable": true,
            "type": "double"
           },
           {
            "metadata": {},
            "name": "var_kept",
            "nullable": true,
            "type": "double"
           },
           {
            "metadata": {},
            "name": "meankept",
            "nullable": true,
            "type": "double"
           },
           {
            "metadata": {},
            "name": "s2_kept",
            "nullable": true,
            "type": "double"
           },
           {
            "metadata": {},
            "name": "alive",
            "nullable": true,
            "type": "double"
           },
           {
            "metadata": {},
            "name": "var_alive",
            "nullable": true,
            "type": "double"
           },
           {
            "metadata": {},
            "name": "dead",
            "nullable": true,
            "type": "double"
           },
           {
            "metadata": {},
            "name": "var_dead",
            "nullable": true,
            "type": "double"
           },
           {
            "metadata": {},
            "name": "weighed",
            "nullable": true,
            "type": "double"
           },
           {
            "metadata": {},
            "name": "var_weighed",
            "nullable": true,
            "type": "double"
           }
          ],
          "type": "struct"
         },
         "tableIdentifier": null,
         "typeStr": "pyspark.sql.connect.dataframe.DataFrame"
        }
       ],
       "dbfsResultPath": null,
       "isJsonSchema": true,
       "metadata": {
        "createTempViewForImplicitDf": true,
        "dataframeName": "_sqldf",
        "executionCount": 41
       },
       "overflow": false,
       "plotOptions": {
        "customPlotOptions": {},
        "displayType": "table",
        "pivotAggregation": null,
        "pivotColumns": null,
        "xColumns": null,
        "yColumns": null
       },
       "removedWidgets": [],
       "schema": [
        {
         "metadata": "{}",
         "name": "mo_name",
         "type": "\"string\""
        },
        {
         "metadata": "{}",
         "name": "sp_code",
         "type": "\"long\""
        },
        {
         "metadata": "{}",
         "name": "sp_name",
         "type": "\"string\""
        },
        {
         "metadata": "{}",
         "name": "st",
         "type": "\"string\""
        },
        {
         "metadata": "{}",
         "name": "boattype",
         "type": "\"long\""
        },
        {
         "metadata": "{}",
         "name": "month",
         "type": "\"long\""
        },
        {
         "metadata": "{}",
         "name": "area",
         "type": "\"double\""
        },
        {
         "metadata": "{}",
         "name": "trips",
         "type": "\"double\""
        },
        {
         "metadata": "{}",
         "name": "v_trips",
         "type": "\"double\""
        },
        {
         "metadata": "{}",
         "name": "boatsonf",
         "type": "\"long\""
        },
        {
         "metadata": "{}",
         "name": "tot_area",
         "type": "\"long\""
        },
        {
         "metadata": "{}",
         "name": "n_area",
         "type": "\"long\""
        },
        {
         "metadata": "{}",
         "name": "p_area",
         "type": "\"double\""
        },
        {
         "metadata": "{}",
         "name": "year",
         "type": "\"long\""
        },
        {
         "metadata": "{}",
         "name": "state",
         "type": "\"string\""
        },
        {
         "metadata": "{}",
         "name": "n",
         "type": "\"long\""
        },
        {
         "metadata": "{}",
         "name": "mbluetile",
         "type": "\"double\""
        },
        {
         "metadata": "{}",
         "name": "msandtile",
         "type": "\"long\""
        },
        {
         "metadata": "{}",
         "name": "mgoldtile",
         "type": "\"long\""
        },
        {
         "metadata": "{}",
         "name": "munclasstile",
         "type": "\"double\""
        },
        {
         "metadata": "{}",
         "name": "malb",
         "type": "\"double\""
        },
        {
         "metadata": "{}",
         "name": "mskj",
         "type": "\"double\""
        },
        {
         "metadata": "{}",
         "name": "myft",
         "type": "\"double\""
        },
        {
         "metadata": "{}",
         "name": "mbet",
         "type": "\"double\""
        },
        {
         "metadata": "{}",
         "name": "mwhm",
         "type": "\"double\""
        },
        {
         "metadata": "{}",
         "name": "mbum",
         "type": "\"double\""
        },
        {
         "metadata": "{}",
         "name": "msai",
         "type": "\"long\""
        },
        {
         "metadata": "{}",
         "name": "mwah",
         "type": "\"double\""
        },
        {
         "metadata": "{}",
         "name": "mblushk",
         "type": "\"long\""
        },
        {
         "metadata": "{}",
         "name": "mthrshk",
         "type": "\"double\""
        },
        {
         "metadata": "{}",
         "name": "mbethrsh",
         "type": "\"long\""
        },
        {
         "metadata": "{}",
         "name": "msfnmako",
         "type": "\"long\""
        },
        {
         "metadata": "{}",
         "name": "mlfnmako",
         "type": "\"long\""
        },
        {
         "metadata": "{}",
         "name": "mdskyshk",
         "type": "\"long\""
        },
        {
         "metadata": "{}",
         "name": "mhmmrshk",
         "type": "\"long\""
        },
        {
         "metadata": "{}",
         "name": "mltunny",
         "type": "\"double\""
        },
        {
         "metadata": "{}",
         "name": "mbon",
         "type": "\"double\""
        },
        {
         "metadata": "{}",
         "name": "mkmack",
         "type": "\"double\""
        },
        {
         "metadata": "{}",
         "name": "msmack",
         "type": "\"double\""
        },
        {
         "metadata": "{}",
         "name": "mblktun",
         "type": "\"long\""
        },
        {
         "metadata": "{}",
         "name": "msbarshk",
         "type": "\"long\""
        },
        {
         "metadata": "{}",
         "name": "mswd",
         "type": "\"double\""
        },
        {
         "metadata": "{}",
         "name": "mmakoshk",
         "type": "\"long\""
        },
        {
         "metadata": "{}",
         "name": "mwshk",
         "type": "\"long\""
        },
        {
         "metadata": "{}",
         "name": "mtgrshk",
         "type": "\"long\""
        },
        {
         "metadata": "{}",
         "name": "mstgrshk",
         "type": "\"long\""
        },
        {
         "metadata": "{}",
         "name": "mambrjk",
         "type": "\"double\""
        },
        {
         "metadata": "{}",
         "name": "mdol",
         "type": "\"double\""
        },
        {
         "metadata": "{}",
         "name": "mysbft",
         "type": "\"double\""
        },
        {
         "metadata": "{}",
         "name": "msbft",
         "type": "\"double\""
        },
        {
         "metadata": "{}",
         "name": "mlschbft",
         "type": "\"double\""
        },
        {
         "metadata": "{}",
         "name": "msmdbft",
         "type": "\"double\""
        },
        {
         "metadata": "{}",
         "name": "mlgmdbft",
         "type": "\"double\""
        },
        {
         "metadata": "{}",
         "name": "mlgbft",
         "type": "\"double\""
        },
        {
         "metadata": "{}",
         "name": "muncbft",
         "type": "\"double\""
        },
        {
         "metadata": "{}",
         "name": "mporbgl",
         "type": "\"double\""
        },
        {
         "metadata": "{}",
         "name": "sbluetile",
         "type": "\"double\""
        },
        {
         "metadata": "{}",
         "name": "ssandtile",
         "type": "\"long\""
        },
        {
         "metadata": "{}",
         "name": "sgoldtile",
         "type": "\"long\""
        },
        {
         "metadata": "{}",
         "name": "sunclasstile",
         "type": "\"double\""
        },
        {
         "metadata": "{}",
         "name": "salb",
         "type": "\"double\""
        },
        {
         "metadata": "{}",
         "name": "sskj",
         "type": "\"double\""
        },
        {
         "metadata": "{}",
         "name": "syft",
         "type": "\"double\""
        },
        {
         "metadata": "{}",
         "name": "sbet",
         "type": "\"double\""
        },
        {
         "metadata": "{}",
         "name": "swhm",
         "type": "\"double\""
        },
        {
         "metadata": "{}",
         "name": "sbum",
         "type": "\"double\""
        },
        {
         "metadata": "{}",
         "name": "ssai",
         "type": "\"long\""
        },
        {
         "metadata": "{}",
         "name": "swah",
         "type": "\"double\""
        },
        {
         "metadata": "{}",
         "name": "sblushk",
         "type": "\"long\""
        },
        {
         "metadata": "{}",
         "name": "sthrshk",
         "type": "\"double\""
        },
        {
         "metadata": "{}",
         "name": "sbethrsh",
         "type": "\"long\""
        },
        {
         "metadata": "{}",
         "name": "ssfnmako",
         "type": "\"long\""
        },
        {
         "metadata": "{}",
         "name": "slfnmako",
         "type": "\"long\""
        },
        {
         "metadata": "{}",
         "name": "sdskyshk",
         "type": "\"long\""
        },
        {
         "metadata": "{}",
         "name": "shmmrshk",
         "type": "\"long\""
        },
        {
         "metadata": "{}",
         "name": "sltunny",
         "type": "\"double\""
        },
        {
         "metadata": "{}",
         "name": "sbon",
         "type": "\"double\""
        },
        {
         "metadata": "{}",
         "name": "skmack",
         "type": "\"double\""
        },
        {
         "metadata": "{}",
         "name": "ssmack",
         "type": "\"double\""
        },
        {
         "metadata": "{}",
         "name": "sblktun",
         "type": "\"long\""
        },
        {
         "metadata": "{}",
         "name": "ssbarshk",
         "type": "\"long\""
        },
        {
         "metadata": "{}",
         "name": "sswd",
         "type": "\"double\""
        },
        {
         "metadata": "{}",
         "name": "smakoshk",
         "type": "\"long\""
        },
        {
         "metadata": "{}",
         "name": "swshk",
         "type": "\"long\""
        },
        {
         "metadata": "{}",
         "name": "stgrshk",
         "type": "\"long\""
        },
        {
         "metadata": "{}",
         "name": "sstgrshk",
         "type": "\"long\""
        },
        {
         "metadata": "{}",
         "name": "sambrjk",
         "type": "\"double\""
        },
        {
         "metadata": "{}",
         "name": "sdol",
         "type": "\"double\""
        },
        {
         "metadata": "{}",
         "name": "sysbft",
         "type": "\"double\""
        },
        {
         "metadata": "{}",
         "name": "ssbft",
         "type": "\"double\""
        },
        {
         "metadata": "{}",
         "name": "slschbft",
         "type": "\"double\""
        },
        {
         "metadata": "{}",
         "name": "ssmdbft",
         "type": "\"double\""
        },
        {
         "metadata": "{}",
         "name": "slgmdbft",
         "type": "\"double\""
        },
        {
         "metadata": "{}",
         "name": "slgbft",
         "type": "\"double\""
        },
        {
         "metadata": "{}",
         "name": "suncbft",
         "type": "\"double\""
        },
        {
         "metadata": "{}",
         "name": "sporbgl",
         "type": "\"double\""
        },
        {
         "metadata": "{}",
         "name": "intrcept",
         "type": "\"long\""
        },
        {
         "metadata": "{}",
         "name": "inframe",
         "type": "\"long\""
        },
        {
         "metadata": "{}",
         "name": "outframe",
         "type": "\"long\""
        },
        {
         "metadata": "{}",
         "name": "p_frame",
         "type": "\"double\""
        },
        {
         "metadata": "{}",
         "name": "vp_frame",
         "type": "\"double\""
        },
        {
         "metadata": "{}",
         "name": "exfactor",
         "type": "\"double\""
        },
        {
         "metadata": "{}",
         "name": "vxfactor",
         "type": "\"double\""
        },
        {
         "metadata": "{}",
         "name": "tottrips",
         "type": "\"double\""
        },
        {
         "metadata": "{}",
         "name": "vartrips",
         "type": "\"double\""
        },
        {
         "metadata": "{}",
         "name": "cbluetile",
         "type": "\"double\""
        },
        {
         "metadata": "{}",
         "name": "vbluetile",
         "type": "\"double\""
        },
        {
         "metadata": "{}",
         "name": "csandtile",
         "type": "\"long\""
        },
        {
         "metadata": "{}",
         "name": "vsandtile",
         "type": "\"long\""
        },
        {
         "metadata": "{}",
         "name": "cgoldtile",
         "type": "\"long\""
        },
        {
         "metadata": "{}",
         "name": "vgoldtile",
         "type": "\"long\""
        },
        {
         "metadata": "{}",
         "name": "cunclasstile",
         "type": "\"double\""
        },
        {
         "metadata": "{}",
         "name": "vunclasstile",
         "type": "\"double\""
        },
        {
         "metadata": "{}",
         "name": "calb",
         "type": "\"double\""
        },
        {
         "metadata": "{}",
         "name": "valb",
         "type": "\"double\""
        },
        {
         "metadata": "{}",
         "name": "cskj",
         "type": "\"double\""
        },
        {
         "metadata": "{}",
         "name": "vskj",
         "type": "\"double\""
        },
        {
         "metadata": "{}",
         "name": "cyft",
         "type": "\"double\""
        },
        {
         "metadata": "{}",
         "name": "vyft",
         "type": "\"double\""
        },
        {
         "metadata": "{}",
         "name": "cbet",
         "type": "\"double\""
        },
        {
         "metadata": "{}",
         "name": "vbet",
         "type": "\"double\""
        },
        {
         "metadata": "{}",
         "name": "cwhm",
         "type": "\"double\""
        },
        {
         "metadata": "{}",
         "name": "vwhm",
         "type": "\"double\""
        },
        {
         "metadata": "{}",
         "name": "cbum",
         "type": "\"double\""
        },
        {
         "metadata": "{}",
         "name": "vbum",
         "type": "\"double\""
        },
        {
         "metadata": "{}",
         "name": "csai",
         "type": "\"long\""
        },
        {
         "metadata": "{}",
         "name": "vsai",
         "type": "\"long\""
        },
        {
         "metadata": "{}",
         "name": "cwah",
         "type": "\"double\""
        },
        {
         "metadata": "{}",
         "name": "vwah",
         "type": "\"double\""
        },
        {
         "metadata": "{}",
         "name": "cblushk",
         "type": "\"long\""
        },
        {
         "metadata": "{}",
         "name": "vblushk",
         "type": "\"long\""
        },
        {
         "metadata": "{}",
         "name": "cthrshk",
         "type": "\"double\""
        },
        {
         "metadata": "{}",
         "name": "vthrshk",
         "type": "\"double\""
        },
        {
         "metadata": "{}",
         "name": "cbethrsh",
         "type": "\"long\""
        },
        {
         "metadata": "{}",
         "name": "vbethrsh",
         "type": "\"long\""
        },
        {
         "metadata": "{}",
         "name": "csfnmako",
         "type": "\"long\""
        },
        {
         "metadata": "{}",
         "name": "vsfnmako",
         "type": "\"long\""
        },
        {
         "metadata": "{}",
         "name": "clfnmako",
         "type": "\"long\""
        },
        {
         "metadata": "{}",
         "name": "vlfnmako",
         "type": "\"long\""
        },
        {
         "metadata": "{}",
         "name": "cdskyshk",
         "type": "\"long\""
        },
        {
         "metadata": "{}",
         "name": "vdskyshk",
         "type": "\"long\""
        },
        {
         "metadata": "{}",
         "name": "chmmrshk",
         "type": "\"long\""
        },
        {
         "metadata": "{}",
         "name": "vhmmrshk",
         "type": "\"long\""
        },
        {
         "metadata": "{}",
         "name": "cltunny",
         "type": "\"double\""
        },
        {
         "metadata": "{}",
         "name": "vltunny",
         "type": "\"double\""
        },
        {
         "metadata": "{}",
         "name": "cbon",
         "type": "\"double\""
        },
        {
         "metadata": "{}",
         "name": "vbon",
         "type": "\"double\""
        },
        {
         "metadata": "{}",
         "name": "ckmack",
         "type": "\"double\""
        },
        {
         "metadata": "{}",
         "name": "vkmack",
         "type": "\"double\""
        },
        {
         "metadata": "{}",
         "name": "csmack",
         "type": "\"double\""
        },
        {
         "metadata": "{}",
         "name": "vsmack",
         "type": "\"double\""
        },
        {
         "metadata": "{}",
         "name": "cblktun",
         "type": "\"long\""
        },
        {
         "metadata": "{}",
         "name": "vblktun",
         "type": "\"long\""
        },
        {
         "metadata": "{}",
         "name": "csbarshk",
         "type": "\"long\""
        },
        {
         "metadata": "{}",
         "name": "vsbarshk",
         "type": "\"long\""
        },
        {
         "metadata": "{}",
         "name": "cswd",
         "type": "\"double\""
        },
        {
         "metadata": "{}",
         "name": "vswd",
         "type": "\"double\""
        },
        {
         "metadata": "{}",
         "name": "cmakoshk",
         "type": "\"long\""
        },
        {
         "metadata": "{}",
         "name": "vmakoshk",
         "type": "\"long\""
        },
        {
         "metadata": "{}",
         "name": "cwshk",
         "type": "\"long\""
        },
        {
         "metadata": "{}",
         "name": "vwshk",
         "type": "\"long\""
        },
        {
         "metadata": "{}",
         "name": "ctgrshk",
         "type": "\"long\""
        },
        {
         "metadata": "{}",
         "name": "vtgrshk",
         "type": "\"long\""
        },
        {
         "metadata": "{}",
         "name": "cstgrshk",
         "type": "\"long\""
        },
        {
         "metadata": "{}",
         "name": "vstgrshk",
         "type": "\"long\""
        },
        {
         "metadata": "{}",
         "name": "cambrjk",
         "type": "\"double\""
        },
        {
         "metadata": "{}",
         "name": "vambrjk",
         "type": "\"double\""
        },
        {
         "metadata": "{}",
         "name": "cdol",
         "type": "\"double\""
        },
        {
         "metadata": "{}",
         "name": "vdol",
         "type": "\"double\""
        },
        {
         "metadata": "{}",
         "name": "cysbft",
         "type": "\"double\""
        },
        {
         "metadata": "{}",
         "name": "vysbft",
         "type": "\"double\""
        },
        {
         "metadata": "{}",
         "name": "csbft",
         "type": "\"double\""
        },
        {
         "metadata": "{}",
         "name": "vsbft",
         "type": "\"double\""
        },
        {
         "metadata": "{}",
         "name": "clschbft",
         "type": "\"double\""
        },
        {
         "metadata": "{}",
         "name": "vlschbft",
         "type": "\"double\""
        },
        {
         "metadata": "{}",
         "name": "csmdbft",
         "type": "\"double\""
        },
        {
         "metadata": "{}",
         "name": "vsmdbft",
         "type": "\"double\""
        },
        {
         "metadata": "{}",
         "name": "clgmdbft",
         "type": "\"double\""
        },
        {
         "metadata": "{}",
         "name": "vlgmdbft",
         "type": "\"double\""
        },
        {
         "metadata": "{}",
         "name": "clgbft",
         "type": "\"double\""
        },
        {
         "metadata": "{}",
         "name": "vlgbft",
         "type": "\"double\""
        },
        {
         "metadata": "{}",
         "name": "cuncbft",
         "type": "\"double\""
        },
        {
         "metadata": "{}",
         "name": "vuncbft",
         "type": "\"double\""
        },
        {
         "metadata": "{}",
         "name": "cporbgl",
         "type": "\"double\""
        },
        {
         "metadata": "{}",
         "name": "vporbgl",
         "type": "\"double\""
        },
        {
         "metadata": "{}",
         "name": "kept",
         "type": "\"double\""
        },
        {
         "metadata": "{}",
         "name": "var_kept",
         "type": "\"double\""
        },
        {
         "metadata": "{}",
         "name": "meankept",
         "type": "\"double\""
        },
        {
         "metadata": "{}",
         "name": "s2_kept",
         "type": "\"double\""
        },
        {
         "metadata": "{}",
         "name": "alive",
         "type": "\"double\""
        },
        {
         "metadata": "{}",
         "name": "var_alive",
         "type": "\"double\""
        },
        {
         "metadata": "{}",
         "name": "dead",
         "type": "\"double\""
        },
        {
         "metadata": "{}",
         "name": "var_dead",
         "type": "\"double\""
        },
        {
         "metadata": "{}",
         "name": "weighed",
         "type": "\"double\""
        },
        {
         "metadata": "{}",
         "name": "var_weighed",
         "type": "\"double\""
        }
       ],
       "type": "table"
      }
     },
     "output_type": "display_data"
    }
   ],
   "source": [
    "%sql\n",
    "--verify that our data is loaded correctly\n",
    "SELECT * FROM workspace.default.all_ests_2023 LIMIT 10;"
   ]
  },
  {
   "cell_type": "code",
   "execution_count": 0,
   "metadata": {
    "application/vnd.databricks.v1+cell": {
     "cellMetadata": {
      "byteLimit": 2048000,
      "implicitDf": true,
      "rowLimit": 10000
     },
     "inputWidgets": {},
     "nuid": "84ce5cf4-feea-4bba-b891-e35fc4a2cb61",
     "showTitle": false,
     "tableResultSettingsMap": {},
     "title": ""
    }
   },
   "outputs": [],
   "source": [
    "%sql\n",
    "--create a summary table\n",
    "CREATE TABLE IF NOT EXISTS workspace.default.monthly_species_summary (\n",
    "  my_id BIGINT GENERATED ALWAYS AS IDENTITY,\n",
    "  mo_name VARCHAR(9),\n",
    "  sp_name VARCHAR(100),\n",
    "  year INT,\n",
    "  weighed DECIMAL(10,2)\n",
    ");"
   ]
  },
  {
   "cell_type": "code",
   "execution_count": 0,
   "metadata": {
    "application/vnd.databricks.v1+cell": {
     "cellMetadata": {
      "byteLimit": 2048000,
      "implicitDf": true,
      "rowLimit": 10000
     },
     "inputWidgets": {},
     "nuid": "2f32b3e0-af4f-4b04-a90a-0d3a33e510be",
     "showTitle": false,
     "tableResultSettingsMap": {},
     "title": ""
    }
   },
   "outputs": [
    {
     "output_type": "display_data",
     "data": {
      "text/html": [
       "<style scoped>\n",
       "  .table-result-container {\n",
       "    max-height: 300px;\n",
       "    overflow: auto;\n",
       "  }\n",
       "  table, th, td {\n",
       "    border: 1px solid black;\n",
       "    border-collapse: collapse;\n",
       "  }\n",
       "  th, td {\n",
       "    padding: 5px;\n",
       "  }\n",
       "  th {\n",
       "    text-align: left;\n",
       "  }\n",
       "</style><div class='table-result-container'><table class='table-result'><thead style='background-color: white'><tr><th>num_affected_rows</th><th>num_inserted_rows</th></tr></thead><tbody><tr><td>480</td><td>480</td></tr></tbody></table></div>"
      ]
     },
     "metadata": {
      "application/vnd.databricks.v1+output": {
       "addedWidgets": {},
       "aggData": [],
       "aggError": "",
       "aggOverflow": false,
       "aggSchema": [],
       "aggSeriesLimitReached": false,
       "aggType": "",
       "arguments": {},
       "columnCustomDisplayInfos": {},
       "data": [
        [
         480,
         480
        ]
       ],
       "datasetInfos": [
        {
         "name": "_sqldf",
         "schema": {
          "fields": [
           {
            "metadata": {},
            "name": "num_affected_rows",
            "nullable": true,
            "type": "long"
           },
           {
            "metadata": {},
            "name": "num_inserted_rows",
            "nullable": true,
            "type": "long"
           }
          ],
          "type": "struct"
         },
         "tableIdentifier": null,
         "typeStr": "pyspark.sql.connect.dataframe.DataFrame"
        }
       ],
       "dbfsResultPath": null,
       "isJsonSchema": true,
       "metadata": {
        "createTempViewForImplicitDf": true,
        "dataframeName": "_sqldf",
        "executionCount": 43
       },
       "overflow": false,
       "plotOptions": {
        "customPlotOptions": {},
        "displayType": "table",
        "pivotAggregation": null,
        "pivotColumns": null,
        "xColumns": null,
        "yColumns": null
       },
       "removedWidgets": [],
       "schema": [
        {
         "metadata": "{}",
         "name": "num_affected_rows",
         "type": "\"long\""
        },
        {
         "metadata": "{}",
         "name": "num_inserted_rows",
         "type": "\"long\""
        }
       ],
       "type": "table"
      }
     },
     "output_type": "display_data"
    }
   ],
   "source": [
    "%sql\n",
    "--add to summary table\n",
    "INSERT INTO workspace.default.monthly_species_summary (mo_name, sp_name, year, weighed)\n",
    "SELECT \n",
    "  mo_name,\n",
    "  sp_name,\n",
    "  year,\n",
    "  weighed\n",
    "FROM workspace.default.all_ests_2023\n",
    "WHERE mo_name = 'June'\n",
    "AND year = 2023\n",
    "--WHERE mo_name = date_format(add_months(current_date(), -1), 'MMMM')\n",
    "--AND year = year(add_months(current_date(), -1))"
   ]
  },
  {
   "cell_type": "code",
   "execution_count": 0,
   "metadata": {
    "application/vnd.databricks.v1+cell": {
     "cellMetadata": {
      "byteLimit": 2048000,
      "implicitDf": true,
      "rowLimit": 10000
     },
     "inputWidgets": {},
     "nuid": "32d61322-1f94-4949-885c-44708a64dbad",
     "showTitle": false,
     "tableResultSettingsMap": {
      "0": {
       "dataGridStateBlob": "{\"version\":1,\"tableState\":{\"columnPinning\":{\"left\":[\"#row_number#\"],\"right\":[]},\"columnSizing\":{},\"columnVisibility\":{}},\"settings\":{\"columns\":{}},\"syncTimestamp\":1757122291635}",
       "filterBlob": null,
       "queryPlanFiltersBlob": null,
       "tableResultIndex": 0
      }
     },
     "title": ""
    }
   },
   "outputs": [
    {
     "output_type": "display_data",
     "data": {
      "text/html": [
       "<style scoped>\n",
       "  .table-result-container {\n",
       "    max-height: 300px;\n",
       "    overflow: auto;\n",
       "  }\n",
       "  table, th, td {\n",
       "    border: 1px solid black;\n",
       "    border-collapse: collapse;\n",
       "  }\n",
       "  th, td {\n",
       "    padding: 5px;\n",
       "  }\n",
       "  th {\n",
       "    text-align: left;\n",
       "  }\n",
       "</style><div class='table-result-container'><table class='table-result'><thead style='background-color: white'><tr><th>my_id</th><th>mo_name</th><th>sp_name</th><th>year</th><th>weighed</th></tr></thead><tbody><tr><td>1</td><td>June</td><td>greater amberjack</td><td>2023</td><td>0.00</td></tr><tr><td>2</td><td>June</td><td>Atlantic bonito</td><td>2023</td><td>0.00</td></tr><tr><td>3</td><td>June</td><td>dolphin</td><td>2023</td><td>5.60</td></tr><tr><td>4</td><td>June</td><td>king mackerel</td><td>2023</td><td>0.00</td></tr><tr><td>5</td><td>June</td><td>white marlin</td><td>2023</td><td>0.00</td></tr><tr><td>6</td><td>June</td><td>blue marlin</td><td>2023</td><td>0.00</td></tr><tr><td>7</td><td>June</td><td>sailfish</td><td>2023</td><td>0.00</td></tr><tr><td>8</td><td>June</td><td>sand tiger</td><td>2023</td><td>0.00</td></tr><tr><td>9</td><td>June</td><td>thresher sharks</td><td>2023</td><td>0.00</td></tr><tr><td>10</td><td>June</td><td>bigeye thresher</td><td>2023</td><td>0.00</td></tr><tr><td>11</td><td>June</td><td>shortfin mako</td><td>2023</td><td>0.00</td></tr><tr><td>12</td><td>June</td><td>mako sharks</td><td>2023</td><td>0.00</td></tr><tr><td>13</td><td>June</td><td>longfin mako</td><td>2023</td><td>0.00</td></tr><tr><td>14</td><td>June</td><td>Spanish mackerel</td><td>2023</td><td>0.00</td></tr><tr><td>15</td><td>June</td><td>swordfish</td><td>2023</td><td>0.00</td></tr><tr><td>16</td><td>June</td><td>blue tilefish</td><td>2023</td><td>0.00</td></tr><tr><td>17</td><td>June</td><td>sand tilefish</td><td>2023</td><td>0.00</td></tr><tr><td>18</td><td>June</td><td>golden tilefish</td><td>2023</td><td>0.00</td></tr><tr><td>19</td><td>June</td><td>unclassified tilefish</td><td>2023</td><td>0.00</td></tr><tr><td>20</td><td>June</td><td>skipjack tuna</td><td>2023</td><td>2.80</td></tr><tr><td>21</td><td>June</td><td>bluefin tuna - UNC</td><td>2023</td><td>0.00</td></tr><tr><td>22</td><td>June</td><td>bluefin tuna - large</td><td>2023</td><td>0.00</td></tr><tr><td>23</td><td>June</td><td>bluefin tuna - young school</td><td>2023</td><td>0.00</td></tr><tr><td>24</td><td>June</td><td>bluefin tuna - small medium</td><td>2023</td><td>0.00</td></tr><tr><td>25</td><td>June</td><td>bluefin tuna - school</td><td>2023</td><td>0.00</td></tr><tr><td>26</td><td>June</td><td>bluefin tuna - large school</td><td>2023</td><td>0.00</td></tr><tr><td>27</td><td>June</td><td>bluefin tuna - large medium</td><td>2023</td><td>0.00</td></tr><tr><td>28</td><td>June</td><td>little tunny</td><td>2023</td><td>2.80</td></tr><tr><td>29</td><td>June</td><td>bigeye tuna</td><td>2023</td><td>0.00</td></tr><tr><td>30</td><td>June</td><td>albacore</td><td>2023</td><td>0.00</td></tr><tr><td>31</td><td>June</td><td>yellowfin tuna</td><td>2023</td><td>36.38</td></tr><tr><td>32</td><td>June</td><td>wahoo</td><td>2023</td><td>0.00</td></tr><tr><td>33</td><td>June</td><td>white shark</td><td>2023</td><td>0.00</td></tr><tr><td>34</td><td>June</td><td>porbeagle shark</td><td>2023</td><td>0.00</td></tr><tr><td>35</td><td>June</td><td>sandbar shark</td><td>2023</td><td>0.00</td></tr><tr><td>36</td><td>June</td><td>dusky shark</td><td>2023</td><td>0.00</td></tr><tr><td>37</td><td>June</td><td>tiger shark</td><td>2023</td><td>0.00</td></tr><tr><td>38</td><td>June</td><td>blue shark</td><td>2023</td><td>0.00</td></tr><tr><td>39</td><td>June</td><td>hammerhead sharks</td><td>2023</td><td>0.00</td></tr><tr><td>40</td><td>June</td><td>blackfin tuna</td><td>2023</td><td>0.00</td></tr><tr><td>41</td><td>June</td><td>greater amberjack</td><td>2023</td><td>0.00</td></tr><tr><td>42</td><td>June</td><td>Atlantic bonito</td><td>2023</td><td>0.00</td></tr><tr><td>43</td><td>June</td><td>dolphin</td><td>2023</td><td>0.00</td></tr><tr><td>44</td><td>June</td><td>king mackerel</td><td>2023</td><td>0.00</td></tr><tr><td>45</td><td>June</td><td>white marlin</td><td>2023</td><td>0.00</td></tr><tr><td>46</td><td>June</td><td>blue marlin</td><td>2023</td><td>0.00</td></tr><tr><td>47</td><td>June</td><td>sailfish</td><td>2023</td><td>0.00</td></tr><tr><td>48</td><td>June</td><td>sand tiger</td><td>2023</td><td>0.00</td></tr><tr><td>49</td><td>June</td><td>thresher sharks</td><td>2023</td><td>0.00</td></tr><tr><td>50</td><td>June</td><td>bigeye thresher</td><td>2023</td><td>0.00</td></tr><tr><td>51</td><td>June</td><td>shortfin mako</td><td>2023</td><td>0.00</td></tr><tr><td>52</td><td>June</td><td>mako sharks</td><td>2023</td><td>0.00</td></tr><tr><td>53</td><td>June</td><td>longfin mako</td><td>2023</td><td>0.00</td></tr><tr><td>54</td><td>June</td><td>Spanish mackerel</td><td>2023</td><td>0.00</td></tr><tr><td>55</td><td>June</td><td>swordfish</td><td>2023</td><td>0.00</td></tr><tr><td>56</td><td>June</td><td>blue tilefish</td><td>2023</td><td>0.00</td></tr><tr><td>57</td><td>June</td><td>sand tilefish</td><td>2023</td><td>0.00</td></tr><tr><td>58</td><td>June</td><td>golden tilefish</td><td>2023</td><td>0.00</td></tr><tr><td>59</td><td>June</td><td>unclassified tilefish</td><td>2023</td><td>0.00</td></tr><tr><td>60</td><td>June</td><td>skipjack tuna</td><td>2023</td><td>0.00</td></tr><tr><td>61</td><td>June</td><td>bluefin tuna - UNC</td><td>2023</td><td>0.00</td></tr><tr><td>62</td><td>June</td><td>bluefin tuna - large</td><td>2023</td><td>0.00</td></tr><tr><td>63</td><td>June</td><td>bluefin tuna - young school</td><td>2023</td><td>0.00</td></tr><tr><td>64</td><td>June</td><td>bluefin tuna - small medium</td><td>2023</td><td>0.00</td></tr><tr><td>65</td><td>June</td><td>bluefin tuna - school</td><td>2023</td><td>0.00</td></tr><tr><td>66</td><td>June</td><td>bluefin tuna - large school</td><td>2023</td><td>0.00</td></tr><tr><td>67</td><td>June</td><td>bluefin tuna - large medium</td><td>2023</td><td>0.00</td></tr><tr><td>68</td><td>June</td><td>little tunny</td><td>2023</td><td>0.00</td></tr><tr><td>69</td><td>June</td><td>bigeye tuna</td><td>2023</td><td>0.00</td></tr><tr><td>70</td><td>June</td><td>albacore</td><td>2023</td><td>0.00</td></tr><tr><td>71</td><td>June</td><td>yellowfin tuna</td><td>2023</td><td>0.00</td></tr><tr><td>72</td><td>June</td><td>wahoo</td><td>2023</td><td>0.58</td></tr><tr><td>73</td><td>June</td><td>white shark</td><td>2023</td><td>0.00</td></tr><tr><td>74</td><td>June</td><td>porbeagle shark</td><td>2023</td><td>0.00</td></tr><tr><td>75</td><td>June</td><td>sandbar shark</td><td>2023</td><td>0.00</td></tr><tr><td>76</td><td>June</td><td>dusky shark</td><td>2023</td><td>0.00</td></tr><tr><td>77</td><td>June</td><td>tiger shark</td><td>2023</td><td>0.00</td></tr><tr><td>78</td><td>June</td><td>blue shark</td><td>2023</td><td>0.00</td></tr><tr><td>79</td><td>June</td><td>hammerhead sharks</td><td>2023</td><td>0.00</td></tr><tr><td>80</td><td>June</td><td>blackfin tuna</td><td>2023</td><td>0.00</td></tr><tr><td>81</td><td>June</td><td>greater amberjack</td><td>2023</td><td>0.00</td></tr><tr><td>82</td><td>June</td><td>Atlantic bonito</td><td>2023</td><td>0.00</td></tr><tr><td>83</td><td>June</td><td>dolphin</td><td>2023</td><td>0.00</td></tr><tr><td>84</td><td>June</td><td>king mackerel</td><td>2023</td><td>0.00</td></tr><tr><td>85</td><td>June</td><td>white marlin</td><td>2023</td><td>0.00</td></tr><tr><td>86</td><td>June</td><td>blue marlin</td><td>2023</td><td>0.00</td></tr><tr><td>87</td><td>June</td><td>sailfish</td><td>2023</td><td>0.00</td></tr><tr><td>88</td><td>June</td><td>sand tiger</td><td>2023</td><td>0.00</td></tr><tr><td>89</td><td>June</td><td>thresher sharks</td><td>2023</td><td>0.00</td></tr><tr><td>90</td><td>June</td><td>bigeye thresher</td><td>2023</td><td>0.00</td></tr><tr><td>91</td><td>June</td><td>shortfin mako</td><td>2023</td><td>0.00</td></tr><tr><td>92</td><td>June</td><td>mako sharks</td><td>2023</td><td>0.00</td></tr><tr><td>93</td><td>June</td><td>longfin mako</td><td>2023</td><td>0.00</td></tr><tr><td>94</td><td>June</td><td>Spanish mackerel</td><td>2023</td><td>0.00</td></tr><tr><td>95</td><td>June</td><td>swordfish</td><td>2023</td><td>0.00</td></tr><tr><td>96</td><td>June</td><td>blue tilefish</td><td>2023</td><td>0.00</td></tr><tr><td>97</td><td>June</td><td>sand tilefish</td><td>2023</td><td>0.00</td></tr><tr><td>98</td><td>June</td><td>golden tilefish</td><td>2023</td><td>0.00</td></tr><tr><td>99</td><td>June</td><td>unclassified tilefish</td><td>2023</td><td>0.00</td></tr><tr><td>100</td><td>June</td><td>skipjack tuna</td><td>2023</td><td>0.00</td></tr><tr><td>101</td><td>June</td><td>bluefin tuna - UNC</td><td>2023</td><td>0.00</td></tr><tr><td>102</td><td>June</td><td>bluefin tuna - large</td><td>2023</td><td>0.00</td></tr><tr><td>103</td><td>June</td><td>bluefin tuna - young school</td><td>2023</td><td>0.00</td></tr><tr><td>104</td><td>June</td><td>bluefin tuna - small medium</td><td>2023</td><td>0.00</td></tr><tr><td>105</td><td>June</td><td>bluefin tuna - school</td><td>2023</td><td>0.00</td></tr><tr><td>106</td><td>June</td><td>bluefin tuna - large school</td><td>2023</td><td>0.00</td></tr><tr><td>107</td><td>June</td><td>bluefin tuna - large medium</td><td>2023</td><td>0.00</td></tr><tr><td>108</td><td>June</td><td>little tunny</td><td>2023</td><td>0.00</td></tr><tr><td>109</td><td>June</td><td>bigeye tuna</td><td>2023</td><td>13.10</td></tr><tr><td>110</td><td>June</td><td>albacore</td><td>2023</td><td>0.00</td></tr><tr><td>111</td><td>June</td><td>yellowfin tuna</td><td>2023</td><td>0.00</td></tr><tr><td>112</td><td>June</td><td>wahoo</td><td>2023</td><td>0.00</td></tr><tr><td>113</td><td>June</td><td>white shark</td><td>2023</td><td>0.00</td></tr><tr><td>114</td><td>June</td><td>porbeagle shark</td><td>2023</td><td>0.00</td></tr><tr><td>115</td><td>June</td><td>sandbar shark</td><td>2023</td><td>0.00</td></tr><tr><td>116</td><td>June</td><td>dusky shark</td><td>2023</td><td>0.00</td></tr><tr><td>117</td><td>June</td><td>tiger shark</td><td>2023</td><td>0.00</td></tr><tr><td>118</td><td>June</td><td>blue shark</td><td>2023</td><td>0.00</td></tr><tr><td>119</td><td>June</td><td>hammerhead sharks</td><td>2023</td><td>0.00</td></tr><tr><td>120</td><td>June</td><td>blackfin tuna</td><td>2023</td><td>0.00</td></tr><tr><td>121</td><td>June</td><td>greater amberjack</td><td>2023</td><td>0.00</td></tr><tr><td>122</td><td>June</td><td>Atlantic bonito</td><td>2023</td><td>0.00</td></tr><tr><td>123</td><td>June</td><td>dolphin</td><td>2023</td><td>0.00</td></tr><tr><td>124</td><td>June</td><td>king mackerel</td><td>2023</td><td>0.00</td></tr><tr><td>125</td><td>June</td><td>white marlin</td><td>2023</td><td>0.00</td></tr><tr><td>126</td><td>June</td><td>blue marlin</td><td>2023</td><td>0.00</td></tr><tr><td>127</td><td>June</td><td>sailfish</td><td>2023</td><td>0.00</td></tr><tr><td>128</td><td>June</td><td>sand tiger</td><td>2023</td><td>0.00</td></tr><tr><td>129</td><td>June</td><td>thresher sharks</td><td>2023</td><td>0.00</td></tr><tr><td>130</td><td>June</td><td>bigeye thresher</td><td>2023</td><td>0.00</td></tr><tr><td>131</td><td>June</td><td>shortfin mako</td><td>2023</td><td>0.00</td></tr><tr><td>132</td><td>June</td><td>mako sharks</td><td>2023</td><td>0.00</td></tr><tr><td>133</td><td>June</td><td>longfin mako</td><td>2023</td><td>0.00</td></tr><tr><td>134</td><td>June</td><td>Spanish mackerel</td><td>2023</td><td>0.00</td></tr><tr><td>135</td><td>June</td><td>swordfish</td><td>2023</td><td>0.00</td></tr><tr><td>136</td><td>June</td><td>blue tilefish</td><td>2023</td><td>0.00</td></tr><tr><td>137</td><td>June</td><td>sand tilefish</td><td>2023</td><td>0.00</td></tr><tr><td>138</td><td>June</td><td>golden tilefish</td><td>2023</td><td>0.00</td></tr><tr><td>139</td><td>June</td><td>unclassified tilefish</td><td>2023</td><td>0.00</td></tr><tr><td>140</td><td>June</td><td>skipjack tuna</td><td>2023</td><td>0.00</td></tr><tr><td>141</td><td>June</td><td>bluefin tuna - UNC</td><td>2023</td><td>0.00</td></tr><tr><td>142</td><td>June</td><td>bluefin tuna - large</td><td>2023</td><td>0.00</td></tr><tr><td>143</td><td>June</td><td>bluefin tuna - young school</td><td>2023</td><td>0.00</td></tr><tr><td>144</td><td>June</td><td>bluefin tuna - small medium</td><td>2023</td><td>0.00</td></tr><tr><td>145</td><td>June</td><td>bluefin tuna - school</td><td>2023</td><td>0.00</td></tr><tr><td>146</td><td>June</td><td>bluefin tuna - large school</td><td>2023</td><td>0.00</td></tr><tr><td>147</td><td>June</td><td>bluefin tuna - large medium</td><td>2023</td><td>0.00</td></tr><tr><td>148</td><td>June</td><td>little tunny</td><td>2023</td><td>0.00</td></tr><tr><td>149</td><td>June</td><td>bigeye tuna</td><td>2023</td><td>0.00</td></tr><tr><td>150</td><td>June</td><td>albacore</td><td>2023</td><td>0.00</td></tr><tr><td>151</td><td>June</td><td>yellowfin tuna</td><td>2023</td><td>6.43</td></tr><tr><td>152</td><td>June</td><td>wahoo</td><td>2023</td><td>0.00</td></tr><tr><td>153</td><td>June</td><td>white shark</td><td>2023</td><td>0.00</td></tr><tr><td>154</td><td>June</td><td>porbeagle shark</td><td>2023</td><td>0.00</td></tr><tr><td>155</td><td>June</td><td>sandbar shark</td><td>2023</td><td>0.00</td></tr><tr><td>156</td><td>June</td><td>dusky shark</td><td>2023</td><td>0.00</td></tr><tr><td>157</td><td>June</td><td>tiger shark</td><td>2023</td><td>0.00</td></tr><tr><td>158</td><td>June</td><td>blue shark</td><td>2023</td><td>0.00</td></tr><tr><td>159</td><td>June</td><td>hammerhead sharks</td><td>2023</td><td>0.00</td></tr><tr><td>160</td><td>June</td><td>blackfin tuna</td><td>2023</td><td>0.00</td></tr><tr><td>161</td><td>June</td><td>greater amberjack</td><td>2023</td><td>0.00</td></tr><tr><td>162</td><td>June</td><td>Atlantic bonito</td><td>2023</td><td>0.00</td></tr><tr><td>163</td><td>June</td><td>dolphin</td><td>2023</td><td>0.00</td></tr><tr><td>164</td><td>June</td><td>king mackerel</td><td>2023</td><td>0.00</td></tr><tr><td>165</td><td>June</td><td>white marlin</td><td>2023</td><td>0.00</td></tr><tr><td>166</td><td>June</td><td>blue marlin</td><td>2023</td><td>0.00</td></tr><tr><td>167</td><td>June</td><td>sailfish</td><td>2023</td><td>0.00</td></tr><tr><td>168</td><td>June</td><td>sand tiger</td><td>2023</td><td>0.00</td></tr><tr><td>169</td><td>June</td><td>thresher sharks</td><td>2023</td><td>0.00</td></tr><tr><td>170</td><td>June</td><td>bigeye thresher</td><td>2023</td><td>0.00</td></tr><tr><td>171</td><td>June</td><td>shortfin mako</td><td>2023</td><td>0.00</td></tr><tr><td>172</td><td>June</td><td>mako sharks</td><td>2023</td><td>0.00</td></tr><tr><td>173</td><td>June</td><td>longfin mako</td><td>2023</td><td>0.00</td></tr><tr><td>174</td><td>June</td><td>Spanish mackerel</td><td>2023</td><td>0.00</td></tr><tr><td>175</td><td>June</td><td>swordfish</td><td>2023</td><td>0.00</td></tr><tr><td>176</td><td>June</td><td>blue tilefish</td><td>2023</td><td>0.00</td></tr><tr><td>177</td><td>June</td><td>sand tilefish</td><td>2023</td><td>0.00</td></tr><tr><td>178</td><td>June</td><td>golden tilefish</td><td>2023</td><td>0.00</td></tr><tr><td>179</td><td>June</td><td>unclassified tilefish</td><td>2023</td><td>0.00</td></tr><tr><td>180</td><td>June</td><td>skipjack tuna</td><td>2023</td><td>0.00</td></tr><tr><td>181</td><td>June</td><td>bluefin tuna - UNC</td><td>2023</td><td>0.00</td></tr><tr><td>182</td><td>June</td><td>bluefin tuna - large</td><td>2023</td><td>0.00</td></tr><tr><td>183</td><td>June</td><td>bluefin tuna - young school</td><td>2023</td><td>0.00</td></tr><tr><td>184</td><td>June</td><td>bluefin tuna - small medium</td><td>2023</td><td>0.00</td></tr><tr><td>185</td><td>June</td><td>bluefin tuna - school</td><td>2023</td><td>0.00</td></tr><tr><td>186</td><td>June</td><td>bluefin tuna - large school</td><td>2023</td><td>0.00</td></tr><tr><td>187</td><td>June</td><td>bluefin tuna - large medium</td><td>2023</td><td>0.00</td></tr><tr><td>188</td><td>June</td><td>little tunny</td><td>2023</td><td>0.00</td></tr><tr><td>189</td><td>June</td><td>bigeye tuna</td><td>2023</td><td>0.00</td></tr><tr><td>190</td><td>June</td><td>albacore</td><td>2023</td><td>0.00</td></tr><tr><td>191</td><td>June</td><td>yellowfin tuna</td><td>2023</td><td>0.00</td></tr><tr><td>192</td><td>June</td><td>wahoo</td><td>2023</td><td>0.00</td></tr><tr><td>193</td><td>June</td><td>white shark</td><td>2023</td><td>0.00</td></tr><tr><td>194</td><td>June</td><td>porbeagle shark</td><td>2023</td><td>0.00</td></tr><tr><td>195</td><td>June</td><td>sandbar shark</td><td>2023</td><td>0.00</td></tr><tr><td>196</td><td>June</td><td>dusky shark</td><td>2023</td><td>0.00</td></tr><tr><td>197</td><td>June</td><td>tiger shark</td><td>2023</td><td>0.00</td></tr><tr><td>198</td><td>June</td><td>blue shark</td><td>2023</td><td>0.00</td></tr><tr><td>199</td><td>June</td><td>hammerhead sharks</td><td>2023</td><td>0.00</td></tr><tr><td>200</td><td>June</td><td>blackfin tuna</td><td>2023</td><td>0.00</td></tr><tr><td>201</td><td>June</td><td>greater amberjack</td><td>2023</td><td>0.00</td></tr><tr><td>202</td><td>June</td><td>Atlantic bonito</td><td>2023</td><td>0.00</td></tr><tr><td>203</td><td>June</td><td>dolphin</td><td>2023</td><td>10.84</td></tr><tr><td>204</td><td>June</td><td>king mackerel</td><td>2023</td><td>0.00</td></tr><tr><td>205</td><td>June</td><td>white marlin</td><td>2023</td><td>0.00</td></tr><tr><td>206</td><td>June</td><td>blue marlin</td><td>2023</td><td>0.00</td></tr><tr><td>207</td><td>June</td><td>sailfish</td><td>2023</td><td>0.00</td></tr><tr><td>208</td><td>June</td><td>sand tiger</td><td>2023</td><td>0.00</td></tr><tr><td>209</td><td>June</td><td>thresher sharks</td><td>2023</td><td>0.00</td></tr><tr><td>210</td><td>June</td><td>bigeye thresher</td><td>2023</td><td>0.00</td></tr><tr><td>211</td><td>June</td><td>shortfin mako</td><td>2023</td><td>0.00</td></tr><tr><td>212</td><td>June</td><td>mako sharks</td><td>2023</td><td>0.00</td></tr><tr><td>213</td><td>June</td><td>longfin mako</td><td>2023</td><td>0.00</td></tr><tr><td>214</td><td>June</td><td>Spanish mackerel</td><td>2023</td><td>0.00</td></tr><tr><td>215</td><td>June</td><td>swordfish</td><td>2023</td><td>0.00</td></tr><tr><td>216</td><td>June</td><td>blue tilefish</td><td>2023</td><td>0.00</td></tr><tr><td>217</td><td>June</td><td>sand tilefish</td><td>2023</td><td>0.00</td></tr><tr><td>218</td><td>June</td><td>golden tilefish</td><td>2023</td><td>0.00</td></tr><tr><td>219</td><td>June</td><td>unclassified tilefish</td><td>2023</td><td>0.00</td></tr><tr><td>220</td><td>June</td><td>skipjack tuna</td><td>2023</td><td>0.00</td></tr><tr><td>221</td><td>June</td><td>bluefin tuna - UNC</td><td>2023</td><td>0.00</td></tr><tr><td>222</td><td>June</td><td>bluefin tuna - large</td><td>2023</td><td>0.00</td></tr><tr><td>223</td><td>June</td><td>bluefin tuna - young school</td><td>2023</td><td>0.00</td></tr><tr><td>224</td><td>June</td><td>bluefin tuna - small medium</td><td>2023</td><td>0.00</td></tr><tr><td>225</td><td>June</td><td>bluefin tuna - school</td><td>2023</td><td>0.00</td></tr><tr><td>226</td><td>June</td><td>bluefin tuna - large school</td><td>2023</td><td>0.00</td></tr><tr><td>227</td><td>June</td><td>bluefin tuna - large medium</td><td>2023</td><td>0.00</td></tr><tr><td>228</td><td>June</td><td>little tunny</td><td>2023</td><td>0.00</td></tr><tr><td>229</td><td>June</td><td>bigeye tuna</td><td>2023</td><td>0.00</td></tr><tr><td>230</td><td>June</td><td>albacore</td><td>2023</td><td>0.00</td></tr><tr><td>231</td><td>June</td><td>yellowfin tuna</td><td>2023</td><td>75.90</td></tr><tr><td>232</td><td>June</td><td>wahoo</td><td>2023</td><td>0.00</td></tr><tr><td>233</td><td>June</td><td>white shark</td><td>2023</td><td>0.00</td></tr><tr><td>234</td><td>June</td><td>porbeagle shark</td><td>2023</td><td>0.00</td></tr><tr><td>235</td><td>June</td><td>sandbar shark</td><td>2023</td><td>0.00</td></tr><tr><td>236</td><td>June</td><td>dusky shark</td><td>2023</td><td>0.00</td></tr><tr><td>237</td><td>June</td><td>tiger shark</td><td>2023</td><td>0.00</td></tr><tr><td>238</td><td>June</td><td>blue shark</td><td>2023</td><td>0.00</td></tr><tr><td>239</td><td>June</td><td>hammerhead sharks</td><td>2023</td><td>0.00</td></tr><tr><td>240</td><td>June</td><td>blackfin tuna</td><td>2023</td><td>0.00</td></tr><tr><td>241</td><td>June</td><td>greater amberjack</td><td>2023</td><td>0.00</td></tr><tr><td>242</td><td>June</td><td>Atlantic bonito</td><td>2023</td><td>0.00</td></tr><tr><td>243</td><td>June</td><td>dolphin</td><td>2023</td><td>0.00</td></tr><tr><td>244</td><td>June</td><td>king mackerel</td><td>2023</td><td>0.00</td></tr><tr><td>245</td><td>June</td><td>white marlin</td><td>2023</td><td>0.00</td></tr><tr><td>246</td><td>June</td><td>blue marlin</td><td>2023</td><td>0.00</td></tr><tr><td>247</td><td>June</td><td>sailfish</td><td>2023</td><td>0.00</td></tr><tr><td>248</td><td>June</td><td>sand tiger</td><td>2023</td><td>0.00</td></tr><tr><td>249</td><td>June</td><td>thresher sharks</td><td>2023</td><td>0.00</td></tr><tr><td>250</td><td>June</td><td>bigeye thresher</td><td>2023</td><td>0.00</td></tr><tr><td>251</td><td>June</td><td>shortfin mako</td><td>2023</td><td>0.00</td></tr><tr><td>252</td><td>June</td><td>mako sharks</td><td>2023</td><td>0.00</td></tr><tr><td>253</td><td>June</td><td>longfin mako</td><td>2023</td><td>0.00</td></tr><tr><td>254</td><td>June</td><td>Spanish mackerel</td><td>2023</td><td>0.00</td></tr><tr><td>255</td><td>June</td><td>swordfish</td><td>2023</td><td>0.00</td></tr><tr><td>256</td><td>June</td><td>blue tilefish</td><td>2023</td><td>0.00</td></tr><tr><td>257</td><td>June</td><td>sand tilefish</td><td>2023</td><td>0.00</td></tr><tr><td>258</td><td>June</td><td>golden tilefish</td><td>2023</td><td>0.00</td></tr><tr><td>259</td><td>June</td><td>unclassified tilefish</td><td>2023</td><td>0.00</td></tr><tr><td>260</td><td>June</td><td>skipjack tuna</td><td>2023</td><td>0.00</td></tr><tr><td>261</td><td>June</td><td>bluefin tuna - UNC</td><td>2023</td><td>0.00</td></tr><tr><td>262</td><td>June</td><td>bluefin tuna - large</td><td>2023</td><td>0.00</td></tr><tr><td>263</td><td>June</td><td>bluefin tuna - young school</td><td>2023</td><td>0.00</td></tr><tr><td>264</td><td>June</td><td>bluefin tuna - small medium</td><td>2023</td><td>0.00</td></tr><tr><td>265</td><td>June</td><td>bluefin tuna - school</td><td>2023</td><td>0.00</td></tr><tr><td>266</td><td>June</td><td>bluefin tuna - large school</td><td>2023</td><td>0.00</td></tr><tr><td>267</td><td>June</td><td>bluefin tuna - large medium</td><td>2023</td><td>0.00</td></tr><tr><td>268</td><td>June</td><td>little tunny</td><td>2023</td><td>0.00</td></tr><tr><td>269</td><td>June</td><td>bigeye tuna</td><td>2023</td><td>0.00</td></tr><tr><td>270</td><td>June</td><td>albacore</td><td>2023</td><td>0.00</td></tr><tr><td>271</td><td>June</td><td>yellowfin tuna</td><td>2023</td><td>341.24</td></tr><tr><td>272</td><td>June</td><td>wahoo</td><td>2023</td><td>0.00</td></tr><tr><td>273</td><td>June</td><td>white shark</td><td>2023</td><td>0.00</td></tr><tr><td>274</td><td>June</td><td>porbeagle shark</td><td>2023</td><td>0.00</td></tr><tr><td>275</td><td>June</td><td>sandbar shark</td><td>2023</td><td>0.00</td></tr><tr><td>276</td><td>June</td><td>dusky shark</td><td>2023</td><td>0.00</td></tr><tr><td>277</td><td>June</td><td>tiger shark</td><td>2023</td><td>0.00</td></tr><tr><td>278</td><td>June</td><td>blue shark</td><td>2023</td><td>0.00</td></tr><tr><td>279</td><td>June</td><td>hammerhead sharks</td><td>2023</td><td>0.00</td></tr><tr><td>280</td><td>June</td><td>blackfin tuna</td><td>2023</td><td>0.00</td></tr><tr><td>281</td><td>June</td><td>greater amberjack</td><td>2023</td><td>0.00</td></tr><tr><td>282</td><td>June</td><td>Atlantic bonito</td><td>2023</td><td>0.00</td></tr><tr><td>283</td><td>June</td><td>dolphin</td><td>2023</td><td>0.00</td></tr><tr><td>284</td><td>June</td><td>king mackerel</td><td>2023</td><td>0.00</td></tr><tr><td>285</td><td>June</td><td>white marlin</td><td>2023</td><td>0.00</td></tr><tr><td>286</td><td>June</td><td>blue marlin</td><td>2023</td><td>0.00</td></tr><tr><td>287</td><td>June</td><td>sailfish</td><td>2023</td><td>0.00</td></tr><tr><td>288</td><td>June</td><td>sand tiger</td><td>2023</td><td>0.00</td></tr><tr><td>289</td><td>June</td><td>thresher sharks</td><td>2023</td><td>0.00</td></tr><tr><td>290</td><td>June</td><td>bigeye thresher</td><td>2023</td><td>0.00</td></tr><tr><td>291</td><td>June</td><td>shortfin mako</td><td>2023</td><td>0.00</td></tr><tr><td>292</td><td>June</td><td>mako sharks</td><td>2023</td><td>0.00</td></tr><tr><td>293</td><td>June</td><td>longfin mako</td><td>2023</td><td>0.00</td></tr><tr><td>294</td><td>June</td><td>Spanish mackerel</td><td>2023</td><td>0.00</td></tr><tr><td>295</td><td>June</td><td>swordfish</td><td>2023</td><td>0.00</td></tr><tr><td>296</td><td>June</td><td>blue tilefish</td><td>2023</td><td>0.00</td></tr><tr><td>297</td><td>June</td><td>sand tilefish</td><td>2023</td><td>0.00</td></tr><tr><td>298</td><td>June</td><td>golden tilefish</td><td>2023</td><td>0.00</td></tr><tr><td>299</td><td>June</td><td>unclassified tilefish</td><td>2023</td><td>0.00</td></tr><tr><td>300</td><td>June</td><td>skipjack tuna</td><td>2023</td><td>0.00</td></tr><tr><td>301</td><td>June</td><td>bluefin tuna - UNC</td><td>2023</td><td>0.00</td></tr><tr><td>302</td><td>June</td><td>bluefin tuna - large</td><td>2023</td><td>0.00</td></tr><tr><td>303</td><td>June</td><td>bluefin tuna - young school</td><td>2023</td><td>0.00</td></tr><tr><td>304</td><td>June</td><td>bluefin tuna - small medium</td><td>2023</td><td>0.00</td></tr><tr><td>305</td><td>June</td><td>bluefin tuna - school</td><td>2023</td><td>0.00</td></tr><tr><td>306</td><td>June</td><td>bluefin tuna - large school</td><td>2023</td><td>0.00</td></tr><tr><td>307</td><td>June</td><td>bluefin tuna - large medium</td><td>2023</td><td>0.00</td></tr><tr><td>308</td><td>June</td><td>little tunny</td><td>2023</td><td>0.00</td></tr><tr><td>309</td><td>June</td><td>bigeye tuna</td><td>2023</td><td>0.00</td></tr><tr><td>310</td><td>June</td><td>albacore</td><td>2023</td><td>0.00</td></tr><tr><td>311</td><td>June</td><td>yellowfin tuna</td><td>2023</td><td>0.00</td></tr><tr><td>312</td><td>June</td><td>wahoo</td><td>2023</td><td>0.00</td></tr><tr><td>313</td><td>June</td><td>white shark</td><td>2023</td><td>0.00</td></tr><tr><td>314</td><td>June</td><td>porbeagle shark</td><td>2023</td><td>0.00</td></tr><tr><td>315</td><td>June</td><td>sandbar shark</td><td>2023</td><td>0.00</td></tr><tr><td>316</td><td>June</td><td>dusky shark</td><td>2023</td><td>0.00</td></tr><tr><td>317</td><td>June</td><td>tiger shark</td><td>2023</td><td>0.00</td></tr><tr><td>318</td><td>June</td><td>blue shark</td><td>2023</td><td>0.00</td></tr><tr><td>319</td><td>June</td><td>hammerhead sharks</td><td>2023</td><td>0.00</td></tr><tr><td>320</td><td>June</td><td>blackfin tuna</td><td>2023</td><td>0.00</td></tr><tr><td>321</td><td>June</td><td>greater amberjack</td><td>2023</td><td>0.00</td></tr><tr><td>322</td><td>June</td><td>Atlantic bonito</td><td>2023</td><td>0.00</td></tr><tr><td>323</td><td>June</td><td>dolphin</td><td>2023</td><td>0.00</td></tr><tr><td>324</td><td>June</td><td>king mackerel</td><td>2023</td><td>0.00</td></tr><tr><td>325</td><td>June</td><td>white marlin</td><td>2023</td><td>0.00</td></tr><tr><td>326</td><td>June</td><td>blue marlin</td><td>2023</td><td>0.00</td></tr><tr><td>327</td><td>June</td><td>sailfish</td><td>2023</td><td>0.00</td></tr><tr><td>328</td><td>June</td><td>sand tiger</td><td>2023</td><td>0.00</td></tr><tr><td>329</td><td>June</td><td>thresher sharks</td><td>2023</td><td>0.00</td></tr><tr><td>330</td><td>June</td><td>bigeye thresher</td><td>2023</td><td>0.00</td></tr><tr><td>331</td><td>June</td><td>shortfin mako</td><td>2023</td><td>0.00</td></tr><tr><td>332</td><td>June</td><td>mako sharks</td><td>2023</td><td>0.00</td></tr><tr><td>333</td><td>June</td><td>longfin mako</td><td>2023</td><td>0.00</td></tr><tr><td>334</td><td>June</td><td>Spanish mackerel</td><td>2023</td><td>0.00</td></tr><tr><td>335</td><td>June</td><td>swordfish</td><td>2023</td><td>0.00</td></tr><tr><td>336</td><td>June</td><td>blue tilefish</td><td>2023</td><td>0.00</td></tr><tr><td>337</td><td>June</td><td>sand tilefish</td><td>2023</td><td>0.00</td></tr><tr><td>338</td><td>June</td><td>golden tilefish</td><td>2023</td><td>0.00</td></tr><tr><td>339</td><td>June</td><td>unclassified tilefish</td><td>2023</td><td>0.00</td></tr><tr><td>340</td><td>June</td><td>skipjack tuna</td><td>2023</td><td>0.00</td></tr><tr><td>341</td><td>June</td><td>bluefin tuna - UNC</td><td>2023</td><td>0.00</td></tr><tr><td>342</td><td>June</td><td>bluefin tuna - large</td><td>2023</td><td>0.00</td></tr><tr><td>343</td><td>June</td><td>bluefin tuna - young school</td><td>2023</td><td>0.00</td></tr><tr><td>344</td><td>June</td><td>bluefin tuna - small medium</td><td>2023</td><td>0.00</td></tr><tr><td>345</td><td>June</td><td>bluefin tuna - school</td><td>2023</td><td>0.00</td></tr><tr><td>346</td><td>June</td><td>bluefin tuna - large school</td><td>2023</td><td>0.00</td></tr><tr><td>347</td><td>June</td><td>bluefin tuna - large medium</td><td>2023</td><td>0.00</td></tr><tr><td>348</td><td>June</td><td>little tunny</td><td>2023</td><td>0.00</td></tr><tr><td>349</td><td>June</td><td>bigeye tuna</td><td>2023</td><td>0.00</td></tr><tr><td>350</td><td>June</td><td>albacore</td><td>2023</td><td>0.00</td></tr><tr><td>351</td><td>June</td><td>yellowfin tuna</td><td>2023</td><td>0.00</td></tr><tr><td>352</td><td>June</td><td>wahoo</td><td>2023</td><td>0.00</td></tr><tr><td>353</td><td>June</td><td>white shark</td><td>2023</td><td>0.00</td></tr><tr><td>354</td><td>June</td><td>porbeagle shark</td><td>2023</td><td>0.00</td></tr><tr><td>355</td><td>June</td><td>sandbar shark</td><td>2023</td><td>0.00</td></tr><tr><td>356</td><td>June</td><td>dusky shark</td><td>2023</td><td>0.00</td></tr><tr><td>357</td><td>June</td><td>tiger shark</td><td>2023</td><td>0.00</td></tr><tr><td>358</td><td>June</td><td>blue shark</td><td>2023</td><td>0.00</td></tr><tr><td>359</td><td>June</td><td>hammerhead sharks</td><td>2023</td><td>0.00</td></tr><tr><td>360</td><td>June</td><td>blackfin tuna</td><td>2023</td><td>0.00</td></tr><tr><td>361</td><td>June</td><td>greater amberjack</td><td>2023</td><td>0.00</td></tr><tr><td>362</td><td>June</td><td>Atlantic bonito</td><td>2023</td><td>0.00</td></tr><tr><td>363</td><td>June</td><td>dolphin</td><td>2023</td><td>0.00</td></tr><tr><td>364</td><td>June</td><td>king mackerel</td><td>2023</td><td>0.00</td></tr><tr><td>365</td><td>June</td><td>white marlin</td><td>2023</td><td>0.00</td></tr><tr><td>366</td><td>June</td><td>blue marlin</td><td>2023</td><td>0.00</td></tr><tr><td>367</td><td>June</td><td>sailfish</td><td>2023</td><td>0.00</td></tr><tr><td>368</td><td>June</td><td>sand tiger</td><td>2023</td><td>0.00</td></tr><tr><td>369</td><td>June</td><td>thresher sharks</td><td>2023</td><td>0.00</td></tr><tr><td>370</td><td>June</td><td>bigeye thresher</td><td>2023</td><td>0.00</td></tr><tr><td>371</td><td>June</td><td>shortfin mako</td><td>2023</td><td>0.00</td></tr><tr><td>372</td><td>June</td><td>mako sharks</td><td>2023</td><td>0.00</td></tr><tr><td>373</td><td>June</td><td>longfin mako</td><td>2023</td><td>0.00</td></tr><tr><td>374</td><td>June</td><td>Spanish mackerel</td><td>2023</td><td>0.00</td></tr><tr><td>375</td><td>June</td><td>swordfish</td><td>2023</td><td>0.00</td></tr><tr><td>376</td><td>June</td><td>blue tilefish</td><td>2023</td><td>0.00</td></tr><tr><td>377</td><td>June</td><td>sand tilefish</td><td>2023</td><td>0.00</td></tr><tr><td>378</td><td>June</td><td>golden tilefish</td><td>2023</td><td>0.00</td></tr><tr><td>379</td><td>June</td><td>unclassified tilefish</td><td>2023</td><td>0.00</td></tr><tr><td>380</td><td>June</td><td>skipjack tuna</td><td>2023</td><td>0.00</td></tr><tr><td>381</td><td>June</td><td>bluefin tuna - UNC</td><td>2023</td><td>0.00</td></tr><tr><td>382</td><td>June</td><td>bluefin tuna - large</td><td>2023</td><td>0.00</td></tr><tr><td>383</td><td>June</td><td>bluefin tuna - young school</td><td>2023</td><td>0.00</td></tr><tr><td>384</td><td>June</td><td>bluefin tuna - small medium</td><td>2023</td><td>0.00</td></tr><tr><td>385</td><td>June</td><td>bluefin tuna - school</td><td>2023</td><td>0.00</td></tr><tr><td>386</td><td>June</td><td>bluefin tuna - large school</td><td>2023</td><td>0.00</td></tr><tr><td>387</td><td>June</td><td>bluefin tuna - large medium</td><td>2023</td><td>0.00</td></tr><tr><td>388</td><td>June</td><td>little tunny</td><td>2023</td><td>0.00</td></tr><tr><td>389</td><td>June</td><td>bigeye tuna</td><td>2023</td><td>0.00</td></tr><tr><td>390</td><td>June</td><td>albacore</td><td>2023</td><td>0.00</td></tr><tr><td>391</td><td>June</td><td>yellowfin tuna</td><td>2023</td><td>0.00</td></tr><tr><td>392</td><td>June</td><td>wahoo</td><td>2023</td><td>0.00</td></tr><tr><td>393</td><td>June</td><td>white shark</td><td>2023</td><td>0.00</td></tr><tr><td>394</td><td>June</td><td>porbeagle shark</td><td>2023</td><td>0.00</td></tr><tr><td>395</td><td>June</td><td>sandbar shark</td><td>2023</td><td>0.00</td></tr><tr><td>396</td><td>June</td><td>dusky shark</td><td>2023</td><td>0.00</td></tr><tr><td>397</td><td>June</td><td>tiger shark</td><td>2023</td><td>0.00</td></tr><tr><td>398</td><td>June</td><td>blue shark</td><td>2023</td><td>0.00</td></tr><tr><td>399</td><td>June</td><td>hammerhead sharks</td><td>2023</td><td>0.00</td></tr><tr><td>400</td><td>June</td><td>blackfin tuna</td><td>2023</td><td>0.00</td></tr><tr><td>401</td><td>June</td><td>greater amberjack</td><td>2023</td><td>0.00</td></tr><tr><td>402</td><td>June</td><td>Atlantic bonito</td><td>2023</td><td>0.00</td></tr><tr><td>403</td><td>June</td><td>dolphin</td><td>2023</td><td>0.00</td></tr><tr><td>404</td><td>June</td><td>king mackerel</td><td>2023</td><td>0.00</td></tr><tr><td>405</td><td>June</td><td>white marlin</td><td>2023</td><td>0.00</td></tr><tr><td>406</td><td>June</td><td>blue marlin</td><td>2023</td><td>0.00</td></tr><tr><td>407</td><td>June</td><td>sailfish</td><td>2023</td><td>0.00</td></tr><tr><td>408</td><td>June</td><td>sand tiger</td><td>2023</td><td>0.00</td></tr><tr><td>409</td><td>June</td><td>thresher sharks</td><td>2023</td><td>0.00</td></tr><tr><td>410</td><td>June</td><td>bigeye thresher</td><td>2023</td><td>0.00</td></tr><tr><td>411</td><td>June</td><td>shortfin mako</td><td>2023</td><td>0.00</td></tr><tr><td>412</td><td>June</td><td>mako sharks</td><td>2023</td><td>0.00</td></tr><tr><td>413</td><td>June</td><td>longfin mako</td><td>2023</td><td>0.00</td></tr><tr><td>414</td><td>June</td><td>Spanish mackerel</td><td>2023</td><td>0.00</td></tr><tr><td>415</td><td>June</td><td>swordfish</td><td>2023</td><td>0.00</td></tr><tr><td>416</td><td>June</td><td>blue tilefish</td><td>2023</td><td>0.00</td></tr><tr><td>417</td><td>June</td><td>sand tilefish</td><td>2023</td><td>0.00</td></tr><tr><td>418</td><td>June</td><td>golden tilefish</td><td>2023</td><td>0.00</td></tr><tr><td>419</td><td>June</td><td>unclassified tilefish</td><td>2023</td><td>0.00</td></tr><tr><td>420</td><td>June</td><td>skipjack tuna</td><td>2023</td><td>0.00</td></tr><tr><td>421</td><td>June</td><td>bluefin tuna - UNC</td><td>2023</td><td>0.00</td></tr><tr><td>422</td><td>June</td><td>bluefin tuna - large</td><td>2023</td><td>0.00</td></tr><tr><td>423</td><td>June</td><td>bluefin tuna - young school</td><td>2023</td><td>0.00</td></tr><tr><td>424</td><td>June</td><td>bluefin tuna - small medium</td><td>2023</td><td>0.00</td></tr><tr><td>425</td><td>June</td><td>bluefin tuna - school</td><td>2023</td><td>0.00</td></tr><tr><td>426</td><td>June</td><td>bluefin tuna - large school</td><td>2023</td><td>0.00</td></tr><tr><td>427</td><td>June</td><td>bluefin tuna - large medium</td><td>2023</td><td>0.00</td></tr><tr><td>428</td><td>June</td><td>little tunny</td><td>2023</td><td>0.00</td></tr><tr><td>429</td><td>June</td><td>bigeye tuna</td><td>2023</td><td>0.00</td></tr><tr><td>430</td><td>June</td><td>albacore</td><td>2023</td><td>0.00</td></tr><tr><td>431</td><td>June</td><td>yellowfin tuna</td><td>2023</td><td>0.00</td></tr><tr><td>432</td><td>June</td><td>wahoo</td><td>2023</td><td>0.00</td></tr><tr><td>433</td><td>June</td><td>white shark</td><td>2023</td><td>0.00</td></tr><tr><td>434</td><td>June</td><td>porbeagle shark</td><td>2023</td><td>0.00</td></tr><tr><td>435</td><td>June</td><td>sandbar shark</td><td>2023</td><td>0.00</td></tr><tr><td>436</td><td>June</td><td>dusky shark</td><td>2023</td><td>0.00</td></tr><tr><td>437</td><td>June</td><td>tiger shark</td><td>2023</td><td>0.00</td></tr><tr><td>438</td><td>June</td><td>blue shark</td><td>2023</td><td>0.00</td></tr><tr><td>439</td><td>June</td><td>hammerhead sharks</td><td>2023</td><td>0.00</td></tr><tr><td>440</td><td>June</td><td>blackfin tuna</td><td>2023</td><td>0.00</td></tr><tr><td>441</td><td>June</td><td>greater amberjack</td><td>2023</td><td>0.00</td></tr><tr><td>442</td><td>June</td><td>Atlantic bonito</td><td>2023</td><td>0.00</td></tr><tr><td>443</td><td>June</td><td>dolphin</td><td>2023</td><td>0.00</td></tr><tr><td>444</td><td>June</td><td>king mackerel</td><td>2023</td><td>0.00</td></tr><tr><td>445</td><td>June</td><td>white marlin</td><td>2023</td><td>0.00</td></tr><tr><td>446</td><td>June</td><td>blue marlin</td><td>2023</td><td>0.00</td></tr><tr><td>447</td><td>June</td><td>sailfish</td><td>2023</td><td>0.00</td></tr><tr><td>448</td><td>June</td><td>sand tiger</td><td>2023</td><td>0.00</td></tr><tr><td>449</td><td>June</td><td>thresher sharks</td><td>2023</td><td>0.00</td></tr><tr><td>450</td><td>June</td><td>bigeye thresher</td><td>2023</td><td>0.00</td></tr><tr><td>451</td><td>June</td><td>shortfin mako</td><td>2023</td><td>0.00</td></tr><tr><td>452</td><td>June</td><td>mako sharks</td><td>2023</td><td>0.00</td></tr><tr><td>453</td><td>June</td><td>longfin mako</td><td>2023</td><td>0.00</td></tr><tr><td>454</td><td>June</td><td>Spanish mackerel</td><td>2023</td><td>0.00</td></tr><tr><td>455</td><td>June</td><td>swordfish</td><td>2023</td><td>0.00</td></tr><tr><td>456</td><td>June</td><td>blue tilefish</td><td>2023</td><td>0.00</td></tr><tr><td>457</td><td>June</td><td>sand tilefish</td><td>2023</td><td>0.00</td></tr><tr><td>458</td><td>June</td><td>golden tilefish</td><td>2023</td><td>0.00</td></tr><tr><td>459</td><td>June</td><td>unclassified tilefish</td><td>2023</td><td>0.00</td></tr><tr><td>460</td><td>June</td><td>skipjack tuna</td><td>2023</td><td>0.00</td></tr><tr><td>461</td><td>June</td><td>bluefin tuna - UNC</td><td>2023</td><td>0.00</td></tr><tr><td>462</td><td>June</td><td>bluefin tuna - large</td><td>2023</td><td>0.00</td></tr><tr><td>463</td><td>June</td><td>bluefin tuna - young school</td><td>2023</td><td>0.00</td></tr><tr><td>464</td><td>June</td><td>bluefin tuna - small medium</td><td>2023</td><td>0.00</td></tr><tr><td>465</td><td>June</td><td>bluefin tuna - school</td><td>2023</td><td>0.00</td></tr><tr><td>466</td><td>June</td><td>bluefin tuna - large school</td><td>2023</td><td>18.64</td></tr><tr><td>467</td><td>June</td><td>bluefin tuna - large medium</td><td>2023</td><td>0.00</td></tr><tr><td>468</td><td>June</td><td>little tunny</td><td>2023</td><td>0.00</td></tr><tr><td>469</td><td>June</td><td>bigeye tuna</td><td>2023</td><td>0.00</td></tr><tr><td>470</td><td>June</td><td>albacore</td><td>2023</td><td>0.00</td></tr><tr><td>471</td><td>June</td><td>yellowfin tuna</td><td>2023</td><td>0.00</td></tr><tr><td>472</td><td>June</td><td>wahoo</td><td>2023</td><td>0.00</td></tr><tr><td>473</td><td>June</td><td>white shark</td><td>2023</td><td>0.00</td></tr><tr><td>474</td><td>June</td><td>porbeagle shark</td><td>2023</td><td>0.00</td></tr><tr><td>475</td><td>June</td><td>sandbar shark</td><td>2023</td><td>0.00</td></tr><tr><td>476</td><td>June</td><td>dusky shark</td><td>2023</td><td>0.00</td></tr><tr><td>477</td><td>June</td><td>tiger shark</td><td>2023</td><td>0.00</td></tr><tr><td>478</td><td>June</td><td>blue shark</td><td>2023</td><td>0.00</td></tr><tr><td>479</td><td>June</td><td>hammerhead sharks</td><td>2023</td><td>0.00</td></tr><tr><td>480</td><td>June</td><td>blackfin tuna</td><td>2023</td><td>0.00</td></tr></tbody></table></div>"
      ]
     },
     "metadata": {
      "application/vnd.databricks.v1+output": {
       "addedWidgets": {},
       "aggData": [],
       "aggError": "",
       "aggOverflow": false,
       "aggSchema": [],
       "aggSeriesLimitReached": false,
       "aggType": "",
       "arguments": {},
       "columnCustomDisplayInfos": {},
       "data": [
        [
         1,
         "June",
         "greater amberjack",
         2023,
         "0.00"
        ],
        [
         2,
         "June",
         "Atlantic bonito",
         2023,
         "0.00"
        ],
        [
         3,
         "June",
         "dolphin",
         2023,
         "5.60"
        ],
        [
         4,
         "June",
         "king mackerel",
         2023,
         "0.00"
        ],
        [
         5,
         "June",
         "white marlin",
         2023,
         "0.00"
        ],
        [
         6,
         "June",
         "blue marlin",
         2023,
         "0.00"
        ],
        [
         7,
         "June",
         "sailfish",
         2023,
         "0.00"
        ],
        [
         8,
         "June",
         "sand tiger",
         2023,
         "0.00"
        ],
        [
         9,
         "June",
         "thresher sharks",
         2023,
         "0.00"
        ],
        [
         10,
         "June",
         "bigeye thresher",
         2023,
         "0.00"
        ],
        [
         11,
         "June",
         "shortfin mako",
         2023,
         "0.00"
        ],
        [
         12,
         "June",
         "mako sharks",
         2023,
         "0.00"
        ],
        [
         13,
         "June",
         "longfin mako",
         2023,
         "0.00"
        ],
        [
         14,
         "June",
         "Spanish mackerel",
         2023,
         "0.00"
        ],
        [
         15,
         "June",
         "swordfish",
         2023,
         "0.00"
        ],
        [
         16,
         "June",
         "blue tilefish",
         2023,
         "0.00"
        ],
        [
         17,
         "June",
         "sand tilefish",
         2023,
         "0.00"
        ],
        [
         18,
         "June",
         "golden tilefish",
         2023,
         "0.00"
        ],
        [
         19,
         "June",
         "unclassified tilefish",
         2023,
         "0.00"
        ],
        [
         20,
         "June",
         "skipjack tuna",
         2023,
         "2.80"
        ],
        [
         21,
         "June",
         "bluefin tuna - UNC",
         2023,
         "0.00"
        ],
        [
         22,
         "June",
         "bluefin tuna - large",
         2023,
         "0.00"
        ],
        [
         23,
         "June",
         "bluefin tuna - young school",
         2023,
         "0.00"
        ],
        [
         24,
         "June",
         "bluefin tuna - small medium",
         2023,
         "0.00"
        ],
        [
         25,
         "June",
         "bluefin tuna - school",
         2023,
         "0.00"
        ],
        [
         26,
         "June",
         "bluefin tuna - large school",
         2023,
         "0.00"
        ],
        [
         27,
         "June",
         "bluefin tuna - large medium",
         2023,
         "0.00"
        ],
        [
         28,
         "June",
         "little tunny",
         2023,
         "2.80"
        ],
        [
         29,
         "June",
         "bigeye tuna",
         2023,
         "0.00"
        ],
        [
         30,
         "June",
         "albacore",
         2023,
         "0.00"
        ],
        [
         31,
         "June",
         "yellowfin tuna",
         2023,
         "36.38"
        ],
        [
         32,
         "June",
         "wahoo",
         2023,
         "0.00"
        ],
        [
         33,
         "June",
         "white shark",
         2023,
         "0.00"
        ],
        [
         34,
         "June",
         "porbeagle shark",
         2023,
         "0.00"
        ],
        [
         35,
         "June",
         "sandbar shark",
         2023,
         "0.00"
        ],
        [
         36,
         "June",
         "dusky shark",
         2023,
         "0.00"
        ],
        [
         37,
         "June",
         "tiger shark",
         2023,
         "0.00"
        ],
        [
         38,
         "June",
         "blue shark",
         2023,
         "0.00"
        ],
        [
         39,
         "June",
         "hammerhead sharks",
         2023,
         "0.00"
        ],
        [
         40,
         "June",
         "blackfin tuna",
         2023,
         "0.00"
        ],
        [
         41,
         "June",
         "greater amberjack",
         2023,
         "0.00"
        ],
        [
         42,
         "June",
         "Atlantic bonito",
         2023,
         "0.00"
        ],
        [
         43,
         "June",
         "dolphin",
         2023,
         "0.00"
        ],
        [
         44,
         "June",
         "king mackerel",
         2023,
         "0.00"
        ],
        [
         45,
         "June",
         "white marlin",
         2023,
         "0.00"
        ],
        [
         46,
         "June",
         "blue marlin",
         2023,
         "0.00"
        ],
        [
         47,
         "June",
         "sailfish",
         2023,
         "0.00"
        ],
        [
         48,
         "June",
         "sand tiger",
         2023,
         "0.00"
        ],
        [
         49,
         "June",
         "thresher sharks",
         2023,
         "0.00"
        ],
        [
         50,
         "June",
         "bigeye thresher",
         2023,
         "0.00"
        ],
        [
         51,
         "June",
         "shortfin mako",
         2023,
         "0.00"
        ],
        [
         52,
         "June",
         "mako sharks",
         2023,
         "0.00"
        ],
        [
         53,
         "June",
         "longfin mako",
         2023,
         "0.00"
        ],
        [
         54,
         "June",
         "Spanish mackerel",
         2023,
         "0.00"
        ],
        [
         55,
         "June",
         "swordfish",
         2023,
         "0.00"
        ],
        [
         56,
         "June",
         "blue tilefish",
         2023,
         "0.00"
        ],
        [
         57,
         "June",
         "sand tilefish",
         2023,
         "0.00"
        ],
        [
         58,
         "June",
         "golden tilefish",
         2023,
         "0.00"
        ],
        [
         59,
         "June",
         "unclassified tilefish",
         2023,
         "0.00"
        ],
        [
         60,
         "June",
         "skipjack tuna",
         2023,
         "0.00"
        ],
        [
         61,
         "June",
         "bluefin tuna - UNC",
         2023,
         "0.00"
        ],
        [
         62,
         "June",
         "bluefin tuna - large",
         2023,
         "0.00"
        ],
        [
         63,
         "June",
         "bluefin tuna - young school",
         2023,
         "0.00"
        ],
        [
         64,
         "June",
         "bluefin tuna - small medium",
         2023,
         "0.00"
        ],
        [
         65,
         "June",
         "bluefin tuna - school",
         2023,
         "0.00"
        ],
        [
         66,
         "June",
         "bluefin tuna - large school",
         2023,
         "0.00"
        ],
        [
         67,
         "June",
         "bluefin tuna - large medium",
         2023,
         "0.00"
        ],
        [
         68,
         "June",
         "little tunny",
         2023,
         "0.00"
        ],
        [
         69,
         "June",
         "bigeye tuna",
         2023,
         "0.00"
        ],
        [
         70,
         "June",
         "albacore",
         2023,
         "0.00"
        ],
        [
         71,
         "June",
         "yellowfin tuna",
         2023,
         "0.00"
        ],
        [
         72,
         "June",
         "wahoo",
         2023,
         "0.58"
        ],
        [
         73,
         "June",
         "white shark",
         2023,
         "0.00"
        ],
        [
         74,
         "June",
         "porbeagle shark",
         2023,
         "0.00"
        ],
        [
         75,
         "June",
         "sandbar shark",
         2023,
         "0.00"
        ],
        [
         76,
         "June",
         "dusky shark",
         2023,
         "0.00"
        ],
        [
         77,
         "June",
         "tiger shark",
         2023,
         "0.00"
        ],
        [
         78,
         "June",
         "blue shark",
         2023,
         "0.00"
        ],
        [
         79,
         "June",
         "hammerhead sharks",
         2023,
         "0.00"
        ],
        [
         80,
         "June",
         "blackfin tuna",
         2023,
         "0.00"
        ],
        [
         81,
         "June",
         "greater amberjack",
         2023,
         "0.00"
        ],
        [
         82,
         "June",
         "Atlantic bonito",
         2023,
         "0.00"
        ],
        [
         83,
         "June",
         "dolphin",
         2023,
         "0.00"
        ],
        [
         84,
         "June",
         "king mackerel",
         2023,
         "0.00"
        ],
        [
         85,
         "June",
         "white marlin",
         2023,
         "0.00"
        ],
        [
         86,
         "June",
         "blue marlin",
         2023,
         "0.00"
        ],
        [
         87,
         "June",
         "sailfish",
         2023,
         "0.00"
        ],
        [
         88,
         "June",
         "sand tiger",
         2023,
         "0.00"
        ],
        [
         89,
         "June",
         "thresher sharks",
         2023,
         "0.00"
        ],
        [
         90,
         "June",
         "bigeye thresher",
         2023,
         "0.00"
        ],
        [
         91,
         "June",
         "shortfin mako",
         2023,
         "0.00"
        ],
        [
         92,
         "June",
         "mako sharks",
         2023,
         "0.00"
        ],
        [
         93,
         "June",
         "longfin mako",
         2023,
         "0.00"
        ],
        [
         94,
         "June",
         "Spanish mackerel",
         2023,
         "0.00"
        ],
        [
         95,
         "June",
         "swordfish",
         2023,
         "0.00"
        ],
        [
         96,
         "June",
         "blue tilefish",
         2023,
         "0.00"
        ],
        [
         97,
         "June",
         "sand tilefish",
         2023,
         "0.00"
        ],
        [
         98,
         "June",
         "golden tilefish",
         2023,
         "0.00"
        ],
        [
         99,
         "June",
         "unclassified tilefish",
         2023,
         "0.00"
        ],
        [
         100,
         "June",
         "skipjack tuna",
         2023,
         "0.00"
        ],
        [
         101,
         "June",
         "bluefin tuna - UNC",
         2023,
         "0.00"
        ],
        [
         102,
         "June",
         "bluefin tuna - large",
         2023,
         "0.00"
        ],
        [
         103,
         "June",
         "bluefin tuna - young school",
         2023,
         "0.00"
        ],
        [
         104,
         "June",
         "bluefin tuna - small medium",
         2023,
         "0.00"
        ],
        [
         105,
         "June",
         "bluefin tuna - school",
         2023,
         "0.00"
        ],
        [
         106,
         "June",
         "bluefin tuna - large school",
         2023,
         "0.00"
        ],
        [
         107,
         "June",
         "bluefin tuna - large medium",
         2023,
         "0.00"
        ],
        [
         108,
         "June",
         "little tunny",
         2023,
         "0.00"
        ],
        [
         109,
         "June",
         "bigeye tuna",
         2023,
         "13.10"
        ],
        [
         110,
         "June",
         "albacore",
         2023,
         "0.00"
        ],
        [
         111,
         "June",
         "yellowfin tuna",
         2023,
         "0.00"
        ],
        [
         112,
         "June",
         "wahoo",
         2023,
         "0.00"
        ],
        [
         113,
         "June",
         "white shark",
         2023,
         "0.00"
        ],
        [
         114,
         "June",
         "porbeagle shark",
         2023,
         "0.00"
        ],
        [
         115,
         "June",
         "sandbar shark",
         2023,
         "0.00"
        ],
        [
         116,
         "June",
         "dusky shark",
         2023,
         "0.00"
        ],
        [
         117,
         "June",
         "tiger shark",
         2023,
         "0.00"
        ],
        [
         118,
         "June",
         "blue shark",
         2023,
         "0.00"
        ],
        [
         119,
         "June",
         "hammerhead sharks",
         2023,
         "0.00"
        ],
        [
         120,
         "June",
         "blackfin tuna",
         2023,
         "0.00"
        ],
        [
         121,
         "June",
         "greater amberjack",
         2023,
         "0.00"
        ],
        [
         122,
         "June",
         "Atlantic bonito",
         2023,
         "0.00"
        ],
        [
         123,
         "June",
         "dolphin",
         2023,
         "0.00"
        ],
        [
         124,
         "June",
         "king mackerel",
         2023,
         "0.00"
        ],
        [
         125,
         "June",
         "white marlin",
         2023,
         "0.00"
        ],
        [
         126,
         "June",
         "blue marlin",
         2023,
         "0.00"
        ],
        [
         127,
         "June",
         "sailfish",
         2023,
         "0.00"
        ],
        [
         128,
         "June",
         "sand tiger",
         2023,
         "0.00"
        ],
        [
         129,
         "June",
         "thresher sharks",
         2023,
         "0.00"
        ],
        [
         130,
         "June",
         "bigeye thresher",
         2023,
         "0.00"
        ],
        [
         131,
         "June",
         "shortfin mako",
         2023,
         "0.00"
        ],
        [
         132,
         "June",
         "mako sharks",
         2023,
         "0.00"
        ],
        [
         133,
         "June",
         "longfin mako",
         2023,
         "0.00"
        ],
        [
         134,
         "June",
         "Spanish mackerel",
         2023,
         "0.00"
        ],
        [
         135,
         "June",
         "swordfish",
         2023,
         "0.00"
        ],
        [
         136,
         "June",
         "blue tilefish",
         2023,
         "0.00"
        ],
        [
         137,
         "June",
         "sand tilefish",
         2023,
         "0.00"
        ],
        [
         138,
         "June",
         "golden tilefish",
         2023,
         "0.00"
        ],
        [
         139,
         "June",
         "unclassified tilefish",
         2023,
         "0.00"
        ],
        [
         140,
         "June",
         "skipjack tuna",
         2023,
         "0.00"
        ],
        [
         141,
         "June",
         "bluefin tuna - UNC",
         2023,
         "0.00"
        ],
        [
         142,
         "June",
         "bluefin tuna - large",
         2023,
         "0.00"
        ],
        [
         143,
         "June",
         "bluefin tuna - young school",
         2023,
         "0.00"
        ],
        [
         144,
         "June",
         "bluefin tuna - small medium",
         2023,
         "0.00"
        ],
        [
         145,
         "June",
         "bluefin tuna - school",
         2023,
         "0.00"
        ],
        [
         146,
         "June",
         "bluefin tuna - large school",
         2023,
         "0.00"
        ],
        [
         147,
         "June",
         "bluefin tuna - large medium",
         2023,
         "0.00"
        ],
        [
         148,
         "June",
         "little tunny",
         2023,
         "0.00"
        ],
        [
         149,
         "June",
         "bigeye tuna",
         2023,
         "0.00"
        ],
        [
         150,
         "June",
         "albacore",
         2023,
         "0.00"
        ],
        [
         151,
         "June",
         "yellowfin tuna",
         2023,
         "6.43"
        ],
        [
         152,
         "June",
         "wahoo",
         2023,
         "0.00"
        ],
        [
         153,
         "June",
         "white shark",
         2023,
         "0.00"
        ],
        [
         154,
         "June",
         "porbeagle shark",
         2023,
         "0.00"
        ],
        [
         155,
         "June",
         "sandbar shark",
         2023,
         "0.00"
        ],
        [
         156,
         "June",
         "dusky shark",
         2023,
         "0.00"
        ],
        [
         157,
         "June",
         "tiger shark",
         2023,
         "0.00"
        ],
        [
         158,
         "June",
         "blue shark",
         2023,
         "0.00"
        ],
        [
         159,
         "June",
         "hammerhead sharks",
         2023,
         "0.00"
        ],
        [
         160,
         "June",
         "blackfin tuna",
         2023,
         "0.00"
        ],
        [
         161,
         "June",
         "greater amberjack",
         2023,
         "0.00"
        ],
        [
         162,
         "June",
         "Atlantic bonito",
         2023,
         "0.00"
        ],
        [
         163,
         "June",
         "dolphin",
         2023,
         "0.00"
        ],
        [
         164,
         "June",
         "king mackerel",
         2023,
         "0.00"
        ],
        [
         165,
         "June",
         "white marlin",
         2023,
         "0.00"
        ],
        [
         166,
         "June",
         "blue marlin",
         2023,
         "0.00"
        ],
        [
         167,
         "June",
         "sailfish",
         2023,
         "0.00"
        ],
        [
         168,
         "June",
         "sand tiger",
         2023,
         "0.00"
        ],
        [
         169,
         "June",
         "thresher sharks",
         2023,
         "0.00"
        ],
        [
         170,
         "June",
         "bigeye thresher",
         2023,
         "0.00"
        ],
        [
         171,
         "June",
         "shortfin mako",
         2023,
         "0.00"
        ],
        [
         172,
         "June",
         "mako sharks",
         2023,
         "0.00"
        ],
        [
         173,
         "June",
         "longfin mako",
         2023,
         "0.00"
        ],
        [
         174,
         "June",
         "Spanish mackerel",
         2023,
         "0.00"
        ],
        [
         175,
         "June",
         "swordfish",
         2023,
         "0.00"
        ],
        [
         176,
         "June",
         "blue tilefish",
         2023,
         "0.00"
        ],
        [
         177,
         "June",
         "sand tilefish",
         2023,
         "0.00"
        ],
        [
         178,
         "June",
         "golden tilefish",
         2023,
         "0.00"
        ],
        [
         179,
         "June",
         "unclassified tilefish",
         2023,
         "0.00"
        ],
        [
         180,
         "June",
         "skipjack tuna",
         2023,
         "0.00"
        ],
        [
         181,
         "June",
         "bluefin tuna - UNC",
         2023,
         "0.00"
        ],
        [
         182,
         "June",
         "bluefin tuna - large",
         2023,
         "0.00"
        ],
        [
         183,
         "June",
         "bluefin tuna - young school",
         2023,
         "0.00"
        ],
        [
         184,
         "June",
         "bluefin tuna - small medium",
         2023,
         "0.00"
        ],
        [
         185,
         "June",
         "bluefin tuna - school",
         2023,
         "0.00"
        ],
        [
         186,
         "June",
         "bluefin tuna - large school",
         2023,
         "0.00"
        ],
        [
         187,
         "June",
         "bluefin tuna - large medium",
         2023,
         "0.00"
        ],
        [
         188,
         "June",
         "little tunny",
         2023,
         "0.00"
        ],
        [
         189,
         "June",
         "bigeye tuna",
         2023,
         "0.00"
        ],
        [
         190,
         "June",
         "albacore",
         2023,
         "0.00"
        ],
        [
         191,
         "June",
         "yellowfin tuna",
         2023,
         "0.00"
        ],
        [
         192,
         "June",
         "wahoo",
         2023,
         "0.00"
        ],
        [
         193,
         "June",
         "white shark",
         2023,
         "0.00"
        ],
        [
         194,
         "June",
         "porbeagle shark",
         2023,
         "0.00"
        ],
        [
         195,
         "June",
         "sandbar shark",
         2023,
         "0.00"
        ],
        [
         196,
         "June",
         "dusky shark",
         2023,
         "0.00"
        ],
        [
         197,
         "June",
         "tiger shark",
         2023,
         "0.00"
        ],
        [
         198,
         "June",
         "blue shark",
         2023,
         "0.00"
        ],
        [
         199,
         "June",
         "hammerhead sharks",
         2023,
         "0.00"
        ],
        [
         200,
         "June",
         "blackfin tuna",
         2023,
         "0.00"
        ],
        [
         201,
         "June",
         "greater amberjack",
         2023,
         "0.00"
        ],
        [
         202,
         "June",
         "Atlantic bonito",
         2023,
         "0.00"
        ],
        [
         203,
         "June",
         "dolphin",
         2023,
         "10.84"
        ],
        [
         204,
         "June",
         "king mackerel",
         2023,
         "0.00"
        ],
        [
         205,
         "June",
         "white marlin",
         2023,
         "0.00"
        ],
        [
         206,
         "June",
         "blue marlin",
         2023,
         "0.00"
        ],
        [
         207,
         "June",
         "sailfish",
         2023,
         "0.00"
        ],
        [
         208,
         "June",
         "sand tiger",
         2023,
         "0.00"
        ],
        [
         209,
         "June",
         "thresher sharks",
         2023,
         "0.00"
        ],
        [
         210,
         "June",
         "bigeye thresher",
         2023,
         "0.00"
        ],
        [
         211,
         "June",
         "shortfin mako",
         2023,
         "0.00"
        ],
        [
         212,
         "June",
         "mako sharks",
         2023,
         "0.00"
        ],
        [
         213,
         "June",
         "longfin mako",
         2023,
         "0.00"
        ],
        [
         214,
         "June",
         "Spanish mackerel",
         2023,
         "0.00"
        ],
        [
         215,
         "June",
         "swordfish",
         2023,
         "0.00"
        ],
        [
         216,
         "June",
         "blue tilefish",
         2023,
         "0.00"
        ],
        [
         217,
         "June",
         "sand tilefish",
         2023,
         "0.00"
        ],
        [
         218,
         "June",
         "golden tilefish",
         2023,
         "0.00"
        ],
        [
         219,
         "June",
         "unclassified tilefish",
         2023,
         "0.00"
        ],
        [
         220,
         "June",
         "skipjack tuna",
         2023,
         "0.00"
        ],
        [
         221,
         "June",
         "bluefin tuna - UNC",
         2023,
         "0.00"
        ],
        [
         222,
         "June",
         "bluefin tuna - large",
         2023,
         "0.00"
        ],
        [
         223,
         "June",
         "bluefin tuna - young school",
         2023,
         "0.00"
        ],
        [
         224,
         "June",
         "bluefin tuna - small medium",
         2023,
         "0.00"
        ],
        [
         225,
         "June",
         "bluefin tuna - school",
         2023,
         "0.00"
        ],
        [
         226,
         "June",
         "bluefin tuna - large school",
         2023,
         "0.00"
        ],
        [
         227,
         "June",
         "bluefin tuna - large medium",
         2023,
         "0.00"
        ],
        [
         228,
         "June",
         "little tunny",
         2023,
         "0.00"
        ],
        [
         229,
         "June",
         "bigeye tuna",
         2023,
         "0.00"
        ],
        [
         230,
         "June",
         "albacore",
         2023,
         "0.00"
        ],
        [
         231,
         "June",
         "yellowfin tuna",
         2023,
         "75.90"
        ],
        [
         232,
         "June",
         "wahoo",
         2023,
         "0.00"
        ],
        [
         233,
         "June",
         "white shark",
         2023,
         "0.00"
        ],
        [
         234,
         "June",
         "porbeagle shark",
         2023,
         "0.00"
        ],
        [
         235,
         "June",
         "sandbar shark",
         2023,
         "0.00"
        ],
        [
         236,
         "June",
         "dusky shark",
         2023,
         "0.00"
        ],
        [
         237,
         "June",
         "tiger shark",
         2023,
         "0.00"
        ],
        [
         238,
         "June",
         "blue shark",
         2023,
         "0.00"
        ],
        [
         239,
         "June",
         "hammerhead sharks",
         2023,
         "0.00"
        ],
        [
         240,
         "June",
         "blackfin tuna",
         2023,
         "0.00"
        ],
        [
         241,
         "June",
         "greater amberjack",
         2023,
         "0.00"
        ],
        [
         242,
         "June",
         "Atlantic bonito",
         2023,
         "0.00"
        ],
        [
         243,
         "June",
         "dolphin",
         2023,
         "0.00"
        ],
        [
         244,
         "June",
         "king mackerel",
         2023,
         "0.00"
        ],
        [
         245,
         "June",
         "white marlin",
         2023,
         "0.00"
        ],
        [
         246,
         "June",
         "blue marlin",
         2023,
         "0.00"
        ],
        [
         247,
         "June",
         "sailfish",
         2023,
         "0.00"
        ],
        [
         248,
         "June",
         "sand tiger",
         2023,
         "0.00"
        ],
        [
         249,
         "June",
         "thresher sharks",
         2023,
         "0.00"
        ],
        [
         250,
         "June",
         "bigeye thresher",
         2023,
         "0.00"
        ],
        [
         251,
         "June",
         "shortfin mako",
         2023,
         "0.00"
        ],
        [
         252,
         "June",
         "mako sharks",
         2023,
         "0.00"
        ],
        [
         253,
         "June",
         "longfin mako",
         2023,
         "0.00"
        ],
        [
         254,
         "June",
         "Spanish mackerel",
         2023,
         "0.00"
        ],
        [
         255,
         "June",
         "swordfish",
         2023,
         "0.00"
        ],
        [
         256,
         "June",
         "blue tilefish",
         2023,
         "0.00"
        ],
        [
         257,
         "June",
         "sand tilefish",
         2023,
         "0.00"
        ],
        [
         258,
         "June",
         "golden tilefish",
         2023,
         "0.00"
        ],
        [
         259,
         "June",
         "unclassified tilefish",
         2023,
         "0.00"
        ],
        [
         260,
         "June",
         "skipjack tuna",
         2023,
         "0.00"
        ],
        [
         261,
         "June",
         "bluefin tuna - UNC",
         2023,
         "0.00"
        ],
        [
         262,
         "June",
         "bluefin tuna - large",
         2023,
         "0.00"
        ],
        [
         263,
         "June",
         "bluefin tuna - young school",
         2023,
         "0.00"
        ],
        [
         264,
         "June",
         "bluefin tuna - small medium",
         2023,
         "0.00"
        ],
        [
         265,
         "June",
         "bluefin tuna - school",
         2023,
         "0.00"
        ],
        [
         266,
         "June",
         "bluefin tuna - large school",
         2023,
         "0.00"
        ],
        [
         267,
         "June",
         "bluefin tuna - large medium",
         2023,
         "0.00"
        ],
        [
         268,
         "June",
         "little tunny",
         2023,
         "0.00"
        ],
        [
         269,
         "June",
         "bigeye tuna",
         2023,
         "0.00"
        ],
        [
         270,
         "June",
         "albacore",
         2023,
         "0.00"
        ],
        [
         271,
         "June",
         "yellowfin tuna",
         2023,
         "341.24"
        ],
        [
         272,
         "June",
         "wahoo",
         2023,
         "0.00"
        ],
        [
         273,
         "June",
         "white shark",
         2023,
         "0.00"
        ],
        [
         274,
         "June",
         "porbeagle shark",
         2023,
         "0.00"
        ],
        [
         275,
         "June",
         "sandbar shark",
         2023,
         "0.00"
        ],
        [
         276,
         "June",
         "dusky shark",
         2023,
         "0.00"
        ],
        [
         277,
         "June",
         "tiger shark",
         2023,
         "0.00"
        ],
        [
         278,
         "June",
         "blue shark",
         2023,
         "0.00"
        ],
        [
         279,
         "June",
         "hammerhead sharks",
         2023,
         "0.00"
        ],
        [
         280,
         "June",
         "blackfin tuna",
         2023,
         "0.00"
        ],
        [
         281,
         "June",
         "greater amberjack",
         2023,
         "0.00"
        ],
        [
         282,
         "June",
         "Atlantic bonito",
         2023,
         "0.00"
        ],
        [
         283,
         "June",
         "dolphin",
         2023,
         "0.00"
        ],
        [
         284,
         "June",
         "king mackerel",
         2023,
         "0.00"
        ],
        [
         285,
         "June",
         "white marlin",
         2023,
         "0.00"
        ],
        [
         286,
         "June",
         "blue marlin",
         2023,
         "0.00"
        ],
        [
         287,
         "June",
         "sailfish",
         2023,
         "0.00"
        ],
        [
         288,
         "June",
         "sand tiger",
         2023,
         "0.00"
        ],
        [
         289,
         "June",
         "thresher sharks",
         2023,
         "0.00"
        ],
        [
         290,
         "June",
         "bigeye thresher",
         2023,
         "0.00"
        ],
        [
         291,
         "June",
         "shortfin mako",
         2023,
         "0.00"
        ],
        [
         292,
         "June",
         "mako sharks",
         2023,
         "0.00"
        ],
        [
         293,
         "June",
         "longfin mako",
         2023,
         "0.00"
        ],
        [
         294,
         "June",
         "Spanish mackerel",
         2023,
         "0.00"
        ],
        [
         295,
         "June",
         "swordfish",
         2023,
         "0.00"
        ],
        [
         296,
         "June",
         "blue tilefish",
         2023,
         "0.00"
        ],
        [
         297,
         "June",
         "sand tilefish",
         2023,
         "0.00"
        ],
        [
         298,
         "June",
         "golden tilefish",
         2023,
         "0.00"
        ],
        [
         299,
         "June",
         "unclassified tilefish",
         2023,
         "0.00"
        ],
        [
         300,
         "June",
         "skipjack tuna",
         2023,
         "0.00"
        ],
        [
         301,
         "June",
         "bluefin tuna - UNC",
         2023,
         "0.00"
        ],
        [
         302,
         "June",
         "bluefin tuna - large",
         2023,
         "0.00"
        ],
        [
         303,
         "June",
         "bluefin tuna - young school",
         2023,
         "0.00"
        ],
        [
         304,
         "June",
         "bluefin tuna - small medium",
         2023,
         "0.00"
        ],
        [
         305,
         "June",
         "bluefin tuna - school",
         2023,
         "0.00"
        ],
        [
         306,
         "June",
         "bluefin tuna - large school",
         2023,
         "0.00"
        ],
        [
         307,
         "June",
         "bluefin tuna - large medium",
         2023,
         "0.00"
        ],
        [
         308,
         "June",
         "little tunny",
         2023,
         "0.00"
        ],
        [
         309,
         "June",
         "bigeye tuna",
         2023,
         "0.00"
        ],
        [
         310,
         "June",
         "albacore",
         2023,
         "0.00"
        ],
        [
         311,
         "June",
         "yellowfin tuna",
         2023,
         "0.00"
        ],
        [
         312,
         "June",
         "wahoo",
         2023,
         "0.00"
        ],
        [
         313,
         "June",
         "white shark",
         2023,
         "0.00"
        ],
        [
         314,
         "June",
         "porbeagle shark",
         2023,
         "0.00"
        ],
        [
         315,
         "June",
         "sandbar shark",
         2023,
         "0.00"
        ],
        [
         316,
         "June",
         "dusky shark",
         2023,
         "0.00"
        ],
        [
         317,
         "June",
         "tiger shark",
         2023,
         "0.00"
        ],
        [
         318,
         "June",
         "blue shark",
         2023,
         "0.00"
        ],
        [
         319,
         "June",
         "hammerhead sharks",
         2023,
         "0.00"
        ],
        [
         320,
         "June",
         "blackfin tuna",
         2023,
         "0.00"
        ],
        [
         321,
         "June",
         "greater amberjack",
         2023,
         "0.00"
        ],
        [
         322,
         "June",
         "Atlantic bonito",
         2023,
         "0.00"
        ],
        [
         323,
         "June",
         "dolphin",
         2023,
         "0.00"
        ],
        [
         324,
         "June",
         "king mackerel",
         2023,
         "0.00"
        ],
        [
         325,
         "June",
         "white marlin",
         2023,
         "0.00"
        ],
        [
         326,
         "June",
         "blue marlin",
         2023,
         "0.00"
        ],
        [
         327,
         "June",
         "sailfish",
         2023,
         "0.00"
        ],
        [
         328,
         "June",
         "sand tiger",
         2023,
         "0.00"
        ],
        [
         329,
         "June",
         "thresher sharks",
         2023,
         "0.00"
        ],
        [
         330,
         "June",
         "bigeye thresher",
         2023,
         "0.00"
        ],
        [
         331,
         "June",
         "shortfin mako",
         2023,
         "0.00"
        ],
        [
         332,
         "June",
         "mako sharks",
         2023,
         "0.00"
        ],
        [
         333,
         "June",
         "longfin mako",
         2023,
         "0.00"
        ],
        [
         334,
         "June",
         "Spanish mackerel",
         2023,
         "0.00"
        ],
        [
         335,
         "June",
         "swordfish",
         2023,
         "0.00"
        ],
        [
         336,
         "June",
         "blue tilefish",
         2023,
         "0.00"
        ],
        [
         337,
         "June",
         "sand tilefish",
         2023,
         "0.00"
        ],
        [
         338,
         "June",
         "golden tilefish",
         2023,
         "0.00"
        ],
        [
         339,
         "June",
         "unclassified tilefish",
         2023,
         "0.00"
        ],
        [
         340,
         "June",
         "skipjack tuna",
         2023,
         "0.00"
        ],
        [
         341,
         "June",
         "bluefin tuna - UNC",
         2023,
         "0.00"
        ],
        [
         342,
         "June",
         "bluefin tuna - large",
         2023,
         "0.00"
        ],
        [
         343,
         "June",
         "bluefin tuna - young school",
         2023,
         "0.00"
        ],
        [
         344,
         "June",
         "bluefin tuna - small medium",
         2023,
         "0.00"
        ],
        [
         345,
         "June",
         "bluefin tuna - school",
         2023,
         "0.00"
        ],
        [
         346,
         "June",
         "bluefin tuna - large school",
         2023,
         "0.00"
        ],
        [
         347,
         "June",
         "bluefin tuna - large medium",
         2023,
         "0.00"
        ],
        [
         348,
         "June",
         "little tunny",
         2023,
         "0.00"
        ],
        [
         349,
         "June",
         "bigeye tuna",
         2023,
         "0.00"
        ],
        [
         350,
         "June",
         "albacore",
         2023,
         "0.00"
        ],
        [
         351,
         "June",
         "yellowfin tuna",
         2023,
         "0.00"
        ],
        [
         352,
         "June",
         "wahoo",
         2023,
         "0.00"
        ],
        [
         353,
         "June",
         "white shark",
         2023,
         "0.00"
        ],
        [
         354,
         "June",
         "porbeagle shark",
         2023,
         "0.00"
        ],
        [
         355,
         "June",
         "sandbar shark",
         2023,
         "0.00"
        ],
        [
         356,
         "June",
         "dusky shark",
         2023,
         "0.00"
        ],
        [
         357,
         "June",
         "tiger shark",
         2023,
         "0.00"
        ],
        [
         358,
         "June",
         "blue shark",
         2023,
         "0.00"
        ],
        [
         359,
         "June",
         "hammerhead sharks",
         2023,
         "0.00"
        ],
        [
         360,
         "June",
         "blackfin tuna",
         2023,
         "0.00"
        ],
        [
         361,
         "June",
         "greater amberjack",
         2023,
         "0.00"
        ],
        [
         362,
         "June",
         "Atlantic bonito",
         2023,
         "0.00"
        ],
        [
         363,
         "June",
         "dolphin",
         2023,
         "0.00"
        ],
        [
         364,
         "June",
         "king mackerel",
         2023,
         "0.00"
        ],
        [
         365,
         "June",
         "white marlin",
         2023,
         "0.00"
        ],
        [
         366,
         "June",
         "blue marlin",
         2023,
         "0.00"
        ],
        [
         367,
         "June",
         "sailfish",
         2023,
         "0.00"
        ],
        [
         368,
         "June",
         "sand tiger",
         2023,
         "0.00"
        ],
        [
         369,
         "June",
         "thresher sharks",
         2023,
         "0.00"
        ],
        [
         370,
         "June",
         "bigeye thresher",
         2023,
         "0.00"
        ],
        [
         371,
         "June",
         "shortfin mako",
         2023,
         "0.00"
        ],
        [
         372,
         "June",
         "mako sharks",
         2023,
         "0.00"
        ],
        [
         373,
         "June",
         "longfin mako",
         2023,
         "0.00"
        ],
        [
         374,
         "June",
         "Spanish mackerel",
         2023,
         "0.00"
        ],
        [
         375,
         "June",
         "swordfish",
         2023,
         "0.00"
        ],
        [
         376,
         "June",
         "blue tilefish",
         2023,
         "0.00"
        ],
        [
         377,
         "June",
         "sand tilefish",
         2023,
         "0.00"
        ],
        [
         378,
         "June",
         "golden tilefish",
         2023,
         "0.00"
        ],
        [
         379,
         "June",
         "unclassified tilefish",
         2023,
         "0.00"
        ],
        [
         380,
         "June",
         "skipjack tuna",
         2023,
         "0.00"
        ],
        [
         381,
         "June",
         "bluefin tuna - UNC",
         2023,
         "0.00"
        ],
        [
         382,
         "June",
         "bluefin tuna - large",
         2023,
         "0.00"
        ],
        [
         383,
         "June",
         "bluefin tuna - young school",
         2023,
         "0.00"
        ],
        [
         384,
         "June",
         "bluefin tuna - small medium",
         2023,
         "0.00"
        ],
        [
         385,
         "June",
         "bluefin tuna - school",
         2023,
         "0.00"
        ],
        [
         386,
         "June",
         "bluefin tuna - large school",
         2023,
         "0.00"
        ],
        [
         387,
         "June",
         "bluefin tuna - large medium",
         2023,
         "0.00"
        ],
        [
         388,
         "June",
         "little tunny",
         2023,
         "0.00"
        ],
        [
         389,
         "June",
         "bigeye tuna",
         2023,
         "0.00"
        ],
        [
         390,
         "June",
         "albacore",
         2023,
         "0.00"
        ],
        [
         391,
         "June",
         "yellowfin tuna",
         2023,
         "0.00"
        ],
        [
         392,
         "June",
         "wahoo",
         2023,
         "0.00"
        ],
        [
         393,
         "June",
         "white shark",
         2023,
         "0.00"
        ],
        [
         394,
         "June",
         "porbeagle shark",
         2023,
         "0.00"
        ],
        [
         395,
         "June",
         "sandbar shark",
         2023,
         "0.00"
        ],
        [
         396,
         "June",
         "dusky shark",
         2023,
         "0.00"
        ],
        [
         397,
         "June",
         "tiger shark",
         2023,
         "0.00"
        ],
        [
         398,
         "June",
         "blue shark",
         2023,
         "0.00"
        ],
        [
         399,
         "June",
         "hammerhead sharks",
         2023,
         "0.00"
        ],
        [
         400,
         "June",
         "blackfin tuna",
         2023,
         "0.00"
        ],
        [
         401,
         "June",
         "greater amberjack",
         2023,
         "0.00"
        ],
        [
         402,
         "June",
         "Atlantic bonito",
         2023,
         "0.00"
        ],
        [
         403,
         "June",
         "dolphin",
         2023,
         "0.00"
        ],
        [
         404,
         "June",
         "king mackerel",
         2023,
         "0.00"
        ],
        [
         405,
         "June",
         "white marlin",
         2023,
         "0.00"
        ],
        [
         406,
         "June",
         "blue marlin",
         2023,
         "0.00"
        ],
        [
         407,
         "June",
         "sailfish",
         2023,
         "0.00"
        ],
        [
         408,
         "June",
         "sand tiger",
         2023,
         "0.00"
        ],
        [
         409,
         "June",
         "thresher sharks",
         2023,
         "0.00"
        ],
        [
         410,
         "June",
         "bigeye thresher",
         2023,
         "0.00"
        ],
        [
         411,
         "June",
         "shortfin mako",
         2023,
         "0.00"
        ],
        [
         412,
         "June",
         "mako sharks",
         2023,
         "0.00"
        ],
        [
         413,
         "June",
         "longfin mako",
         2023,
         "0.00"
        ],
        [
         414,
         "June",
         "Spanish mackerel",
         2023,
         "0.00"
        ],
        [
         415,
         "June",
         "swordfish",
         2023,
         "0.00"
        ],
        [
         416,
         "June",
         "blue tilefish",
         2023,
         "0.00"
        ],
        [
         417,
         "June",
         "sand tilefish",
         2023,
         "0.00"
        ],
        [
         418,
         "June",
         "golden tilefish",
         2023,
         "0.00"
        ],
        [
         419,
         "June",
         "unclassified tilefish",
         2023,
         "0.00"
        ],
        [
         420,
         "June",
         "skipjack tuna",
         2023,
         "0.00"
        ],
        [
         421,
         "June",
         "bluefin tuna - UNC",
         2023,
         "0.00"
        ],
        [
         422,
         "June",
         "bluefin tuna - large",
         2023,
         "0.00"
        ],
        [
         423,
         "June",
         "bluefin tuna - young school",
         2023,
         "0.00"
        ],
        [
         424,
         "June",
         "bluefin tuna - small medium",
         2023,
         "0.00"
        ],
        [
         425,
         "June",
         "bluefin tuna - school",
         2023,
         "0.00"
        ],
        [
         426,
         "June",
         "bluefin tuna - large school",
         2023,
         "0.00"
        ],
        [
         427,
         "June",
         "bluefin tuna - large medium",
         2023,
         "0.00"
        ],
        [
         428,
         "June",
         "little tunny",
         2023,
         "0.00"
        ],
        [
         429,
         "June",
         "bigeye tuna",
         2023,
         "0.00"
        ],
        [
         430,
         "June",
         "albacore",
         2023,
         "0.00"
        ],
        [
         431,
         "June",
         "yellowfin tuna",
         2023,
         "0.00"
        ],
        [
         432,
         "June",
         "wahoo",
         2023,
         "0.00"
        ],
        [
         433,
         "June",
         "white shark",
         2023,
         "0.00"
        ],
        [
         434,
         "June",
         "porbeagle shark",
         2023,
         "0.00"
        ],
        [
         435,
         "June",
         "sandbar shark",
         2023,
         "0.00"
        ],
        [
         436,
         "June",
         "dusky shark",
         2023,
         "0.00"
        ],
        [
         437,
         "June",
         "tiger shark",
         2023,
         "0.00"
        ],
        [
         438,
         "June",
         "blue shark",
         2023,
         "0.00"
        ],
        [
         439,
         "June",
         "hammerhead sharks",
         2023,
         "0.00"
        ],
        [
         440,
         "June",
         "blackfin tuna",
         2023,
         "0.00"
        ],
        [
         441,
         "June",
         "greater amberjack",
         2023,
         "0.00"
        ],
        [
         442,
         "June",
         "Atlantic bonito",
         2023,
         "0.00"
        ],
        [
         443,
         "June",
         "dolphin",
         2023,
         "0.00"
        ],
        [
         444,
         "June",
         "king mackerel",
         2023,
         "0.00"
        ],
        [
         445,
         "June",
         "white marlin",
         2023,
         "0.00"
        ],
        [
         446,
         "June",
         "blue marlin",
         2023,
         "0.00"
        ],
        [
         447,
         "June",
         "sailfish",
         2023,
         "0.00"
        ],
        [
         448,
         "June",
         "sand tiger",
         2023,
         "0.00"
        ],
        [
         449,
         "June",
         "thresher sharks",
         2023,
         "0.00"
        ],
        [
         450,
         "June",
         "bigeye thresher",
         2023,
         "0.00"
        ],
        [
         451,
         "June",
         "shortfin mako",
         2023,
         "0.00"
        ],
        [
         452,
         "June",
         "mako sharks",
         2023,
         "0.00"
        ],
        [
         453,
         "June",
         "longfin mako",
         2023,
         "0.00"
        ],
        [
         454,
         "June",
         "Spanish mackerel",
         2023,
         "0.00"
        ],
        [
         455,
         "June",
         "swordfish",
         2023,
         "0.00"
        ],
        [
         456,
         "June",
         "blue tilefish",
         2023,
         "0.00"
        ],
        [
         457,
         "June",
         "sand tilefish",
         2023,
         "0.00"
        ],
        [
         458,
         "June",
         "golden tilefish",
         2023,
         "0.00"
        ],
        [
         459,
         "June",
         "unclassified tilefish",
         2023,
         "0.00"
        ],
        [
         460,
         "June",
         "skipjack tuna",
         2023,
         "0.00"
        ],
        [
         461,
         "June",
         "bluefin tuna - UNC",
         2023,
         "0.00"
        ],
        [
         462,
         "June",
         "bluefin tuna - large",
         2023,
         "0.00"
        ],
        [
         463,
         "June",
         "bluefin tuna - young school",
         2023,
         "0.00"
        ],
        [
         464,
         "June",
         "bluefin tuna - small medium",
         2023,
         "0.00"
        ],
        [
         465,
         "June",
         "bluefin tuna - school",
         2023,
         "0.00"
        ],
        [
         466,
         "June",
         "bluefin tuna - large school",
         2023,
         "18.64"
        ],
        [
         467,
         "June",
         "bluefin tuna - large medium",
         2023,
         "0.00"
        ],
        [
         468,
         "June",
         "little tunny",
         2023,
         "0.00"
        ],
        [
         469,
         "June",
         "bigeye tuna",
         2023,
         "0.00"
        ],
        [
         470,
         "June",
         "albacore",
         2023,
         "0.00"
        ],
        [
         471,
         "June",
         "yellowfin tuna",
         2023,
         "0.00"
        ],
        [
         472,
         "June",
         "wahoo",
         2023,
         "0.00"
        ],
        [
         473,
         "June",
         "white shark",
         2023,
         "0.00"
        ],
        [
         474,
         "June",
         "porbeagle shark",
         2023,
         "0.00"
        ],
        [
         475,
         "June",
         "sandbar shark",
         2023,
         "0.00"
        ],
        [
         476,
         "June",
         "dusky shark",
         2023,
         "0.00"
        ],
        [
         477,
         "June",
         "tiger shark",
         2023,
         "0.00"
        ],
        [
         478,
         "June",
         "blue shark",
         2023,
         "0.00"
        ],
        [
         479,
         "June",
         "hammerhead sharks",
         2023,
         "0.00"
        ],
        [
         480,
         "June",
         "blackfin tuna",
         2023,
         "0.00"
        ]
       ],
       "datasetInfos": [
        {
         "name": "_sqldf",
         "schema": {
          "fields": [
           {
            "metadata": {},
            "name": "my_id",
            "nullable": true,
            "type": "long"
           },
           {
            "metadata": {
             "__CHAR_VARCHAR_TYPE_STRING": "varchar(9)"
            },
            "name": "mo_name",
            "nullable": true,
            "type": "string"
           },
           {
            "metadata": {
             "__CHAR_VARCHAR_TYPE_STRING": "varchar(100)"
            },
            "name": "sp_name",
            "nullable": true,
            "type": "string"
           },
           {
            "metadata": {},
            "name": "year",
            "nullable": true,
            "type": "integer"
           },
           {
            "metadata": {},
            "name": "weighed",
            "nullable": true,
            "type": "decimal(10,2)"
           }
          ],
          "type": "struct"
         },
         "tableIdentifier": null,
         "typeStr": "pyspark.sql.connect.dataframe.DataFrame"
        }
       ],
       "dbfsResultPath": null,
       "isJsonSchema": true,
       "metadata": {
        "createTempViewForImplicitDf": true,
        "dataframeName": "_sqldf",
        "executionCount": 44
       },
       "overflow": false,
       "plotOptions": {
        "customPlotOptions": {},
        "displayType": "table",
        "pivotAggregation": null,
        "pivotColumns": null,
        "xColumns": null,
        "yColumns": null
       },
       "removedWidgets": [],
       "schema": [
        {
         "metadata": "{}",
         "name": "my_id",
         "type": "\"long\""
        },
        {
         "metadata": "{\"__CHAR_VARCHAR_TYPE_STRING\": \"varchar(9)\"}",
         "name": "mo_name",
         "type": "\"string\""
        },
        {
         "metadata": "{\"__CHAR_VARCHAR_TYPE_STRING\": \"varchar(100)\"}",
         "name": "sp_name",
         "type": "\"string\""
        },
        {
         "metadata": "{}",
         "name": "year",
         "type": "\"integer\""
        },
        {
         "metadata": "{}",
         "name": "weighed",
         "type": "\"decimal(10,2)\""
        }
       ],
       "type": "table"
      }
     },
     "output_type": "display_data"
    }
   ],
   "source": [
    "%sql\n",
    "--verify that our data is loaded correctly\n",
    "select * from workspace.default.monthly_species_summary"
   ]
  }
 ],
 "metadata": {
  "application/vnd.databricks.v1+notebook": {
   "computePreferences": {
    "hardware": {
     "accelerator": null,
     "gpuPoolId": null,
     "memory": null
    }
   },
   "dashboards": [],
   "environmentMetadata": {
    "base_environment": "",
    "environment_version": "3"
   },
   "inputWidgetPreferences": null,
   "language": "python",
   "notebookMetadata": {
    "mostRecentlyExecutedCommandWithImplicitDF": {
     "commandId": 6395108263808004,
     "dataframes": [
      "_sqldf"
     ]
    },
    "pythonIndentUnit": 4
   },
   "notebookName": "MonthlyFishUpdate",
   "widgets": {
    "dummy": {
     "currentValue": "",
     "nuid": "70d5f408-f46d-41c6-88c1-8e336067e0cb",
     "typedWidgetInfo": {
      "autoCreated": false,
      "defaultValue": "",
      "label": null,
      "name": "dummy",
      "options": {
       "widgetDisplayType": "Text",
       "validationRegex": null
      },
      "parameterDataType": "String"
     },
     "widgetInfo": {
      "widgetType": "text",
      "defaultValue": "",
      "label": null,
      "name": "dummy",
      "options": {
       "widgetType": "text",
       "autoCreated": null,
       "validationRegex": null
      }
     }
    }
   }
  },
  "language_info": {
   "name": "python"
  }
 },
 "nbformat": 4,
 "nbformat_minor": 0
}